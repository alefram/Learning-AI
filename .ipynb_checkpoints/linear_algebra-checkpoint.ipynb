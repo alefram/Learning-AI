{
 "cells": [
  {
   "cell_type": "markdown",
   "metadata": {},
   "source": [
    "# Vectors"
   ]
  },
  {
   "cell_type": "code",
   "execution_count": 1,
   "metadata": {},
   "outputs": [],
   "source": [
    "import numpy as np\n",
    "import matplotlib.pyplot as plt\n"
   ]
  },
  {
   "cell_type": "code",
   "execution_count": 43,
   "metadata": {},
   "outputs": [
    {
     "data": {
      "image/png": "[encoded data removed]",
      "text/plain": [
       "<Figure size 432x288 with 1 Axes>"
      ]
     },
     "metadata": {
      "needs_background": "light"
     },
     "output_type": "display_data"
    }
   ],
   "source": [
    "# dibujar vectores\n",
    "# vector = plt.quiver(0,0,5,5, color='b', units='xy', scale=1)\n",
    "\n",
    "fig = plt.figure()\n",
    "ax = fig.add_subplot(1, 1, 1)\n",
    "\n",
    "plt.quiver(0,0,5,5, color='b', units='xy', scale=1)\n",
    "\n",
    "# Move left y-axis and bottim x-axis to centre, passing through (0,0)\n",
    "ax.spines['left'].set_position('center')\n",
    "ax.spines['bottom'].set_position('center')\n",
    "\n",
    "# Eliminate upper and right axes\n",
    "ax.spines['right'].set_color('none')\n",
    "ax.spines['top'].set_color('none')\n",
    "\n",
    "# Show ticks in the left and lower axes only\n",
    "ax.xaxis.set_ticks_position('bottom')\n",
    "ax.yaxis.set_ticks_position('left')\n",
    "\n",
    "plt.xlim(-10, 10)\n",
    "plt.ylim(-10, 10,)\n",
    "plt.grid()\n",
    "  \n",
    "plt.show()"
   ]
  },
  {
   "cell_type": "code",
   "execution_count": null,
   "metadata": {},
   "outputs": [],
   "source": [
    "# use ggplot style for more sophisticated visuals\n",
    "plt.style.use('ggplot')\n",
    "\n",
    "def live_plotter(x_vec,y1_data,line1,identifier='',pause_time=0.1):\n",
    "    if line1==[]:\n",
    "        # this is the call to matplotlib that allows dynamic plotting\n",
    "        plt.ion()\n",
    "        fig = plt.figure(figsize=(13,6))\n",
    "        ax = fig.add_subplot(111)\n",
    "        # create a variable for the line so we can later update it\n",
    "        line1, = ax.plot(x_vec,y1_data,'-o',alpha=0.8)        \n",
    "        #update plot label/title\n",
    "        plt.ylabel('Y Label')\n",
    "        plt.title('Title: {}'.format(identifier))\n",
    "        plt.show()\n",
    "    \n",
    "    # after the figure, axis, and line are created, we only need to update the y-data\n",
    "    line1.set_ydata(y1_data)\n",
    "    # adjust limits if new data goes beyond bounds\n",
    "    if np.min(y1_data)<=line1.axes.get_ylim()[0] or np.max(y1_data)>=line1.axes.get_ylim()[1]:\n",
    "        plt.ylim([np.min(y1_data)-np.std(y1_data),np.max(y1_data)+np.std(y1_data)])\n",
    "    # this pauses the data so the figure/axis can catch up - the amount of pause can be altered above\n",
    "    plt.pause(pause_time)\n",
    "    \n",
    "    # return line so we can update it again in the next iteration\n",
    "    return line1\n",
    "x = np.arange(1,11,1)\n",
    "y = x\n",
    "\n",
    "size = 100\n",
    "x_vec = np.linspace(0,1,size+1)[0:-1]\n",
    "y_vec = np.random.randn(len(x_vec))\n",
    "line1 = []\n",
    "while True:\n",
    "    rand_val = np.random.randn(1)\n",
    "    y_vec[-1] = rand_val\n",
    "    line1 = live_plotter(x_vec,y_vec,line1)\n",
    "    y_vec = np.append(y_vec[1:],0.0)\n"
   ]
  }
 ],
 "metadata": {
  "kernelspec": {
   "display_name": "Python 3",
   "language": "python",
   "name": "python3"
  },
  "language_info": {
   "codemirror_mode": {
    "name": "ipython",
    "version": 3
   },
   "file_extension": ".py",
   "mimetype": "text/x-python",
   "name": "python",
   "nbconvert_exporter": "python",
   "pygments_lexer": "ipython3",
   "version": "3.6.9"
  }
 },
 "nbformat": 4,
 "nbformat_minor": 4
}
