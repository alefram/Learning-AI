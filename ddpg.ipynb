{
 "cells": [
  {
   "cell_type": "markdown",
   "id": "e524b141",
   "metadata": {},
   "source": [
    "# DDPG algorithm in flax"
   ]
  },
  {
   "cell_type": "code",
   "execution_count": 1,
   "id": "59b15bcf",
   "metadata": {
    "tags": []
   },
   "outputs": [],
   "source": [
    "import gymnasium as gym\n",
    "import numpy as np\n",
    "from collections import deque\n",
    "import optax\n",
    "import matplotlib.pyplot as plt\n",
    "import time\n",
    "\n",
    "import jax.tree_util as jtu\n",
    "from jax import random\n",
    "import jax.numpy as jnp\n",
    "import jax\n",
    "\n",
    "from flax.training import train_state, orbax_utils\n",
    "from flax import linen as nn  # Linen API\n",
    "\n",
    "from tqdm import tqdm\n",
    "import orbax.checkpoint\n",
    "import os\n",
    "import shutil\n",
    "\n",
    "F_CPP_MIN_LOG_LEVEL=0"
   ]
  },
  {
   "cell_type": "code",
   "execution_count": 1,
   "id": "e5691d42",
   "metadata": {
    "tags": []
   },
   "outputs": [],
   "source": [
    "ckpt_dir = './agent' # create the agent folder"
   ]
  },
  {
   "cell_type": "markdown",
   "id": "b25a9a29",
   "metadata": {},
   "source": [
    "## Usefull Methods"
   ]
  },
  {
   "cell_type": "code",
   "execution_count": 3,
   "id": "a764cb53",
   "metadata": {
    "tags": []
   },
   "outputs": [
    {
     "name": "stderr",
     "output_type": "stream",
     "text": [
      "No GPU/TPU found, falling back to CPU. (Set TF_CPP_MIN_LOG_LEVEL=0 and rerun for more info.)\n"
     ]
    }
   ],
   "source": [
    "#random process N for action exploration\n",
    "@jtu.Partial(jax.jit, static_argnums=2)\n",
    "def noise(noise_scale=0.1, key=random.PRNGKey(0), action_dim=2):\n",
    "    return noise_scale * jax.random.normal(key, (action_dim,))"
   ]
  },
  {
   "cell_type": "code",
   "execution_count": 4,
   "id": "ca06c72c",
   "metadata": {
    "tags": []
   },
   "outputs": [],
   "source": [
    "# Define the method to update model parameters\n",
    "\n",
    "# update critic\n",
    "@jax.jit\n",
    "def update_critic(model, states, actions, y):\n",
    "    def compute_critic_loss(params):\n",
    "        Q = model.apply_fn(params, states, actions)\n",
    "        \n",
    "        return jnp.mean((Q - y)**2) #compute loss\n",
    "    \n",
    "    loss, grads = jax.value_and_grad(compute_critic_loss)(model.params)\n",
    "    updated_model = model.apply_gradients(grads=grads)\n",
    "   \n",
    "    return updated_model, loss\n",
    "\n",
    "# udate actor\n",
    "@jtu.Partial(jax.jit, static_argnums=(2,))\n",
    "def update_actor(model, states, action_dim):\n",
    "    def compute_actor_loss(params):\n",
    "        actions = model.apply_fn(params, states, action_dim)\n",
    "\n",
    "        return -jnp.mean(actions)  # Compute the actor loss\n",
    "\n",
    "    loss, grads = jax.value_and_grad(compute_actor_loss)(model.params)\n",
    "    updated_model = model.apply_gradients(grads=grads)\n",
    "\n",
    "    return updated_model, loss\n",
    "\n",
    "# Define the soft update function\n",
    "@jax.jit\n",
    "def soft_update(target_params, source_params, tau):\n",
    "    # Convert the source_params to a JAX-compatible data structure\n",
    "    source_params_tree = jtu.tree_map(lambda x: jnp.asarray(x), source_params)\n",
    "    target_params_tree = jtu.tree_map(lambda x: jnp.asarray(x), target_params)\n",
    "\n",
    "    # Compute the updated target parameters using a soft update\n",
    "    updated_params = jtu.tree_map(lambda x, y: tau * x + (1 - tau) * y,\n",
    "                                  source_params_tree, target_params_tree)\n",
    "\n",
    "    return updated_params"
   ]
  },
  {
   "cell_type": "markdown",
   "id": "67bb8988-b86d-4a4a-b5d5-16bc53c509e7",
   "metadata": {},
   "source": [
    "## Define ReplayBuffer"
   ]
  },
  {
   "cell_type": "code",
   "execution_count": 5,
   "id": "2b1d002d-136a-4677-bc5e-6a29b376062b",
   "metadata": {
    "tags": []
   },
   "outputs": [],
   "source": [
    "# define the replay buffer\n",
    "class ReplayBuffer():\n",
    "    def __init__(self, buffer_size, batch_size, key):\n",
    "        self.buffer_size = buffer_size\n",
    "        self.batch_size = batch_size\n",
    "        self.buffer = deque(maxlen=self.buffer_size)\n",
    "        self.key = key\n",
    "\n",
    "    def add(self, transition):\n",
    "        self.buffer.append(transition)\n",
    "\n",
    "    def sample_batch(self):\n",
    "        indices = jax.random.choice(self.key, len(self.buffer),\n",
    "                                    shape=(self.batch_size,), replace=True)\n",
    "        batch = [self.buffer[i] for i in indices]\n",
    "\n",
    "        return zip(*batch)"
   ]
  },
  {
   "cell_type": "markdown",
   "id": "a7a71636",
   "metadata": {},
   "source": [
    "## Define actor and critic model"
   ]
  },
  {
   "cell_type": "code",
   "execution_count": 6,
   "id": "44c7fe1b",
   "metadata": {
    "tags": []
   },
   "outputs": [],
   "source": [
    "#create the actor and critic newtorks like multilayer perceptrons\n",
    "class Critic(nn.Module):\n",
    "    \"\"\"critic model MLP\"\"\"\n",
    "    \n",
    "    @nn.compact\n",
    "    def __call__(self, observations, actions):\n",
    "        x = jnp.concatenate([observations, actions], axis=-1)\n",
    "        x = nn.Dense(features=256)(x)\n",
    "        x = nn.relu(x)\n",
    "        x = nn.Dense(features=256)(x)\n",
    "        x = nn.relu(x)\n",
    "        x = nn.Dense(features=1)(x)\n",
    "        return jnp.squeeze(x, axis=-1)\n",
    "    \n",
    "class Actor(nn.Module):\n",
    "    \"\"\"actor model MLP\"\"\"\n",
    "    \n",
    "    @nn.compact\n",
    "    def __call__(self, x, action_dim):\n",
    "        x = nn.Dense(features=256)(x)\n",
    "        x = nn.relu(x)\n",
    "        x = nn.Dense(features=256)(x)\n",
    "        x = nn.relu(x)\n",
    "        x = nn.Dense(features=action_dim)(x)\n",
    "        x = nn.tanh(x)\n",
    "        return x"
   ]
  },
  {
   "cell_type": "markdown",
   "id": "fc9e8513",
   "metadata": {},
   "source": [
    "## Define algorithm parameters"
   ]
  },
  {
   "cell_type": "code",
   "execution_count": 54,
   "id": "3d0967cc-3733-4ef2-9b3c-6fc7e8694a75",
   "metadata": {
    "tags": []
   },
   "outputs": [],
   "source": [
    "# define environment and parameters\n",
    "env = gym.make(\"InvertedPendulum-v4\")\n",
    "action_dim = env.action_space.shape[0]\n",
    "state_dim = env.observation_space.shape[0]\n",
    "\n",
    "#initialize parameters\n",
    "seed = 0\n",
    "key = random.PRNGKey(seed)\n",
    "episodes = 50\n",
    "gamma = 0.99 #discount factor 0:nearly rewards, 1:future rewards\n",
    "tau = 0.995 #polyak between 0-1 updating target network\n",
    "max_episode_steps = 1000\n",
    "buffer_size = 1000000 #memory size\n",
    "batch_size = 100 #The number of experiences sampled from the replay buffer\n",
    "learning_rate = 0.001\n",
    "noise_scale = 0.1 #scale of the noise for random process N for action exploration\n",
    "start_steps = 1000 # Number of steps for uniform-random action selection,before running real policy. Helps exploration.\n",
    "\n",
    "env = gym.wrappers.RecordEpisodeStatistics(env, deque_size=max_episode_steps)\n",
    "\n",
    "if os.path.exists(ckpt_dir):\n",
    "    shutil.rmtree(ckpt_dir)"
   ]
  },
  {
   "cell_type": "markdown",
   "id": "6ff5afde-d37d-4a65-8af7-316be0f76dbf",
   "metadata": {},
   "source": [
    "## Initialize models and buffer"
   ]
  },
  {
   "cell_type": "code",
   "execution_count": 55,
   "id": "af776785",
   "metadata": {
    "tags": []
   },
   "outputs": [],
   "source": [
    "# Randomly initialize critic network Q(s, a|θ_Q ) and actor μ(s|θ_μ ) with weights θ_Q and θ_μ .\n",
    "critic_params = Critic().init(key,\n",
    "                              jnp.zeros((1, state_dim)),\n",
    "                              jnp.zeros((1, action_dim)))\n",
    "\n",
    "actor_params = Actor().init(key, jnp.zeros((1, state_dim)), action_dim)\n",
    "\n",
    "# define optimizers\n",
    "actor_optimizer = optax.adam(learning_rate=learning_rate)\n",
    "actor_opt_state = actor_optimizer.init(actor_params)\n",
    "\n",
    "critic_optimizer = optax.adam(learning_rate=learning_rate)\n",
    "critic_opt_state = critic_optimizer.init(critic_params)\n",
    "\n",
    "# Initialize the training state for flax porpuses\n",
    "critic = train_state.TrainState.create(\n",
    "    apply_fn=Critic().apply,\n",
    "    params=critic_params,\n",
    "    tx=critic_optimizer\n",
    ")\n",
    "\n",
    "actor = train_state.TrainState.create(\n",
    "    apply_fn=Actor().apply,\n",
    "    params=actor_params,\n",
    "    tx=actor_optimizer,\n",
    ")\n",
    "\n",
    "# to save agent\n",
    "config = {'dimensions': jnp.array([5,3]), 'name': 'actor'}\n",
    "ckpt = {'model': actor, 'config': config, 'data': actor_params}\n",
    "\n",
    "# print(Actor().tabulate(key, (1, state_dim), action_dim))\n",
    "# print(Critic().tabulate(key, jnp.ones((1,action_dim)), jnp.ones((1,state_dim))))"
   ]
  },
  {
   "cell_type": "code",
   "execution_count": 56,
   "id": "b4fede34",
   "metadata": {
    "tags": []
   },
   "outputs": [],
   "source": [
    "# Initialize target network Q_0_target and μ_0_target with weights \n",
    "# θ_Q_target ← θ_Q , θ_μ_target ← θ_μ\n",
    "\n",
    "target_critic_params = critic_params\n",
    "target_actor_params = actor_params\n",
    "\n",
    "# Initialize the training state for flax porpuses\n",
    "target_critic = train_state.TrainState.create(\n",
    "    apply_fn=Critic().apply,\n",
    "    params=target_critic_params,\n",
    "    tx=critic_optimizer\n",
    ")\n",
    "\n",
    "target_actor = train_state.TrainState.create(\n",
    "    apply_fn=Actor().apply,\n",
    "    params=target_actor_params,\n",
    "    tx=actor_optimizer\n",
    ")"
   ]
  },
  {
   "cell_type": "code",
   "execution_count": 57,
   "id": "80f4b370",
   "metadata": {
    "tags": []
   },
   "outputs": [],
   "source": [
    "# Initialize replay buffer R\n",
    "buffer = ReplayBuffer(buffer_size, batch_size, key)"
   ]
  },
  {
   "cell_type": "markdown",
   "id": "dd0dbd9c-a50a-477b-b860-f7a39d12ac9d",
   "metadata": {
    "tags": []
   },
   "source": [
    "## Training"
   ]
  },
  {
   "cell_type": "code",
   "execution_count": 60,
   "id": "670e041a",
   "metadata": {
    "tags": []
   },
   "outputs": [
    {
     "name": "stderr",
     "output_type": "stream",
     "text": [
      "  2%|███▏                                                                                                                                                           | 1/50 [00:01<01:19,  1.62s/it]"
     ]
    },
    {
     "name": "stdout",
     "output_type": "stream",
     "text": [
      "Episode: 1 \n",
      "\n",
      "Average reward: 5\n",
      "Critic loss: 9.177793\n",
      "Actor loss: -0.12141443\n"
     ]
    },
    {
     "name": "stderr",
     "output_type": "stream",
     "text": [
      "  4%|██████▎                                                                                                                                                        | 2/50 [00:01<00:38,  1.26it/s]"
     ]
    },
    {
     "name": "stdout",
     "output_type": "stream",
     "text": [
      "Episode: 2 \n",
      "\n",
      "Average reward: 5\n",
      "Critic loss: 8.19771\n",
      "Actor loss: -0.17963336\n"
     ]
    },
    {
     "name": "stderr",
     "output_type": "stream",
     "text": [
      "  6%|█████████▌                                                                                                                                                     | 3/50 [00:02<00:25,  1.82it/s]"
     ]
    },
    {
     "name": "stdout",
     "output_type": "stream",
     "text": [
      "Episode: 3 \n",
      "\n",
      "Average reward: 5\n",
      "Critic loss: 7.29376\n",
      "Actor loss: -0.2776875\n"
     ]
    },
    {
     "name": "stderr",
     "output_type": "stream",
     "text": [
      "  8%|████████████▋                                                                                                                                                  | 4/50 [00:02<00:19,  2.33it/s]"
     ]
    },
    {
     "name": "stdout",
     "output_type": "stream",
     "text": [
      "Episode: 4 \n",
      "\n",
      "Average reward: 5\n",
      "Critic loss: 8.696298\n",
      "Actor loss: -0.39980024\n"
     ]
    },
    {
     "name": "stderr",
     "output_type": "stream",
     "text": [
      " 10%|███████████████▉                                                                                                                                               | 5/50 [00:03<00:28,  1.59it/s]"
     ]
    },
    {
     "name": "stdout",
     "output_type": "stream",
     "text": [
      "Episode: 5 \n",
      "\n",
      "Average reward: 5\n",
      "Critic loss: 83.34178\n",
      "Actor loss: -0.9054367\n"
     ]
    },
    {
     "name": "stderr",
     "output_type": "stream",
     "text": [
      " 12%|███████████████████                                                                                                                                            | 6/50 [00:03<00:23,  1.85it/s]"
     ]
    },
    {
     "name": "stdout",
     "output_type": "stream",
     "text": [
      "Episode: 6 \n",
      "\n",
      "Average reward: 5\n",
      "Critic loss: 106.578476\n",
      "Actor loss: -0.9630049\n"
     ]
    },
    {
     "name": "stderr",
     "output_type": "stream",
     "text": [
      " 16%|█████████████████████████▍                                                                                                                                     | 8/50 [00:04<00:16,  2.61it/s]"
     ]
    },
    {
     "name": "stdout",
     "output_type": "stream",
     "text": [
      "Episode: 7 \n",
      "\n",
      "Average reward: 5\n",
      "Critic loss: 98.97372\n",
      "Actor loss: -0.98186064\n",
      "Episode: 8 \n",
      "\n",
      "Average reward: 5\n",
      "Critic loss: 81.604805\n",
      "Actor loss: -0.9874687\n"
     ]
    },
    {
     "name": "stderr",
     "output_type": "stream",
     "text": [
      " 18%|████████████████████████████▌                                                                                                                                  | 9/50 [00:04<00:13,  3.11it/s]"
     ]
    },
    {
     "name": "stdout",
     "output_type": "stream",
     "text": [
      "Episode: 9 \n",
      "\n",
      "Average reward: 5\n",
      "Critic loss: 78.724014\n",
      "Actor loss: -0.99092156\n"
     ]
    },
    {
     "name": "stderr",
     "output_type": "stream",
     "text": [
      " 22%|██████████████████████████████████▊                                                                                                                           | 11/50 [00:04<00:10,  3.56it/s]"
     ]
    },
    {
     "name": "stdout",
     "output_type": "stream",
     "text": [
      "Episode: 10 \n",
      "\n",
      "Average reward: 5\n",
      "Critic loss: 54.6701\n",
      "Actor loss: -0.9941391\n",
      "Episode: 11 \n",
      "\n",
      "Average reward: 5\n",
      "Critic loss: 51.56526\n",
      "Actor loss: -0.9952504\n"
     ]
    },
    {
     "name": "stderr",
     "output_type": "stream",
     "text": [
      " 24%|█████████████████████████████████████▉                                                                                                                        | 12/50 [00:05<00:09,  3.88it/s]"
     ]
    },
    {
     "name": "stdout",
     "output_type": "stream",
     "text": [
      "Episode: 12 \n",
      "\n",
      "Average reward: 5\n",
      "Critic loss: 45.51786\n",
      "Actor loss: -0.99602336\n"
     ]
    },
    {
     "name": "stderr",
     "output_type": "stream",
     "text": [
      " 26%|█████████████████████████████████████████                                                                                                                     | 13/50 [00:06<00:17,  2.15it/s]"
     ]
    },
    {
     "name": "stdout",
     "output_type": "stream",
     "text": [
      "Episode: 13 \n",
      "\n",
      "Average reward: 5\n",
      "Critic loss: 105.60348\n",
      "Actor loss: -0.99779433\n"
     ]
    },
    {
     "name": "stderr",
     "output_type": "stream",
     "text": [
      " 28%|████████████████████████████████████████████▏                                                                                                                 | 14/50 [00:06<00:19,  1.83it/s]"
     ]
    },
    {
     "name": "stdout",
     "output_type": "stream",
     "text": [
      "Episode: 14 \n",
      "\n",
      "Average reward: 5\n",
      "Critic loss: 240.44995\n",
      "Actor loss: -0.9982714\n"
     ]
    },
    {
     "name": "stderr",
     "output_type": "stream",
     "text": [
      " 32%|██████████████████████████████████████████████████▌                                                                                                           | 16/50 [00:07<00:12,  2.68it/s]"
     ]
    },
    {
     "name": "stdout",
     "output_type": "stream",
     "text": [
      "Episode: 15 \n",
      "\n",
      "Average reward: 5\n",
      "Critic loss: 284.71014\n",
      "Actor loss: -0.99838024\n",
      "Episode: 16 \n",
      "\n",
      "Average reward: 5\n",
      "Critic loss: 337.14655\n",
      "Actor loss: -0.9984524\n"
     ]
    },
    {
     "name": "stderr",
     "output_type": "stream",
     "text": [
      " 34%|█████████████████████████████████████████████████████▋                                                                                                        | 17/50 [00:07<00:12,  2.61it/s]"
     ]
    },
    {
     "name": "stdout",
     "output_type": "stream",
     "text": [
      "Episode: 17 \n",
      "\n",
      "Average reward: 5\n",
      "Critic loss: 314.5257\n",
      "Actor loss: -0.9985974\n"
     ]
    },
    {
     "name": "stderr",
     "output_type": "stream",
     "text": [
      " 36%|████████████████████████████████████████████████████████▉                                                                                                     | 18/50 [00:07<00:10,  2.92it/s]"
     ]
    },
    {
     "name": "stdout",
     "output_type": "stream",
     "text": [
      "Episode: 18 \n",
      "\n",
      "Average reward: 5\n",
      "Critic loss: 350.5653\n",
      "Actor loss: -0.9986691\n"
     ]
    },
    {
     "name": "stderr",
     "output_type": "stream",
     "text": [
      " 38%|████████████████████████████████████████████████████████████                                                                                                  | 19/50 [00:08<00:10,  2.87it/s]"
     ]
    },
    {
     "name": "stdout",
     "output_type": "stream",
     "text": [
      "Episode: 19 \n",
      "\n",
      "Average reward: 5\n",
      "Critic loss: 370.47546\n",
      "Actor loss: -0.9987655\n"
     ]
    },
    {
     "name": "stderr",
     "output_type": "stream",
     "text": [
      " 40%|███████████████████████████████████████████████████████████████▏                                                                                              | 20/50 [00:08<00:09,  3.16it/s]"
     ]
    },
    {
     "name": "stdout",
     "output_type": "stream",
     "text": [
      "Episode: 20 \n",
      "\n",
      "Average reward: 5\n",
      "Critic loss: 371.46796\n",
      "Actor loss: -0.9988238\n"
     ]
    },
    {
     "name": "stderr",
     "output_type": "stream",
     "text": [
      " 42%|██████████████████████████████████████████████████████████████████▎                                                                                           | 21/50 [00:08<00:08,  3.40it/s]"
     ]
    },
    {
     "name": "stdout",
     "output_type": "stream",
     "text": [
      "Episode: 21 \n",
      "\n",
      "Average reward: 5\n",
      "Critic loss: 411.54468\n",
      "Actor loss: -0.99887764\n"
     ]
    },
    {
     "name": "stderr",
     "output_type": "stream",
     "text": [
      " 46%|████████████████████████████████████████████████████████████████████████▋                                                                                     | 23/50 [00:09<00:08,  3.23it/s]"
     ]
    },
    {
     "name": "stdout",
     "output_type": "stream",
     "text": [
      "Episode: 22 \n",
      "\n",
      "Average reward: 5\n",
      "Critic loss: 539.3708\n",
      "Actor loss: -0.9989865\n",
      "Episode: 23 \n",
      "\n",
      "Average reward: 5\n",
      "Critic loss: 620.0773\n",
      "Actor loss: -0.99901915\n"
     ]
    },
    {
     "name": "stderr",
     "output_type": "stream",
     "text": [
      " 50%|███████████████████████████████████████████████████████████████████████████████                                                                               | 25/50 [00:10<00:08,  2.80it/s]"
     ]
    },
    {
     "name": "stdout",
     "output_type": "stream",
     "text": [
      "Episode: 24 \n",
      "\n",
      "Average reward: 5\n",
      "Critic loss: 988.91016\n",
      "Actor loss: -0.9991363\n",
      "Episode: 25 \n",
      "\n",
      "Average reward: 5\n",
      "Critic loss: 992.75073\n",
      "Actor loss: -0.9991627\n"
     ]
    },
    {
     "name": "stderr",
     "output_type": "stream",
     "text": [
      " 52%|██████████████████████████████████████████████████████████████████████████████████▏                                                                           | 26/50 [00:10<00:08,  2.70it/s]"
     ]
    },
    {
     "name": "stdout",
     "output_type": "stream",
     "text": [
      "Episode: 26 \n",
      "\n",
      "Average reward: 5\n",
      "Critic loss: 1395.5857\n",
      "Actor loss: -0.99921966\n"
     ]
    },
    {
     "name": "stderr",
     "output_type": "stream",
     "text": [
      " 54%|█████████████████████████████████████████████████████████████████████████████████████▎                                                                        | 27/50 [00:11<00:08,  2.78it/s]"
     ]
    },
    {
     "name": "stdout",
     "output_type": "stream",
     "text": [
      "Episode: 27 \n",
      "\n",
      "Average reward: 5\n",
      "Critic loss: 1507.4506\n",
      "Actor loss: -0.999257\n"
     ]
    },
    {
     "name": "stderr",
     "output_type": "stream",
     "text": [
      " 58%|███████████████████████████████████████████████████████████████████████████████████████████▋                                                                  | 29/50 [00:11<00:07,  2.94it/s]"
     ]
    },
    {
     "name": "stdout",
     "output_type": "stream",
     "text": [
      "Episode: 28 \n",
      "\n",
      "Average reward: 5\n",
      "Critic loss: 1939.454\n",
      "Actor loss: -0.99931836\n",
      "Episode: 29 \n",
      "\n",
      "Average reward: 5\n",
      "Critic loss: 2486.392\n",
      "Actor loss: -0.9993371\n"
     ]
    },
    {
     "name": "stderr",
     "output_type": "stream",
     "text": [
      " 62%|█████████████████████████████████████████████████████████████████████████████████████████████████▉                                                            | 31/50 [00:12<00:07,  2.53it/s]"
     ]
    },
    {
     "name": "stdout",
     "output_type": "stream",
     "text": [
      "Episode: 30 \n",
      "\n",
      "Average reward: 5\n",
      "Critic loss: 4785.2837\n",
      "Actor loss: -0.99941623\n",
      "Episode: 31 \n",
      "\n",
      "Average reward: 5\n",
      "Critic loss: 6065.215\n",
      "Actor loss: -0.99943143\n"
     ]
    },
    {
     "name": "stderr",
     "output_type": "stream",
     "text": [
      " 64%|█████████████████████████████████████████████████████████████████████████████████████████████████████                                                         | 32/50 [00:13<00:09,  1.94it/s]"
     ]
    },
    {
     "name": "stdout",
     "output_type": "stream",
     "text": [
      "Episode: 32 \n",
      "\n",
      "Average reward: 5\n",
      "Critic loss: 9370.2\n",
      "Actor loss: -0.9995038\n"
     ]
    },
    {
     "name": "stderr",
     "output_type": "stream",
     "text": [
      " 66%|████████████████████████████████████████████████████████████████████████████████████████████████████████▎                                                     | 33/50 [00:13<00:07,  2.13it/s]"
     ]
    },
    {
     "name": "stdout",
     "output_type": "stream",
     "text": [
      "Episode: 33 \n",
      "\n",
      "Average reward: 5\n",
      "Critic loss: 11362.417\n",
      "Actor loss: -0.9995409\n"
     ]
    },
    {
     "name": "stderr",
     "output_type": "stream",
     "text": [
      " 68%|███████████████████████████████████████████████████████████████████████████████████████████████████████████▍                                                  | 34/50 [00:14<00:07,  2.27it/s]"
     ]
    },
    {
     "name": "stdout",
     "output_type": "stream",
     "text": [
      "Episode: 34 \n",
      "\n",
      "Average reward: 5\n",
      "Critic loss: 12757.797\n",
      "Actor loss: -0.99957854\n"
     ]
    },
    {
     "name": "stderr",
     "output_type": "stream",
     "text": [
      " 70%|██████████████████████████████████████████████████████████████████████████████████████████████████████████████▌                                               | 35/50 [00:15<00:08,  1.71it/s]"
     ]
    },
    {
     "name": "stdout",
     "output_type": "stream",
     "text": [
      "Episode: 35 \n",
      "\n",
      "Average reward: 6\n",
      "Critic loss: 21894.355\n",
      "Actor loss: -0.9996742\n"
     ]
    },
    {
     "name": "stderr",
     "output_type": "stream",
     "text": [
      " 72%|█████████████████████████████████████████████████████████████████████████████████████████████████████████████████▊                                            | 36/50 [00:15<00:07,  1.97it/s]"
     ]
    },
    {
     "name": "stdout",
     "output_type": "stream",
     "text": [
      "Episode: 36 \n",
      "\n",
      "Average reward: 6\n",
      "Critic loss: 24343.477\n",
      "Actor loss: -0.99970084\n"
     ]
    },
    {
     "name": "stderr",
     "output_type": "stream",
     "text": [
      " 76%|████████████████████████████████████████████████████████████████████████████████████████████████████████████████████████                                      | 38/50 [00:16<00:04,  2.42it/s]"
     ]
    },
    {
     "name": "stdout",
     "output_type": "stream",
     "text": [
      "Episode: 37 \n",
      "\n",
      "Average reward: 6\n",
      "Critic loss: 39699.625\n",
      "Actor loss: -0.9997441\n",
      "Episode: 38 \n",
      "\n",
      "Average reward: 6\n",
      "Critic loss: 37366.6\n",
      "Actor loss: -0.99975705\n"
     ]
    },
    {
     "name": "stderr",
     "output_type": "stream",
     "text": [
      " 78%|███████████████████████████████████████████████████████████████████████████████████████████████████████████████████████████▏                                  | 39/50 [00:16<00:03,  2.88it/s]"
     ]
    },
    {
     "name": "stdout",
     "output_type": "stream",
     "text": [
      "Episode: 39 \n",
      "\n",
      "Average reward: 6\n",
      "Critic loss: 40215.93\n",
      "Actor loss: -0.9997694\n"
     ]
    },
    {
     "name": "stderr",
     "output_type": "stream",
     "text": [
      " 80%|██████████████████████████████████████████████████████████████████████████████████████████████████████████████████████████████▍                               | 40/50 [00:16<00:03,  3.01it/s]"
     ]
    },
    {
     "name": "stdout",
     "output_type": "stream",
     "text": [
      "Episode: 40 \n",
      "\n",
      "Average reward: 5\n",
      "Critic loss: 40327.535\n",
      "Actor loss: -0.99978846\n"
     ]
    },
    {
     "name": "stderr",
     "output_type": "stream",
     "text": [
      " 82%|█████████████████████████████████████████████████████████████████████████████████████████████████████████████████████████████████▌                            | 41/50 [00:16<00:02,  3.28it/s]"
     ]
    },
    {
     "name": "stdout",
     "output_type": "stream",
     "text": [
      "Episode: 41 \n",
      "\n",
      "Average reward: 5\n",
      "Critic loss: 35982.453\n",
      "Actor loss: -0.99980223\n"
     ]
    },
    {
     "name": "stderr",
     "output_type": "stream",
     "text": [
      " 84%|████████████████████████████████████████████████████████████████████████████████████████████████████████████████████████████████████▋                         | 42/50 [00:17<00:02,  3.41it/s]"
     ]
    },
    {
     "name": "stdout",
     "output_type": "stream",
     "text": [
      "Episode: 42 \n",
      "\n",
      "Average reward: 5\n",
      "Critic loss: 38987.367\n",
      "Actor loss: -0.9998151\n"
     ]
    },
    {
     "name": "stderr",
     "output_type": "stream",
     "text": [
      " 88%|███████████████████████████████████████████████████████████████████████████████████████████████████████████████████████████████████████████                   | 44/50 [00:17<00:01,  3.84it/s]"
     ]
    },
    {
     "name": "stdout",
     "output_type": "stream",
     "text": [
      "Episode: 43 \n",
      "\n",
      "Average reward: 5\n",
      "Critic loss: 36864.664\n",
      "Actor loss: -0.9998297\n",
      "Episode: 44 \n",
      "\n",
      "Average reward: 5\n",
      "Critic loss: 28860.654\n",
      "Actor loss: -0.9998379\n"
     ]
    },
    {
     "name": "stderr",
     "output_type": "stream",
     "text": [
      " 90%|██████████████████████████████████████████████████████████████████████████████████████████████████████████████████████████████████████████████▏               | 45/50 [00:18<00:01,  3.56it/s]"
     ]
    },
    {
     "name": "stdout",
     "output_type": "stream",
     "text": [
      "Episode: 45 \n",
      "\n",
      "Average reward: 5\n",
      "Critic loss: 35432.84\n",
      "Actor loss: -0.9998503\n"
     ]
    },
    {
     "name": "stderr",
     "output_type": "stream",
     "text": [
      " 92%|█████████████████████████████████████████████████████████████████████████████████████████████████████████████████████████████████████████████████▎            | 46/50 [00:18<00:01,  3.11it/s]"
     ]
    },
    {
     "name": "stdout",
     "output_type": "stream",
     "text": [
      "Episode: 46 \n",
      "\n",
      "Average reward: 5\n",
      "Critic loss: 35176.242\n",
      "Actor loss: -0.99986565\n"
     ]
    },
    {
     "name": "stderr",
     "output_type": "stream",
     "text": [
      " 94%|████████████████████████████████████████████████████████████████████████████████████████████████████████████████████████████████████████████████████▌         | 47/50 [00:18<00:00,  3.34it/s]"
     ]
    },
    {
     "name": "stdout",
     "output_type": "stream",
     "text": [
      "Episode: 47 \n",
      "\n",
      "Average reward: 5\n",
      "Critic loss: 35910.92\n",
      "Actor loss: -0.99987334\n"
     ]
    },
    {
     "name": "stderr",
     "output_type": "stream",
     "text": [
      " 96%|███████████████████████████████████████████████████████████████████████████████████████████████████████████████████████████████████████████████████████▋      | 48/50 [00:19<00:00,  3.33it/s]"
     ]
    },
    {
     "name": "stdout",
     "output_type": "stream",
     "text": [
      "Episode: 48 \n",
      "\n",
      "Average reward: 5\n",
      "Critic loss: 43724.688\n",
      "Actor loss: -0.9998823\n"
     ]
    },
    {
     "name": "stderr",
     "output_type": "stream",
     "text": [
      " 98%|██████████████████████████████████████████████████████████████████████████████████████████████████████████████████████████████████████████████████████████▊   | 49/50 [00:19<00:00,  2.59it/s]"
     ]
    },
    {
     "name": "stdout",
     "output_type": "stream",
     "text": [
      "Episode: 49 \n",
      "\n",
      "Average reward: 5\n",
      "Critic loss: 45490.234\n",
      "Actor loss: -0.99989784\n"
     ]
    },
    {
     "name": "stderr",
     "output_type": "stream",
     "text": [
      "100%|██████████████████████████████████████████████████████████████████████████████████████████████████████████████████████████████████████████████████████████████| 50/50 [00:19<00:00,  2.52it/s]"
     ]
    },
    {
     "name": "stdout",
     "output_type": "stream",
     "text": [
      "Episode: 50 \n",
      "\n",
      "Average reward: 5\n",
      "Critic loss: 46425.008\n",
      "Actor loss: -0.999903\n"
     ]
    },
    {
     "name": "stderr",
     "output_type": "stream",
     "text": [
      "\n"
     ]
    },
    {
     "ename": "ValueError",
     "evalue": "Destination agent already exists.",
     "output_type": "error",
     "traceback": [
      "\u001b[0;31m---------------------------------------------------------------------------\u001b[0m",
      "\u001b[0;31mValueError\u001b[0m                                Traceback (most recent call last)",
      "Cell \u001b[0;32mIn[60], line 76\u001b[0m\n\u001b[1;32m     74\u001b[0m orbax_checkpointer \u001b[38;5;241m=\u001b[39m orbax\u001b[38;5;241m.\u001b[39mcheckpoint\u001b[38;5;241m.\u001b[39mPyTreeCheckpointer()\n\u001b[1;32m     75\u001b[0m save_args \u001b[38;5;241m=\u001b[39m orbax_utils\u001b[38;5;241m.\u001b[39msave_args_from_target(ckpt)\n\u001b[0;32m---> 76\u001b[0m \u001b[43morbax_checkpointer\u001b[49m\u001b[38;5;241;43m.\u001b[39;49m\u001b[43msave\u001b[49m\u001b[43m(\u001b[49m\u001b[38;5;124;43m'\u001b[39;49m\u001b[38;5;124;43m./agent\u001b[39;49m\u001b[38;5;124;43m'\u001b[39;49m\u001b[43m,\u001b[49m\u001b[43m \u001b[49m\u001b[43mckpt\u001b[49m\u001b[43m,\u001b[49m\u001b[43m \u001b[49m\u001b[43msave_args\u001b[49m\u001b[38;5;241;43m=\u001b[39;49m\u001b[43msave_args\u001b[49m\u001b[43m)\u001b[49m\n\u001b[1;32m     78\u001b[0m end_time \u001b[38;5;241m=\u001b[39m time\u001b[38;5;241m.\u001b[39mtime()\n\u001b[1;32m     79\u001b[0m execution_time \u001b[38;5;241m=\u001b[39m end_time \u001b[38;5;241m-\u001b[39m start_time\n",
      "File \u001b[0;32m~/repos/notebooks/venv/lib/python3.10/site-packages/orbax/checkpoint/checkpointer.py:74\u001b[0m, in \u001b[0;36mCheckpointer.save\u001b[0;34m(self, directory, item, force, *args, **kwargs)\u001b[0m\n\u001b[1;32m     72\u001b[0m       directory\u001b[38;5;241m.\u001b[39mrmtree()  \u001b[38;5;66;03m# Post-sync handled by create_tmp_directory.\u001b[39;00m\n\u001b[1;32m     73\u001b[0m   \u001b[38;5;28;01melse\u001b[39;00m:\n\u001b[0;32m---> 74\u001b[0m     \u001b[38;5;28;01mraise\u001b[39;00m \u001b[38;5;167;01mValueError\u001b[39;00m(\u001b[38;5;124mf\u001b[39m\u001b[38;5;124m'\u001b[39m\u001b[38;5;124mDestination \u001b[39m\u001b[38;5;132;01m{\u001b[39;00mdirectory\u001b[38;5;132;01m}\u001b[39;00m\u001b[38;5;124m already exists.\u001b[39m\u001b[38;5;124m'\u001b[39m)\n\u001b[1;32m     75\u001b[0m tmpdir \u001b[38;5;241m=\u001b[39m utils\u001b[38;5;241m.\u001b[39mcreate_tmp_directory(directory)\n\u001b[1;32m     77\u001b[0m \u001b[38;5;28mself\u001b[39m\u001b[38;5;241m.\u001b[39m_handler\u001b[38;5;241m.\u001b[39msave(tmpdir, item, \u001b[38;5;241m*\u001b[39margs, \u001b[38;5;241m*\u001b[39m\u001b[38;5;241m*\u001b[39mkwargs)\n",
      "\u001b[0;31mValueError\u001b[0m: Destination agent already exists."
     ]
    }
   ],
   "source": [
    "episodes_reward = []\n",
    "critic_loss = 0\n",
    "actor_loss = 0\n",
    "start_time = time.time()\n",
    "\n",
    "for i in tqdm(range(episodes)):\n",
    "    # Initialize a random process N for action exploration\n",
    "    N = noise(noise_scale, key, action_dim)\n",
    "    # Receive initial observation state s 1\n",
    "    state, info = env.reset(seed=seed)\n",
    "    done = False\n",
    "    t = 1\n",
    "\n",
    "    while not done:\n",
    "        # Select action a_t = μ(s t |θ μ ) + N t according to the current policy and exploration noise\n",
    "        if t > start_steps:\n",
    "            action = actor.apply_fn(actor.params, state, action_dim) + N\n",
    "        else:\n",
    "            action = env.action_space.sample()\n",
    "\n",
    "        # Execute action a t and observe reward r t and observe new state s t+1\n",
    "        observation, reward, terminated, truncated, info = env.step(action)\n",
    "        \n",
    "        # Store transition (s t , a t , r t , s t+1 ) in R\n",
    "        transition = (state, action, reward, observation)\n",
    "        buffer.add(transition)\n",
    "            \n",
    "        # Sample a random minibatch of N transitions (s i , a i , r i , s i+1 ) from R\n",
    "        states, actions, rewards, next_states = buffer.sample_batch()\n",
    "\n",
    "        # Set y = r  + γQ^0 (s_{i+1} , μ^0 (s_{i+1} |θ^μ )|θ^Q ) P\n",
    "        target_action = target_actor.apply_fn(target_actor_params,\n",
    "                                              jnp.asarray(next_states),\n",
    "                                              action_dim)\n",
    "\n",
    "        target_q = target_critic.apply_fn(target_critic_params,\n",
    "                                          jnp.asarray(next_states),\n",
    "                                          jnp.asarray(target_action))\n",
    "\n",
    "        y = reward + gamma * (1 - terminated) * target_q\n",
    "\n",
    "        # Update critic by minimizing the loss\n",
    "        critic, critic_loss = update_critic(critic,\n",
    "                                            jnp.asarray(states),\n",
    "                                            jnp.asarray(actions),\n",
    "                                            jnp.asarray(y))\n",
    "\n",
    "        # Update the actor policy using the sampled gradient:\n",
    "        actor, actor_loss = update_actor(actor,\n",
    "                                         jnp.asarray(states),\n",
    "                                         action_dim)\n",
    "\n",
    "        # Update the target networks:\n",
    "        target_actor_params = soft_update(target_actor_params, actor.params, tau)\n",
    "        target_critic_params = soft_update(target_critic_params, critic.params, tau)\n",
    "       \n",
    "        # update if the environment is done and the current observation\n",
    "        t += 1\n",
    "        done = terminated or truncated\n",
    "\n",
    "    episodes_reward.append(env.return_queue[-1]) \n",
    "    avg_reward = int(np.mean(env.return_queue))\n",
    "    \n",
    "    print(\"Episode:\", i+1, \"\\n\")\n",
    "    # print(\"reward:\", env.return_queue[-1])\n",
    "    print(\"Average reward:\", avg_reward)\n",
    "    print(\"Critic loss:\", critic_loss)\n",
    "    print(\"Actor loss:\", actor_loss)\n",
    "\n",
    "env.close()\n",
    "\n",
    "# save agent\n",
    "orbax_checkpointer = orbax.checkpoint.PyTreeCheckpointer()\n",
    "save_args = orbax_utils.save_args_from_target(ckpt)\n",
    "orbax_checkpointer.save('./agent', ckpt, save_args=save_args)\n",
    "\n",
    "end_time = time.time()\n",
    "execution_time = end_time - start_time\n",
    "print(\"Execution time:\", execution_time)"
   ]
  },
  {
   "cell_type": "markdown",
   "id": "496fd34a",
   "metadata": {},
   "source": [
    "## Visualizing the training"
   ]
  },
  {
   "cell_type": "code",
   "execution_count": 59,
   "id": "217629c7",
   "metadata": {
    "tags": []
   },
   "outputs": [
    {
     "data": {
      "image/png": "[encoded data removed]",
      "text/plain": [
       "<Figure size 640x480 with 1 Axes>"
      ]
     },
     "metadata": {},
     "output_type": "display_data"
    }
   ],
   "source": [
    "rewards_to_plot = [rewards for rewards in episodes_reward]\n",
    "\n",
    "plt.plot(range(episodes), episodes_reward)\n",
    "plt.xlabel('Episodes')\n",
    "plt.ylabel('Reward')\n",
    "plt.title('Rewards over episodes')\n",
    "plt.show()"
   ]
  },
  {
   "cell_type": "markdown",
   "id": "fc5ff1e7",
   "metadata": {},
   "source": [
    "## Test Agent"
   ]
  },
  {
   "cell_type": "code",
   "execution_count": 51,
   "id": "896b582a",
   "metadata": {},
   "outputs": [],
   "source": [
    "# restore agent\n",
    "raw_restored = orbax_checkpointer.restore('./agent')\n",
    "actor_params = raw_restored['data']"
   ]
  },
  {
   "cell_type": "code",
   "execution_count": 52,
   "id": "53364c89",
   "metadata": {},
   "outputs": [],
   "source": [
    "env = gym.make(\"InvertedPendulum-v4\", render_mode=\"human\")\n",
    "\n",
    "observation, info = env.reset()\n",
    "\n",
    "for _ in range(1000):\n",
    "    action = actor.apply_fn(actor_params, observation, env.action_space.shape[0])\n",
    "    observation, reward, terminated, truncated, info = env.step(action)\n",
    "\n",
    "    if terminated or truncated:\n",
    "        observation, info = env.reset()\n",
    "\n",
    "env.close()"
   ]
  }
 ],
 "metadata": {
  "kernelspec": {
   "display_name": "Python 3 (ipykernel)",
   "language": "python",
   "name": "python3"
  },
  "language_info": {
   "codemirror_mode": {
    "name": "ipython",
    "version": 3
   },
   "file_extension": ".py",
   "mimetype": "text/x-python",
   "name": "python",
   "nbconvert_exporter": "python",
   "pygments_lexer": "ipython3",
   "version": "3.10.12"
  }
 },
 "nbformat": 4,
 "nbformat_minor": 5
}
