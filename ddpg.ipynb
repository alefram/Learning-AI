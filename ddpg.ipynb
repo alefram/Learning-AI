{
 "cells": [
  {
   "cell_type": "markdown",
   "id": "e524b141",
   "metadata": {},
   "source": [
    "# DDPG algorithm in flax"
   ]
  },
  {
   "cell_type": "code",
   "execution_count": 3,
   "id": "59b15bcf",
   "metadata": {
    "tags": []
   },
   "outputs": [],
   "source": [
    "import gymnasium as gym\n",
    "import numpy as np\n",
    "from collections import deque\n",
    "import optax\n",
    "import matplotlib.pyplot as plt\n",
    "import time\n",
    "\n",
    "import jax.tree_util as jtu\n",
    "from jax import random\n",
    "import jax.numpy as jnp\n",
    "import jax\n",
    "\n",
    "from flax.training import train_state, orbax_utils\n",
    "from flax import linen as nn  # Linen API\n",
    "\n",
    "from tqdm import tqdm\n",
    "import orbax.checkpoint\n",
    "import os\n",
    "\n",
    "F_CPP_MIN_LOG_LEVEL=0"
   ]
  },
  {
   "cell_type": "code",
   "execution_count": null,
   "id": "90c748d9",
   "metadata": {},
   "outputs": [],
   "source": [
    "ckpt_dir = a\n",
    "\n",
    "if os.path.exists(ckpt_dir):\n",
    "    shutil.rmtree(ckpt_dir)"
   ]
  },
  {
   "cell_type": "markdown",
   "id": "b25a9a29",
   "metadata": {},
   "source": [
    "## Create necessary methods to the training"
   ]
  },
  {
   "cell_type": "code",
   "execution_count": 5,
   "id": "a764cb53",
   "metadata": {
    "tags": []
   },
   "outputs": [
    {
     "name": "stderr",
     "output_type": "stream",
     "text": [
      "No GPU/TPU found, falling back to CPU. (Set TF_CPP_MIN_LOG_LEVEL=0 and rerun for more info.)\n"
     ]
    }
   ],
   "source": [
    "#random process N for action exploration\n",
    "@jtu.Partial(jax.jit, static_argnums=2)\n",
    "def noise(noise_scale=0.1, key=random.PRNGKey(0), action_dim=2):\n",
    "    return noise_scale * jax.random.normal(key, (action_dim,))"
   ]
  },
  {
   "cell_type": "code",
   "execution_count": 6,
   "id": "ca06c72c",
   "metadata": {
    "tags": []
   },
   "outputs": [],
   "source": [
    "# Define the method to update model parameters\n",
    "\n",
    "# update critic\n",
    "@jax.jit\n",
    "def update_critic(model, states, actions, y):\n",
    "    def compute_critic_loss(params):\n",
    "        Q = model.apply_fn(params, states, actions)\n",
    "        \n",
    "        return jnp.mean((Q - y)**2) #compute loss\n",
    "    \n",
    "    loss, grads = jax.value_and_grad(compute_critic_loss)(model.params)\n",
    "    updated_model = model.apply_gradients(grads=grads)\n",
    "   \n",
    "    return updated_model, loss\n",
    "\n",
    "# udate actor\n",
    "@jtu.Partial(jax.jit, static_argnums=(2,))\n",
    "def update_actor(model, states, action_dim):\n",
    "    def compute_actor_loss(params):\n",
    "        actions = model.apply_fn(params, states, action_dim)\n",
    "\n",
    "        return -jnp.mean(actions)  # Compute the actor loss\n",
    "\n",
    "    loss, grads = jax.value_and_grad(compute_actor_loss)(model.params)\n",
    "    updated_model = model.apply_gradients(grads=grads)\n",
    "\n",
    "    return updated_model, loss\n",
    "\n",
    "# Define the soft update function\n",
    "@jax.jit\n",
    "def soft_update(target_params, source_params, tau):\n",
    "    # Convert the source_params to a JAX-compatible data structure\n",
    "    source_params_tree = jtu.tree_map(lambda x: jnp.asarray(x), source_params)\n",
    "    target_params_tree = jtu.tree_map(lambda x: jnp.asarray(x), target_params)\n",
    "\n",
    "    # Compute the updated target parameters using a soft update\n",
    "    updated_params = jtu.tree_map(lambda x, y: tau * x + (1 - tau) * y,\n",
    "                                  source_params_tree, target_params_tree)\n",
    "\n",
    "    return updated_params"
   ]
  },
  {
   "cell_type": "code",
   "execution_count": 7,
   "id": "2b1d002d-136a-4677-bc5e-6a29b376062b",
   "metadata": {
    "tags": []
   },
   "outputs": [],
   "source": [
    "# define the replay buffer\n",
    "class ReplayBuffer():\n",
    "    def __init__(self, buffer_size, batch_size, key):\n",
    "        self.buffer_size = buffer_size\n",
    "        self.batch_size = batch_size\n",
    "        self.buffer = deque(maxlen=self.buffer_size)\n",
    "        self.key = key\n",
    "\n",
    "    def add(self, transition):\n",
    "        self.buffer.append(transition)\n",
    "\n",
    "    def sample_batch(self):\n",
    "        indices = jax.random.choice(self.key, len(self.buffer),\n",
    "                                    shape=(self.batch_size,), replace=True)\n",
    "        batch = [self.buffer[i] for i in indices]\n",
    "\n",
    "        return zip(*batch)"
   ]
  },
  {
   "cell_type": "markdown",
   "id": "a7a71636",
   "metadata": {},
   "source": [
    "## Create actor and critic model"
   ]
  },
  {
   "cell_type": "code",
   "execution_count": 8,
   "id": "44c7fe1b",
   "metadata": {
    "tags": []
   },
   "outputs": [],
   "source": [
    "#create the actor and critic newtorks like multilayer perceptrons\n",
    "class Critic(nn.Module):\n",
    "    \"\"\"critic model MLP\"\"\"\n",
    "    \n",
    "    @nn.compact\n",
    "    def __call__(self, observations, actions):\n",
    "        x = jnp.concatenate([observations, actions], axis=-1)\n",
    "        x = nn.Dense(features=256)(x)\n",
    "        x = nn.relu(x)\n",
    "        x = nn.Dense(features=256)(x)\n",
    "        x = nn.relu(x)\n",
    "        x = nn.Dense(features=1)(x)\n",
    "        return jnp.squeeze(x, axis=-1)\n",
    "    \n",
    "class Actor(nn.Module):\n",
    "    \"\"\"actor model MLP\"\"\"\n",
    "    \n",
    "    @nn.compact\n",
    "    def __call__(self, x, action_dim):\n",
    "        x = nn.Dense(features=256)(x)\n",
    "        x = nn.relu(x)\n",
    "        x = nn.Dense(features=256)(x)\n",
    "        x = nn.relu(x)\n",
    "        x = nn.Dense(features=action_dim)(x)\n",
    "        x = nn.tanh(x)\n",
    "        return x"
   ]
  },
  {
   "cell_type": "markdown",
   "id": "fc9e8513",
   "metadata": {},
   "source": [
    "## Algorithm"
   ]
  },
  {
   "cell_type": "code",
   "execution_count": 9,
   "id": "3d0967cc-3733-4ef2-9b3c-6fc7e8694a75",
   "metadata": {
    "tags": []
   },
   "outputs": [],
   "source": [
    "# define environment and parameters\n",
    "env = gym.make(\"InvertedPendulum-v4\")\n",
    "action_dim = env.action_space.shape[0]\n",
    "state_dim = env.observation_space.shape[0]\n",
    "\n",
    "#initialize parameters\n",
    "seed = 0\n",
    "key = random.PRNGKey(seed)\n",
    "episodes = 2\n",
    "gamma = 0.99 #discount factor 0:nearly rewards, 1:future rewards\n",
    "tau = 0.995 #polyak between 0-1 updating target network\n",
    "max_episode_steps = 500\n",
    "buffer_size = 1000000 #memory size\n",
    "batch_size = 100 #The number of experiences sampled from the replay buffer\n",
    "learning_rate = 0.001\n",
    "noise_scale = 0.1 #scale of the noise for random process N for action exploration\n",
    "\n",
    "env = gym.wrappers.RecordEpisodeStatistics(env, deque_size=max_episode_steps)"
   ]
  },
  {
   "cell_type": "code",
   "execution_count": 14,
   "id": "af776785",
   "metadata": {
    "tags": []
   },
   "outputs": [],
   "source": [
    "# Randomly initialize critic network Q(s, a|θ_Q ) and actor μ(s|θ_μ ) with weights θ_Q and θ_μ .\n",
    "critic_params = Critic().init(key,\n",
    "                              jnp.zeros((1, state_dim)),\n",
    "                              jnp.zeros((1, action_dim)))\n",
    "\n",
    "actor_params = Actor().init(key, jnp.zeros((1, state_dim)), action_dim)\n",
    "\n",
    "# define optimizers\n",
    "actor_optimizer = optax.adam(learning_rate=learning_rate)\n",
    "actor_opt_state = actor_optimizer.init(actor_params)\n",
    "\n",
    "critic_optimizer = optax.adam(learning_rate=learning_rate)\n",
    "critic_opt_state = critic_optimizer.init(critic_params)\n",
    "\n",
    "# Initialize the training state for flax porpuses\n",
    "critic = train_state.TrainState.create(\n",
    "    apply_fn=Critic().apply,\n",
    "    params=critic_params,\n",
    "    tx=critic_optimizer\n",
    ")\n",
    "\n",
    "actor = train_state.TrainState.create(\n",
    "    apply_fn=Actor().apply,\n",
    "    params=actor_params,\n",
    "    tx=actor_optimizer,\n",
    ")\n",
    "\n",
    "# to save agent\n",
    "config = {'dimensions': jnp.array([5,3]), 'name': 'actor'}\n",
    "ckpt = {'model': actor, 'config': config, 'data': actor_params}\n",
    "\n",
    "# print(Actor().tabulate(key, (1, state_dim), action_dim))\n",
    "# print(Critic().tabulate(key, jnp.ones((1,action_dim)), jnp.ones((1,state_dim))))"
   ]
  },
  {
   "cell_type": "code",
   "execution_count": 15,
   "id": "b4fede34",
   "metadata": {
    "tags": []
   },
   "outputs": [],
   "source": [
    "# Initialize target network Q_0_target and μ_0_target with weights \n",
    "# θ_Q_target ← θ_Q , θ_μ_target ← θ_μ\n",
    "\n",
    "target_critic_params = critic_params\n",
    "target_actor_params = actor_params\n",
    "\n",
    "# Initialize the training state for flax porpuses\n",
    "target_critic = train_state.TrainState.create(\n",
    "    apply_fn=Critic().apply,\n",
    "    params=target_critic_params,\n",
    "    tx=critic_optimizer\n",
    ")\n",
    "\n",
    "target_actor = train_state.TrainState.create(\n",
    "    apply_fn=Actor().apply,\n",
    "    params=target_actor_params,\n",
    "    tx=actor_optimizer\n",
    ")"
   ]
  },
  {
   "cell_type": "code",
   "execution_count": 16,
   "id": "80f4b370",
   "metadata": {
    "tags": []
   },
   "outputs": [],
   "source": [
    "# Initialize replay buffer R\n",
    "buffer = ReplayBuffer(buffer_size, batch_size, key)"
   ]
  },
  {
   "cell_type": "code",
   "execution_count": 18,
   "id": "670e041a",
   "metadata": {
    "tags": []
   },
   "outputs": [
    {
     "name": "stderr",
     "output_type": "stream",
     "text": [
      " 50%|████████████████████████████████████████████████████████████████████████████████                                                                                | 1/2 [00:00<00:00,  1.45it/s]"
     ]
    },
    {
     "name": "stdout",
     "output_type": "stream",
     "text": [
      "Episode: 1 \n",
      "\n",
      "reward: [5.]\n",
      "Average reward: 9\n",
      "Critic loss: 6.8613806\n",
      "Actor loss: -0.64706254\n"
     ]
    },
    {
     "name": "stderr",
     "output_type": "stream",
     "text": [
      "100%|████████████████████████████████████████████████████████████████████████████████████████████████████████████████████████████████████████████████████████████████| 2/2 [00:01<00:00,  1.33it/s]"
     ]
    },
    {
     "name": "stdout",
     "output_type": "stream",
     "text": [
      "Episode: 2 \n",
      "\n",
      "reward: [5.]\n",
      "Average reward: 8\n",
      "Critic loss: 27.30974\n",
      "Actor loss: -0.8032522\n"
     ]
    },
    {
     "name": "stderr",
     "output_type": "stream",
     "text": [
      "\n"
     ]
    },
    {
     "ename": "ValueError",
     "evalue": "Destination agent already exists.",
     "output_type": "error",
     "traceback": [
      "\u001b[0;31m---------------------------------------------------------------------------\u001b[0m",
      "\u001b[0;31mValueError\u001b[0m                                Traceback (most recent call last)",
      "Cell \u001b[0;32mIn[18], line 73\u001b[0m\n\u001b[1;32m     71\u001b[0m orbax_checkpointer \u001b[38;5;241m=\u001b[39m orbax\u001b[38;5;241m.\u001b[39mcheckpoint\u001b[38;5;241m.\u001b[39mPyTreeCheckpointer()\n\u001b[1;32m     72\u001b[0m save_args \u001b[38;5;241m=\u001b[39m orbax_utils\u001b[38;5;241m.\u001b[39msave_args_from_target(ckpt)\n\u001b[0;32m---> 73\u001b[0m \u001b[43morbax_checkpointer\u001b[49m\u001b[38;5;241;43m.\u001b[39;49m\u001b[43msave\u001b[49m\u001b[43m(\u001b[49m\u001b[38;5;124;43m'\u001b[39;49m\u001b[38;5;124;43m./agent\u001b[39;49m\u001b[38;5;124;43m'\u001b[39;49m\u001b[43m,\u001b[49m\u001b[43m \u001b[49m\u001b[43mckpt\u001b[49m\u001b[43m,\u001b[49m\u001b[43m \u001b[49m\u001b[43msave_args\u001b[49m\u001b[38;5;241;43m=\u001b[39;49m\u001b[43msave_args\u001b[49m\u001b[43m)\u001b[49m\n\u001b[1;32m     75\u001b[0m \u001b[38;5;28mprint\u001b[39m(ckpt)\n\u001b[1;32m     76\u001b[0m end_time \u001b[38;5;241m=\u001b[39m time\u001b[38;5;241m.\u001b[39mtime()\n",
      "File \u001b[0;32m~/repos/notebooks/venv/lib/python3.10/site-packages/orbax/checkpoint/checkpointer.py:74\u001b[0m, in \u001b[0;36mCheckpointer.save\u001b[0;34m(self, directory, item, force, *args, **kwargs)\u001b[0m\n\u001b[1;32m     72\u001b[0m       directory\u001b[38;5;241m.\u001b[39mrmtree()  \u001b[38;5;66;03m# Post-sync handled by create_tmp_directory.\u001b[39;00m\n\u001b[1;32m     73\u001b[0m   \u001b[38;5;28;01melse\u001b[39;00m:\n\u001b[0;32m---> 74\u001b[0m     \u001b[38;5;28;01mraise\u001b[39;00m \u001b[38;5;167;01mValueError\u001b[39;00m(\u001b[38;5;124mf\u001b[39m\u001b[38;5;124m'\u001b[39m\u001b[38;5;124mDestination \u001b[39m\u001b[38;5;132;01m{\u001b[39;00mdirectory\u001b[38;5;132;01m}\u001b[39;00m\u001b[38;5;124m already exists.\u001b[39m\u001b[38;5;124m'\u001b[39m)\n\u001b[1;32m     75\u001b[0m tmpdir \u001b[38;5;241m=\u001b[39m utils\u001b[38;5;241m.\u001b[39mcreate_tmp_directory(directory)\n\u001b[1;32m     77\u001b[0m \u001b[38;5;28mself\u001b[39m\u001b[38;5;241m.\u001b[39m_handler\u001b[38;5;241m.\u001b[39msave(tmpdir, item, \u001b[38;5;241m*\u001b[39margs, \u001b[38;5;241m*\u001b[39m\u001b[38;5;241m*\u001b[39mkwargs)\n",
      "\u001b[0;31mValueError\u001b[0m: Destination agent already exists."
     ]
    }
   ],
   "source": [
    "#train loop\n",
    "episodes_reward = []\n",
    "critic_loss = 0\n",
    "actor_loss = 0\n",
    "start_time = time.time()\n",
    "\n",
    "for i in tqdm(range(episodes)):\n",
    "    # Initialize a random process N for action exploration\n",
    "    N = noise(noise_scale, key, action_dim)\n",
    "    # Receive initial observation state s 1\n",
    "    state, info = env.reset(seed=seed)\n",
    "    done = False\n",
    "\n",
    "    while not done:\n",
    "        # Select action a_t = μ(s t |θ μ ) + N t according to the current policy and exploration noise\n",
    "        action = actor.apply_fn(actor.params, state, action_dim) + N\n",
    "\n",
    "        # Execute action a t and observe reward r t and observe new state s t+1\n",
    "        observation, reward, terminated, truncated, info = env.step(action)\n",
    "        \n",
    "        # Store transition (s t , a t , r t , s t+1 ) in R\n",
    "        transition = (state, action, reward, observation)\n",
    "        \n",
    "        # buffer.append(transition)\n",
    "        buffer.add(transition)\n",
    "\n",
    "        # Sample a random minibatch of N transitions (s i , a i , r i , s i+1 ) from R\n",
    "        states, actions, rewards, next_states = buffer.sample_batch()\n",
    "\n",
    "        # Set y = r  + γQ^0 (s_{i+1} , μ^0 (s_{i+1} |θ^μ )|θ^Q ) P\n",
    "        target_action = target_actor.apply_fn(target_actor_params,\n",
    "                                              jnp.asarray(next_states, dtype=jnp.float16),\n",
    "                                              action_dim)\n",
    "        \n",
    "        target_q = target_critic.apply_fn(target_critic_params,\n",
    "                                          jnp.asarray(next_states, dtype=jnp.float16),\n",
    "                                          jnp.asarray(target_action, dtype=jnp.float16))\n",
    "\n",
    "        y = reward + gamma * (1 - terminated) * target_q\n",
    "\n",
    "        # Update critic by minimizing the loss\n",
    "        critic, critic_loss = update_critic(critic,\n",
    "                                            jnp.asarray(states, dtype=jnp.float16),\n",
    "                                            jnp.asarray(actions, dtype=jnp.float16),\n",
    "                                            jnp.asarray(y, dtype=jnp.float16))\n",
    "\n",
    "        # Update the actor policy using the sampled gradient:\n",
    "        actor, actor_loss = update_actor(actor,\n",
    "                                         jnp.asarray(states,dtype=jnp.float16),\n",
    "                                         action_dim)\n",
    "\n",
    "        # Update the target networks:\n",
    "        target_actor_params = soft_update(target_actor_params, actor.params, tau)\n",
    "        target_critic_params = soft_update(target_critic_params, critic.params, tau)\n",
    "       \n",
    "        # update if the environment is done and the current observation\n",
    "        done = terminated or truncated\n",
    "\n",
    "    episodes_reward.append(env.return_queue[-1]) \n",
    "    avg_reward = int(np.mean(env.return_queue))\n",
    "    \n",
    "    print(\"Episode:\", i+1, \"\\n\")\n",
    "    print(\"reward:\", env.return_queue[-1])\n",
    "    print(\"Average reward:\", avg_reward)\n",
    "    print(\"Critic loss:\", critic_loss)\n",
    "    print(\"Actor loss:\", actor_loss)\n",
    "\n",
    "env.close()\n",
    "\n",
    "# save agent\n",
    "orbax_checkpointer = orbax.checkpoint.PyTreeCheckpointer()\n",
    "save_args = orbax_utils.save_args_from_target(ckpt)\n",
    "orbax_checkpointer.save('./agent', ckpt, save_args=save_args)\n",
    "\n",
    "print(ckpt)\n",
    "end_time = time.time()\n",
    "execution_time = end_time - start_time\n",
    "print(\"Execution time:\", execution_time)"
   ]
  },
  {
   "cell_type": "markdown",
   "id": "496fd34a",
   "metadata": {},
   "source": [
    "## Visualizing the training"
   ]
  },
  {
   "cell_type": "code",
   "execution_count": 28,
   "id": "217629c7",
   "metadata": {
    "tags": []
   },
   "outputs": [
    {
     "data": {
      "image/png": "[encoded data removed]",
      "text/plain": [
       "<Figure size 640x480 with 1 Axes>"
      ]
     },
     "metadata": {},
     "output_type": "display_data"
    }
   ],
   "source": [
    "rewards_to_plot = [rewards for rewards in episodes_reward]\n",
    "\n",
    "plt.plot(range(episodes), episodes_reward)\n",
    "plt.xlabel('Episodes')\n",
    "plt.ylabel('Reward')\n",
    "plt.title('Rewards over episodes')\n",
    "plt.show()"
   ]
  },
  {
   "cell_type": "code",
   "execution_count": null,
   "id": "a56d6dc7",
   "metadata": {},
   "outputs": [],
   "source": []
  }
 ],
 "metadata": {
  "kernelspec": {
   "display_name": "Python 3 (ipykernel)",
   "language": "python",
   "name": "python3"
  },
  "language_info": {
   "codemirror_mode": {
    "name": "ipython",
    "version": 3
   },
   "file_extension": ".py",
   "mimetype": "text/x-python",
   "name": "python",
   "nbconvert_exporter": "python",
   "pygments_lexer": "ipython3",
   "version": "3.10.6"
  }
 },
 "nbformat": 4,
 "nbformat_minor": 5
}
