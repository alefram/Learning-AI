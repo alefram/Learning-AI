{
 "cells": [
  {
   "cell_type": "markdown",
   "id": "e524b141",
   "metadata": {},
   "source": [
    "# DDPG algorithm"
   ]
  },
  {
   "cell_type": "markdown",
   "id": "c64325f1",
   "metadata": {},
   "source": [
    "## Initialize actor and critic network"
   ]
  },
  {
   "cell_type": "code",
   "execution_count": 34,
   "id": "59b15bcf",
   "metadata": {},
   "outputs": [
    {
     "name": "stdout",
     "output_type": "stream",
     "text": [
      "1\n",
      "2\n"
     ]
    }
   ],
   "source": [
    "import jax.numpy as jnp\n",
    "import jax\n",
    "from jax import grad, jit, vmap\n",
    "from jax import random\n",
    "from flax import linen as nn  # Linen API\n",
    "from collections import deque\n",
    "import gymnasium as gym\n",
    "\n",
    "env = gym.make(\"MountainCarContinuous-v0\")\n",
    "seed = 0\n",
    "key = random.PRNGKey(seed)\n",
    "\n",
    "F_CPP_MIN_LOG_LEVEL=0\n",
    "action_dim = env.action_space.shape[0]\n",
    "state_dim = env.observation_space.shape[0]\n",
    "\n",
    "print(action_dim)\n",
    "print(state_dim)"
   ]
  },
  {
   "cell_type": "code",
   "execution_count": 35,
   "id": "b2713383",
   "metadata": {},
   "outputs": [],
   "source": [
    "#create the actor and critic newtorks like multilayer perceptrons\n",
    "\n",
    "\n",
    "class Critic(nn.Module):\n",
    "    \"\"\"critic model MLP\"\"\"\n",
    "    \n",
    "    @nn.compact\n",
    "    def __call__(self, x):\n",
    "        x = nn.Dense(features=256)(x)\n",
    "        x = nn.relu(x)\n",
    "        x = nn.Dense(features=256)(x)\n",
    "        x = nn.relu(x)\n",
    "        x = nn.Dense(features=1)(x)\n",
    "        return x\n",
    "    \n",
    "class Actor(nn.Module):\n",
    "    \"\"\"actor model MLP\"\"\"\n",
    "    \n",
    "    @nn.compact\n",
    "    def __call__(self, x):\n",
    "        x = nn.Dense(features=256)(x)\n",
    "        x = nn.relu(x)\n",
    "        x = nn.Dense(features=256)(x)\n",
    "        x = nn.relu(x)\n",
    "        x = nn.Dense(features=action_dim)(x)\n",
    "        x = nn.tanh(x)\n",
    "        return x"
   ]
  },
  {
   "cell_type": "code",
   "execution_count": 36,
   "id": "d3eb7881",
   "metadata": {
    "scrolled": true
   },
   "outputs": [
    {
     "name": "stdout",
     "output_type": "stream",
     "text": [
      "\n",
      "\u001b[3m                                Actor Summary                                \u001b[0m\n",
      "┏━━━━━━━━━┳━━━━━━━━┳━━━━━━━━━━━━━━┳━━━━━━━━━━━━━━┳━━━━━━━━━━━━━━━━━━━━━━━━━━┓\n",
      "┃\u001b[1m \u001b[0m\u001b[1mpath   \u001b[0m\u001b[1m \u001b[0m┃\u001b[1m \u001b[0m\u001b[1mmodule\u001b[0m\u001b[1m \u001b[0m┃\u001b[1m \u001b[0m\u001b[1minputs      \u001b[0m\u001b[1m \u001b[0m┃\u001b[1m \u001b[0m\u001b[1moutputs     \u001b[0m\u001b[1m \u001b[0m┃\u001b[1m \u001b[0m\u001b[1mparams                  \u001b[0m\u001b[1m \u001b[0m┃\n",
      "┡━━━━━━━━━╇━━━━━━━━╇━━━━━━━━━━━━━━╇━━━━━━━━━━━━━━╇━━━━━━━━━━━━━━━━━━━━━━━━━━┩\n",
      "│         │ Actor  │ - 1          │ \u001b[2mfloat32\u001b[0m[1]   │                          │\n",
      "│         │        │ - 2          │              │                          │\n",
      "├─────────┼────────┼──────────────┼──────────────┼──────────────────────────┤\n",
      "│ Dense_0 │ Dense  │ - 1          │ \u001b[2mfloat32\u001b[0m[256] │ bias: \u001b[2mfloat32\u001b[0m[256]       │\n",
      "│         │        │ - 2          │              │ kernel: \u001b[2mfloat32\u001b[0m[2,256]   │\n",
      "│         │        │              │              │                          │\n",
      "│         │        │              │              │ \u001b[1m768 \u001b[0m\u001b[1;2m(3.1 KB)\u001b[0m             │\n",
      "├─────────┼────────┼──────────────┼──────────────┼──────────────────────────┤\n",
      "│ Dense_1 │ Dense  │ \u001b[2mfloat32\u001b[0m[256] │ \u001b[2mfloat32\u001b[0m[256] │ bias: \u001b[2mfloat32\u001b[0m[256]       │\n",
      "│         │        │              │              │ kernel: \u001b[2mfloat32\u001b[0m[256,256] │\n",
      "│         │        │              │              │                          │\n",
      "│         │        │              │              │ \u001b[1m65,792 \u001b[0m\u001b[1;2m(263.2 KB)\u001b[0m        │\n",
      "├─────────┼────────┼──────────────┼──────────────┼──────────────────────────┤\n",
      "│ Dense_2 │ Dense  │ \u001b[2mfloat32\u001b[0m[256] │ \u001b[2mfloat32\u001b[0m[1]   │ bias: \u001b[2mfloat32\u001b[0m[1]         │\n",
      "│         │        │              │              │ kernel: \u001b[2mfloat32\u001b[0m[256,1]   │\n",
      "│         │        │              │              │                          │\n",
      "│         │        │              │              │ \u001b[1m257 \u001b[0m\u001b[1;2m(1.0 KB)\u001b[0m             │\n",
      "├─────────┼────────┼──────────────┼──────────────┼──────────────────────────┤\n",
      "│\u001b[1m \u001b[0m\u001b[1m       \u001b[0m\u001b[1m \u001b[0m│\u001b[1m \u001b[0m\u001b[1m      \u001b[0m\u001b[1m \u001b[0m│\u001b[1m \u001b[0m\u001b[1m            \u001b[0m\u001b[1m \u001b[0m│\u001b[1m \u001b[0m\u001b[1m       Total\u001b[0m\u001b[1m \u001b[0m│\u001b[1m \u001b[0m\u001b[1m66,817 \u001b[0m\u001b[1;2m(267.3 KB)\u001b[0m\u001b[1m       \u001b[0m\u001b[1m \u001b[0m│\n",
      "└─────────┴────────┴──────────────┴──────────────┴──────────────────────────┘\n",
      "\u001b[1m                                                                             \u001b[0m\n",
      "\u001b[1m                     Total Parameters: 66,817 \u001b[0m\u001b[1;2m(267.3 KB)\u001b[0m\u001b[1m                     \u001b[0m\n",
      "\n",
      "\n",
      "critic parameters:\n",
      " FrozenDict({\n",
      "    params: {\n",
      "        Dense_0: {\n",
      "            bias: (256,),\n",
      "            kernel: (3, 256),\n",
      "        },\n",
      "        Dense_1: {\n",
      "            bias: (256,),\n",
      "            kernel: (256, 256),\n",
      "        },\n",
      "        Dense_2: {\n",
      "            bias: (1,),\n",
      "            kernel: (256, 1),\n",
      "        },\n",
      "    },\n",
      "}) \n",
      "\n",
      "actor parameters:\n",
      " FrozenDict({\n",
      "    params: {\n",
      "        Dense_0: {\n",
      "            bias: (256,),\n",
      "            kernel: (2, 256),\n",
      "        },\n",
      "        Dense_1: {\n",
      "            bias: (256,),\n",
      "            kernel: (256, 256),\n",
      "        },\n",
      "        Dense_2: {\n",
      "            bias: (1,),\n",
      "            kernel: (256, 1),\n",
      "        },\n",
      "    },\n",
      "})\n"
     ]
    }
   ],
   "source": [
    "# Randomly initialize critic network Q(s, a|θ_Q ) and actor μ(s|θ_μ ) with weights θ_Q and θ_μ .\n",
    "critic = Critic()\n",
    "critic_input = jnp.ones((1, state_dim + action_dim))\n",
    "critic_params = critic.init(key, critic_input)\n",
    "actor = Actor()\n",
    "actor_input = jnp.ones((1, state_dim))\n",
    "actor_params = actor.init(key, actor_input)\n",
    "\n",
    "print(actor.tabulate(key, (1, state_dim) ))\n",
    "\n",
    "check_critic = jax.tree_util.tree_map(lambda x: x.shape, critic_params) #checking critic params\n",
    "check_actor = jax.tree_util.tree_map(lambda x: x.shape, actor_params) #checking actor params\n",
    "\n",
    "print(\"critic parameters:\\n\", check_critic, \"\\n\")\n",
    "print(\"actor parameters:\\n\", check_actor)"
   ]
  },
  {
   "cell_type": "code",
   "execution_count": 37,
   "id": "93662f43",
   "metadata": {},
   "outputs": [
    {
     "name": "stdout",
     "output_type": "stream",
     "text": [
      "critic forward test: [[0.13340816]] \n",
      "\n",
      "actor forward test: [[-0.4034107]]\n"
     ]
    }
   ],
   "source": [
    "#foward example with the initial  parameters \n",
    "# the parameters never store in the model\n",
    "critic_forward = critic.apply(critic_params, critic_input)\n",
    "actor_forward = actor.apply(actor_params, actor_input)\n",
    "\n",
    "print(\"critic forward test:\", critic_forward, \"\\n\")\n",
    "print(\"actor forward test:\", actor_forward)"
   ]
  },
  {
   "cell_type": "code",
   "execution_count": 38,
   "id": "80f4b370",
   "metadata": {},
   "outputs": [],
   "source": [
    "# Initialize target network Q_0_target and μ_0_target with weights \n",
    "# θ_Q_target ← θ_Q , θ_μ_target ← θ_μ\n",
    "target_critic = Critic()\n",
    "target_actor = Actor()\n",
    "\n",
    "target_critic_params = critic_params\n",
    "target_actor_params = actor_params\n"
   ]
  },
  {
   "cell_type": "code",
   "execution_count": 39,
   "id": "eb5437a8",
   "metadata": {},
   "outputs": [],
   "source": [
    "# Initialize replay buffer R\n",
    "buffer_size = 1000\n",
    "buffer = deque(maxlen=buffer_size)"
   ]
  },
  {
   "cell_type": "code",
   "execution_count": 44,
   "id": "cdb04edc",
   "metadata": {},
   "outputs": [
    {
     "name": "stdout",
     "output_type": "stream",
     "text": [
      "[-0.47260767  0.        ]\n",
      "[-0.02058423]\n"
     ]
    }
   ],
   "source": [
    "# episode loop\n",
    "\n",
    "# Initialize a random process N for action exploration\n",
    "def noise(noise_scale=0.1):\n",
    "    return noise_scale * jax.random.normal(key, (action_dim,))\n",
    "# Receive initial observation state s 1\n",
    "state, info = env.reset(seed=seed)\n",
    "print(state)\n",
    "N = noise(0.1)\n",
    "print(N)\n",
    "\n",
    "    "
   ]
  },
  {
   "cell_type": "code",
   "execution_count": 56,
   "id": "dfcaba07",
   "metadata": {},
   "outputs": [
    {
     "name": "stdout",
     "output_type": "stream",
     "text": [
      "action: [-0.07490155] \n",
      "\n",
      "next state: [-0.5075476  -0.00492303] \n",
      "\n",
      "buffer: deque([(array([-0.47260767,  0.        ], dtype=float32), Array([-0.07490155], dtype=float32), -0.0005610242343437654, array([-0.47310096, -0.0004933 ], dtype=float32)), (array([-0.47260767,  0.        ], dtype=float32), Array([-0.07490155], dtype=float32), -0.0005610242343437654, array([-0.4740839 , -0.00098293], dtype=float32)), (array([-0.47260767,  0.        ], dtype=float32), Array([-0.07490155], dtype=float32), -0.0005610242343437654, array([-0.4755492 , -0.00146528], dtype=float32)), (array([-0.47260767,  0.        ], dtype=float32), Array([-0.07490155], dtype=float32), -0.0005610242343437654, array([-0.47748595, -0.00193676], dtype=float32)), (array([-0.47260767,  0.        ], dtype=float32), Array([-0.07490155], dtype=float32), -0.0005610242343437654, array([-0.47987983, -0.00239386], dtype=float32)), (array([-0.47260767,  0.        ], dtype=float32), Array([-0.07490155], dtype=float32), -0.0005610242343437654, array([-0.48271298, -0.00283316], dtype=float32)), (array([-0.47260767,  0.        ], dtype=float32), Array([-0.07490155], dtype=float32), -0.0005610242343437654, array([-0.4859644 , -0.00325139], dtype=float32)), (array([-0.47260767,  0.        ], dtype=float32), Array([-0.07490155], dtype=float32), -0.0005610242343437654, array([-0.48960978, -0.0036454 ], dtype=float32)), (array([-0.47260767,  0.        ], dtype=float32), Array([-0.07490155], dtype=float32), -0.0005610242343437654, array([-0.493622  , -0.00401223], dtype=float32)), (array([-0.47260767,  0.        ], dtype=float32), Array([-0.07490155], dtype=float32), -0.0005610242343437654, array([-0.49797112, -0.00434911], dtype=float32)), (array([-0.47260767,  0.        ], dtype=float32), Array([-0.07490155], dtype=float32), -0.0005610242343437654, array([-0.5026246 , -0.00465348], dtype=float32)), (array([-0.47260767,  0.        ], dtype=float32), Array([-0.07490155], dtype=float32), -0.0005610242343437654, array([-0.5075476 , -0.00492303], dtype=float32))], maxlen=1000) \n",
      "\n",
      "minibatch: [(array([-0.47260767,  0.        ], dtype=float32), Array([-0.07490155], dtype=float32), -0.0005610242343437654, array([-0.5026246 , -0.00465348], dtype=float32)), (array([-0.47260767,  0.        ], dtype=float32), Array([-0.07490155], dtype=float32), -0.0005610242343437654, array([-0.47987983, -0.00239386], dtype=float32))]\n"
     ]
    }
   ],
   "source": [
    "# Select action a_t = μ(s t |θ μ ) + N t according to the current policy and exploration noise\n",
    "action = noise() + actor.apply(actor_params, observation)\n",
    "# action = env.action_space.sample()\n",
    "print(\"action:\", action, \"\\n\")\n",
    "\n",
    "\n",
    "# Execute action a t and observe reward r t and observe new state s t+1\n",
    "next_state, reward, terminated, truncated, info = env.step(action)\n",
    "print(\"next state:\", next_state, \"\\n\")\n",
    "\n",
    "# Store transition (s t , a t , r t , s t+1 ) in R\n",
    "transition = (state, action, reward, next_state)\n",
    "buffer.append(transition)\n",
    "print(\"buffer:\", buffer, \"\\n\")\n",
    "\n",
    "# Sample a random minibatch of N transitions (s i , a i , r i , s i+1 ) from R\n",
    "batch_size = 1\n",
    "indices = jax.random.choice(key, len(buffer), shape=(batch_size,), replace=False)\n",
    "minibatch = [buffer[i] for i in indices]\n",
    "print(\"minibatch:\", minibatch)\n"
   ]
  },
  {
   "cell_type": "code",
   "execution_count": null,
   "id": "e3583ff5",
   "metadata": {},
   "outputs": [],
   "source": []
  }
 ],
 "metadata": {
  "kernelspec": {
   "display_name": "Python 3 (ipykernel)",
   "language": "python",
   "name": "python3"
  },
  "language_info": {
   "codemirror_mode": {
    "name": "ipython",
    "version": 3
   },
   "file_extension": ".py",
   "mimetype": "text/x-python",
   "name": "python",
   "nbconvert_exporter": "python",
   "pygments_lexer": "ipython3",
   "version": "3.9.16"
  }
 },
 "nbformat": 4,
 "nbformat_minor": 5
}
