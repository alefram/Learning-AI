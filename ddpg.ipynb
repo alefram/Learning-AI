{
 "cells": [
  {
   "cell_type": "markdown",
   "id": "81a77f0c-f949-4d14-8bf6-86c28a897c77",
   "metadata": {
    "editable": true,
    "slideshow": {
     "slide_type": ""
    },
    "tags": []
   },
   "source": [
    "# DDPG algorithm in flax"
   ]
  },
  {
   "cell_type": "code",
   "execution_count": 1,
   "id": "d7bb8bac-c5ac-4072-88c0-a124a2151112",
   "metadata": {
    "tags": []
   },
   "outputs": [],
   "source": [
    "import gymnasium as gym\n",
    "import numpy as np\n",
    "from collections import deque\n",
    "import optax\n",
    "import matplotlib.pyplot as plt\n",
    "import time\n",
    "import random\n",
    "\n",
    "import jax.tree_util as jtu\n",
    "import jax.numpy as jnp\n",
    "import jax\n",
    "\n",
    "from flax.training import train_state, orbax_utils\n",
    "from flax import linen as nn  # Linen API\n",
    "\n",
    "from tqdm import tqdm\n",
    "import orbax.checkpoint\n",
    "import os\n",
    "import shutil\n",
    "\n",
    "F_CPP_MIN_LOG_LEVEL=0"
   ]
  },
  {
   "cell_type": "code",
   "execution_count": 2,
   "id": "e5691d42",
   "metadata": {
    "tags": []
   },
   "outputs": [],
   "source": [
    "ckpt_dir = './agent' # create the agent folder"
   ]
  },
  {
   "cell_type": "markdown",
   "id": "b25a9a29",
   "metadata": {},
   "source": [
    "## Usefull Methods"
   ]
  },
  {
   "cell_type": "code",
   "execution_count": 3,
   "id": "a764cb53",
   "metadata": {
    "tags": []
   },
   "outputs": [
    {
     "name": "stderr",
     "output_type": "stream",
     "text": [
      "No GPU/TPU found, falling back to CPU. (Set TF_CPP_MIN_LOG_LEVEL=0 and rerun for more info.)\n"
     ]
    }
   ],
   "source": [
    "#random process N for action exploration \n",
    "#TODO: implement the Ornstein-Uhlenbeck process with θ = 0.15 and σ = 0.3\n",
    "@jtu.Partial(jax.jit, static_argnums=2)\n",
    "def noise(noise_scale=0.1, key=jax.random.PRNGKey(0), action_dim=2):\n",
    "    return noise_scale * jax.random.normal(key, (action_dim,))"
   ]
  },
  {
   "cell_type": "code",
   "execution_count": 4,
   "id": "ca06c72c",
   "metadata": {
    "tags": []
   },
   "outputs": [],
   "source": [
    "# Define the method to update model parameters\n",
    "\n",
    "# update critic\n",
    "@jax.jit\n",
    "def update_critic(model, states, actions, y):\n",
    "    def compute_critic_loss(params):\n",
    "        Q = model.apply_fn(params, states, actions)\n",
    "        \n",
    "        return jnp.mean((Q - y)**2) #compute loss\n",
    "    \n",
    "    loss, grads = jax.value_and_grad(compute_critic_loss)(model.params)\n",
    "    updated_model = model.apply_gradients(grads=grads)\n",
    "   \n",
    "    return updated_model, loss\n",
    "\n",
    "# udate actor\n",
    "@jtu.Partial(jax.jit, static_argnums=(3,))\n",
    "def update_actor(model, critic, states, action_dim):\n",
    "    def compute_actor_loss(params):\n",
    "        actions = model.apply_fn(params, states, action_dim)\n",
    "        \n",
    "        Q = critic.apply_fn(critic.params, states, actions)\n",
    "\n",
    "        return -jnp.mean(Q)  # Compute the actor loss\n",
    "\n",
    "    loss, grads = jax.value_and_grad(compute_actor_loss)(model.params)\n",
    "    updated_model = model.apply_gradients(grads=grads)\n",
    "\n",
    "    return updated_model, loss\n",
    "\n",
    "# Define the soft update function\n",
    "@jax.jit\n",
    "def soft_update(target_params, source_params, tau):\n",
    "    # Convert the source_params to a JAX-compatible data structure\n",
    "    source_params_tree = jtu.tree_map(lambda x: jnp.asarray(x), source_params)\n",
    "    target_params_tree = jtu.tree_map(lambda x: jnp.asarray(x), target_params)\n",
    "\n",
    "    # Compute the updated target parameters using a soft update\n",
    "    updated_params = jtu.tree_map(lambda x, y: tau * x + (1 - tau) * y,\n",
    "                                  source_params_tree, target_params_tree)\n",
    "\n",
    "    return updated_params"
   ]
  },
  {
   "cell_type": "markdown",
   "id": "67bb8988-b86d-4a4a-b5d5-16bc53c509e7",
   "metadata": {},
   "source": [
    "## Define ReplayBuffer"
   ]
  },
  {
   "cell_type": "code",
   "execution_count": 5,
   "id": "2b1d002d-136a-4677-bc5e-6a29b376062b",
   "metadata": {
    "tags": []
   },
   "outputs": [],
   "source": [
    "# define the replay buffer\n",
    "class ReplayBuffer():\n",
    "    def __init__(self, buffer_size, batch_size, key):\n",
    "        self.buffer_size = buffer_size\n",
    "        self.batch_size = batch_size\n",
    "        self.buffer = deque(maxlen=self.buffer_size)\n",
    "        self.key = key\n",
    "\n",
    "    def add(self, transition):\n",
    "        self.buffer.append(transition)\n",
    "\n",
    "    def sample_batch(self):\n",
    "        indices = jax.random.choice(self.key, len(self.buffer),\n",
    "                                    shape=(self.batch_size,), replace=True)\n",
    "        batch = [self.buffer[i] for i in indices]\n",
    "        \n",
    "        return zip(*batch)        "
   ]
  },
  {
   "cell_type": "markdown",
   "id": "a7a71636",
   "metadata": {},
   "source": [
    "## Define actor and critic model"
   ]
  },
  {
   "cell_type": "code",
   "execution_count": 6,
   "id": "44c7fe1b",
   "metadata": {
    "tags": []
   },
   "outputs": [],
   "source": [
    "#create the actor and critic newtorks like multilayer perceptrons\n",
    "class Critic(nn.Module):\n",
    "    \"\"\"critic model MLP\"\"\"\n",
    "    \n",
    "    @nn.compact\n",
    "    def __call__(self, observations, actions):\n",
    "        x = jnp.concatenate([observations, actions], axis=-1)\n",
    "        x = nn.Dense(features=256)(x)\n",
    "        x = nn.relu(x)\n",
    "        x = nn.Dense(features=256)(x)\n",
    "        x = nn.relu(x)\n",
    "        x = nn.Dense(features=1)(x)\n",
    "        return jnp.squeeze(x, axis=-1)\n",
    "    \n",
    "class Actor(nn.Module):\n",
    "    \"\"\"actor model MLP\"\"\"\n",
    "    \n",
    "    @nn.compact\n",
    "    def __call__(self, x, action_dim):\n",
    "        x = nn.Dense(features=256)(x)\n",
    "        x = nn.relu(x)\n",
    "        x = nn.Dense(features=256)(x)\n",
    "        x = nn.relu(x)\n",
    "        x = nn.Dense(features=action_dim)(x)\n",
    "        x = nn.tanh(x)\n",
    "        return x"
   ]
  },
  {
   "cell_type": "markdown",
   "id": "fc9e8513",
   "metadata": {},
   "source": [
    "## Define algorithm parameters"
   ]
  },
  {
   "cell_type": "code",
   "execution_count": 13,
   "id": "3d0967cc-3733-4ef2-9b3c-6fc7e8694a75",
   "metadata": {
    "tags": []
   },
   "outputs": [],
   "source": [
    "# define environment and parameters\n",
    "env = gym.make(\"InvertedPendulum-v4\")\n",
    "action_dim = env.action_space.shape[0]\n",
    "state_dim = env.observation_space.shape[0]\n",
    "\n",
    "#initialize parameters\n",
    "seed = 0\n",
    "random.seed(seed)\n",
    "key = jax.random.PRNGKey(seed)\n",
    "episodes = 100\n",
    "gamma = 0.99 #discount factor 0:nearly rewards, 1:future rewards\n",
    "tau = 0.001 #polyak between 0-1 updating target network\n",
    "max_episode_steps = 1000\n",
    "buffer_size = int(1e6) #memory size\n",
    "batch_size = 64 #The number of experiences sampled from the replay buffer\n",
    "actor_learning_rate = 1e-3\n",
    "critic_learning_rate = 1e-4\n",
    "noise_scale = 0.1 #scale of the noise for random process N for action exploration\n",
    "\n",
    "env = gym.wrappers.RecordEpisodeStatistics(env, deque_size=max_episode_steps)\n",
    "\n",
    "if os.path.exists(ckpt_dir):\n",
    "    shutil.rmtree(ckpt_dir)"
   ]
  },
  {
   "cell_type": "markdown",
   "id": "6ff5afde-d37d-4a65-8af7-316be0f76dbf",
   "metadata": {},
   "source": [
    "## Initialize models and buffer"
   ]
  },
  {
   "cell_type": "code",
   "execution_count": 14,
   "id": "af776785",
   "metadata": {
    "tags": []
   },
   "outputs": [],
   "source": [
    "\n",
    "# Randomly initialize critic network Q(s, a|θ_Q ) and actor μ(s|θ_μ ) with weights θ_Q and θ_μ .\n",
    "obs, _ = env.reset();\n",
    "\n",
    "# Initialize the training state actor and critic models\n",
    "critic = train_state.TrainState.create(\n",
    "    apply_fn=Critic().apply,\n",
    "    params=Critic().init(key, obs, env.action_space.sample()), #init critic parameters\n",
    "    tx=optax.adamw(learning_rate=critic_learning_rate, weight_decay=1e-2) #define optimizer\n",
    ")\n",
    "\n",
    "actor = train_state.TrainState.create(\n",
    "    apply_fn=Actor().apply,\n",
    "    params=Actor().init(key, obs, action_dim), #init actor parameters\n",
    "    tx=optax.adam(learning_rate=actor_learning_rate) #define optimizer\n",
    ")\n",
    "\n",
    "# to save agent\n",
    "config = {'dimensions': jnp.array([5,3]), 'name': 'actor'}\n",
    "ckpt = {'model': actor, 'config': config, 'data': actor.params}\n",
    "\n",
    "# print(Actor().tabulate(key, obs, action_dim))\n",
    "# print(Critic().tabulate(key, obs, env.action_space.sample()))"
   ]
  },
  {
   "cell_type": "code",
   "execution_count": 23,
   "id": "b4fede34",
   "metadata": {
    "tags": []
   },
   "outputs": [],
   "source": [
    "# Initialize target network Q_0_target and μ_0_target with weights \n",
    "# θ_Q_target ← θ_Q , θ_μ_target ← θ_μ\n",
    "\n",
    "# Initialize the training state for flax porpuses\n",
    "target_critic = train_state.TrainState.create(\n",
    "    apply_fn=Critic().apply,\n",
    "    params=critic.params,\n",
    "    tx=optax.adamw(learning_rate=critic_learning_rate, weight_decay=1e-2)\n",
    ")\n",
    "\n",
    "target_actor = train_state.TrainState.create(\n",
    "    apply_fn=Actor().apply,\n",
    "    params=actor.params,\n",
    "    tx=optax.adam(learning_rate=actor_learning_rate)\n",
    ")"
   ]
  },
  {
   "cell_type": "code",
   "execution_count": 16,
   "id": "80f4b370",
   "metadata": {
    "tags": []
   },
   "outputs": [],
   "source": [
    "# Initialize replay buffer R\n",
    "buffer = ReplayBuffer(buffer_size, batch_size, key)"
   ]
  },
  {
   "cell_type": "markdown",
   "id": "dd0dbd9c-a50a-477b-b860-f7a39d12ac9d",
   "metadata": {
    "tags": []
   },
   "source": [
    "## Training"
   ]
  },
  {
   "cell_type": "code",
   "execution_count": 19,
   "id": "670e041a",
   "metadata": {
    "tags": []
   },
   "outputs": [
    {
     "name": "stdout",
     "output_type": "stream",
     "text": [
      "Episode: 1\n",
      "Average reward => 8 Critic loss => 0.7871682 Actor loss => -0.18171911 \n",
      "\n",
      "Episode: 2\n",
      "Average reward => 6 Critic loss => 0.43031552 Actor loss => -0.523083 \n",
      "\n",
      "Episode: 3\n",
      "Average reward => 6 Critic loss => 0.37676162 Actor loss => -0.74130964 \n",
      "\n",
      "Episode: 4\n",
      "Average reward => 5 Critic loss => 0.2487797 Actor loss => -1.0630255 \n",
      "\n",
      "Episode: 5\n",
      "Average reward => 5 Critic loss => 0.25312555 Actor loss => -1.1241552 \n",
      "\n",
      "Episode: 6\n",
      "Average reward => 5 Critic loss => 0.25238425 Actor loss => -1.1106738 \n",
      "\n",
      "Episode: 7\n",
      "Average reward => 4 Critic loss => 0.18183687 Actor loss => -1.1184509 \n",
      "\n",
      "Episode: 8\n",
      "Average reward => 4 Critic loss => 0.16215831 Actor loss => -1.0683601 \n",
      "\n",
      "Episode: 9\n",
      "Average reward => 4 Critic loss => 0.06831454 Actor loss => -1.048114 \n",
      "\n",
      "Episode: 10\n",
      "Average reward => 4 Critic loss => 0.13977657 Actor loss => -1.0867119 \n",
      "\n",
      "Episode: 11\n",
      "Average reward => 4 Critic loss => 0.12953807 Actor loss => -1.1300366 \n",
      "\n",
      "Episode: 12\n",
      "Average reward => 4 Critic loss => 0.08892589 Actor loss => -1.1109114 \n",
      "\n",
      "Episode: 13\n",
      "Average reward => 4 Critic loss => 0.08678524 Actor loss => -1.1034817 \n",
      "\n",
      "Episode: 14\n",
      "Average reward => 4 Critic loss => 0.06656636 Actor loss => -1.0788031 \n",
      "\n",
      "Episode: 15\n",
      "Average reward => 4 Critic loss => 0.056589946 Actor loss => -1.046905 \n",
      "\n",
      "Episode: 16\n",
      "Average reward => 4 Critic loss => 0.050376445 Actor loss => -1.0429915 \n",
      "\n",
      "Episode: 17\n",
      "Average reward => 4 Critic loss => 0.06498227 Actor loss => -1.038642 \n",
      "\n",
      "Episode: 18\n",
      "Average reward => 4 Critic loss => 0.10518342 Actor loss => -1.0436594 \n",
      "\n",
      "Episode: 19\n",
      "Average reward => 4 Critic loss => 0.058156814 Actor loss => -1.041147 \n",
      "\n",
      "Episode: 20\n",
      "Average reward => 4 Critic loss => 0.031217705 Actor loss => -1.0316381 \n",
      "\n",
      "Episode: 21\n",
      "Average reward => 4 Critic loss => 0.07635397 Actor loss => -1.0296764 \n",
      "\n",
      "Episode: 22\n",
      "Average reward => 4 Critic loss => 0.07988015 Actor loss => -1.0283287 \n",
      "\n",
      "Episode: 23\n",
      "Average reward => 4 Critic loss => 0.045307055 Actor loss => -1.0250164 \n",
      "\n",
      "Episode: 24\n",
      "Average reward => 4 Critic loss => 0.041464433 Actor loss => -1.0305717 \n",
      "\n",
      "Episode: 25\n",
      "Average reward => 4 Critic loss => 0.060873885 Actor loss => -1.034066 \n",
      "\n",
      "Episode: 26\n",
      "Average reward => 4 Critic loss => 0.07798005 Actor loss => -1.0341318 \n",
      "\n",
      "Episode: 27\n",
      "Average reward => 4 Critic loss => 0.039164044 Actor loss => -1.0311735 \n",
      "\n",
      "Episode: 28\n",
      "Average reward => 4 Critic loss => 0.037388224 Actor loss => -1.0301238 \n",
      "\n",
      "Episode: 29\n",
      "Average reward => 4 Critic loss => 0.061661743 Actor loss => -1.0264736 \n",
      "\n",
      "Episode: 30\n",
      "Average reward => 4 Critic loss => 0.035138115 Actor loss => -1.0282772 \n",
      "\n",
      "Episode: 31\n",
      "Average reward => 4 Critic loss => 0.0078978455 Actor loss => -1.0273296 \n",
      "\n",
      "Episode: 32\n",
      "Average reward => 4 Critic loss => 0.021832187 Actor loss => -1.0228717 \n",
      "\n",
      "Episode: 33\n",
      "Average reward => 4 Critic loss => 0.040685944 Actor loss => -1.0238358 \n",
      "\n",
      "Episode: 34\n",
      "Average reward => 4 Critic loss => 0.04271412 Actor loss => -1.0300705 \n",
      "\n",
      "Episode: 35\n",
      "Average reward => 4 Critic loss => 0.04537819 Actor loss => -1.0315807 \n",
      "\n",
      "Episode: 36\n",
      "Average reward => 4 Critic loss => 0.02229479 Actor loss => -1.0291084 \n",
      "\n",
      "Episode: 37\n",
      "Average reward => 4 Critic loss => 0.036388546 Actor loss => -1.0239438 \n",
      "\n",
      "Episode: 38\n",
      "Average reward => 4 Critic loss => 0.034379102 Actor loss => -1.0209575 \n",
      "\n",
      "Episode: 39\n",
      "Average reward => 4 Critic loss => 0.030112699 Actor loss => -1.0192754 \n",
      "\n",
      "Episode: 40\n",
      "Average reward => 4 Critic loss => 0.042255215 Actor loss => -1.0217401 \n",
      "\n",
      "Episode: 41\n",
      "Average reward => 4 Critic loss => 0.04597252 Actor loss => -1.020978 \n",
      "\n",
      "Episode: 42\n",
      "Average reward => 4 Critic loss => 0.006456313 Actor loss => -1.0196912 \n",
      "\n",
      "Episode: 43\n",
      "Average reward => 4 Critic loss => 0.033976395 Actor loss => -1.0225209 \n",
      "\n",
      "Episode: 44\n",
      "Average reward => 4 Critic loss => 0.037376978 Actor loss => -1.0237443 \n",
      "\n",
      "Episode: 45\n",
      "Average reward => 4 Critic loss => 0.011592218 Actor loss => -1.0230463 \n",
      "\n",
      "Episode: 46\n",
      "Average reward => 4 Critic loss => 0.030664135 Actor loss => -1.0200723 \n",
      "\n",
      "Episode: 47\n",
      "Average reward => 4 Critic loss => 0.038558606 Actor loss => -1.0166459 \n",
      "\n",
      "Episode: 48\n",
      "Average reward => 4 Critic loss => 0.026298765 Actor loss => -1.0165229 \n",
      "\n",
      "Episode: 49\n",
      "Average reward => 4 Critic loss => 0.016634626 Actor loss => -1.0204417 \n",
      "\n",
      "Episode: 50\n",
      "Average reward => 4 Critic loss => 0.025495352 Actor loss => -1.018441 \n",
      "\n",
      "Execution time: 19.642331838607788\n"
     ]
    }
   ],
   "source": [
    "episodes_reward = []\n",
    "critic_loss = 0\n",
    "actor_loss = 0\n",
    "\n",
    "start_time = time.time()\n",
    "\n",
    "for i in range(episodes):\n",
    "    # Initialize a random process N for action exploration\n",
    "    N = noise(noise_scale, key, action_dim)\n",
    "    # Receive initial observation state s 1\n",
    "    state, info = env.reset()\n",
    "    done = False\n",
    "    \n",
    "    while not done:\n",
    "        \n",
    "        # Select action a_t = μ(s t |θ μ ) + N t according to the current policy and exploration noise\n",
    "        action = actor.apply_fn(actor.params, state, action_dim) + N\n",
    "        \n",
    "        # Execute action a t and observe reward r t and observe new state s t+1\n",
    "        observation, reward, terminated, truncated, _ = env.step(action)\n",
    "                \n",
    "        # Store transition (s t , a t , r t , s t+1 ) in R\n",
    "        transition = (state, action, reward, observation)\n",
    "        buffer.add(transition)\n",
    "                    \n",
    "        # Sample a random minibatch of N transitions (s i , a i , r i , s i+1 ) from R\n",
    "        states, actions, rewards, next_states = buffer.sample_batch()\n",
    "\n",
    "        # Set y = r  + γQ^0 (s_{i+1} , μ^0 (s_{i+1} |θ^μ )|θ^Q ) P\n",
    "        target_action = target_actor.apply_fn(target_actor.params,\n",
    "                                              jnp.asarray(next_states),\n",
    "                                              action_dim)\n",
    "\n",
    "\n",
    "        target_q = target_critic.apply_fn(target_critic.params,\n",
    "                                          jnp.asarray(next_states),\n",
    "                                          jnp.asarray(target_action))\n",
    "\n",
    "        rewards = jnp.asarray(rewards)\n",
    "\n",
    "        y = rewards + gamma * (1 - terminated) * target_q #corregir es un arreglo revisar paper\n",
    "\n",
    "\n",
    "        # Update critic by minimizing the loss\n",
    "        critic, critic_loss = update_critic(critic,\n",
    "                                            jnp.asarray(states),\n",
    "                                            jnp.asarray(actions),\n",
    "                                            jnp.asarray(y))\n",
    "\n",
    "        # Update the actor policy using the sampled gradient:\n",
    "        actor, actor_loss = update_actor(actor,\n",
    "                                         critic,\n",
    "                                         jnp.asarray(states),\n",
    "                                         action_dim)\n",
    "\n",
    "        # Update the target networks:\n",
    "        target_actor_params = soft_update(target_actor.params, actor.params, tau)\n",
    "        target_critic_params = soft_update(target_critic.params, critic.params, tau)\n",
    "        \n",
    "        # update if the environment is done and the current observation\n",
    "        done = terminated or truncated\n",
    "        state = observation\n",
    "    \n",
    "\n",
    "    episodes_reward.append(env.return_queue[-1]) \n",
    "    avg_reward = int(np.mean(env.return_queue))\n",
    "    \n",
    "\n",
    "    print(\"Episode:\", i+1)\n",
    "    \n",
    "    print(\"Average reward =>\", avg_reward, \n",
    "          \"Critic loss =>\", critic_loss, \n",
    "          \"Actor loss =>\", actor_loss, \"\\n\") \n",
    "\n",
    "env.close()\n",
    "\n",
    "# execution time\n",
    "end_time = time.time()\n",
    "execution_time = end_time - start_time\n",
    "print(\"Execution time:\", execution_time)"
   ]
  },
  {
   "cell_type": "markdown",
   "id": "0d04fcd1-8596-4ac2-bc2b-4b7c625a7c02",
   "metadata": {
    "tags": []
   },
   "source": [
    "## Save agent"
   ]
  },
  {
   "cell_type": "code",
   "execution_count": 20,
   "id": "77b42bf7-a946-4eb7-aa50-d4537c3fbda0",
   "metadata": {
    "tags": []
   },
   "outputs": [],
   "source": [
    "# save agent\n",
    "orbax_checkpointer = orbax.checkpoint.PyTreeCheckpointer()\n",
    "save_args = orbax_utils.save_args_from_target(ckpt)\n",
    "orbax_checkpointer.save('./agent', ckpt, save_args=save_args)"
   ]
  },
  {
   "cell_type": "markdown",
   "id": "496fd34a",
   "metadata": {},
   "source": [
    "## Visualizing the training"
   ]
  },
  {
   "cell_type": "code",
   "execution_count": 21,
   "id": "217629c7",
   "metadata": {
    "tags": []
   },
   "outputs": [
    {
     "data": {
      "image/png": "[encoded data removed]",
      "text/plain": [
       "<Figure size 640x480 with 1 Axes>"
      ]
     },
     "metadata": {},
     "output_type": "display_data"
    }
   ],
   "source": [
    "rewards_to_plot = [rewards for rewards in episodes_reward]\n",
    "\n",
    "plt.plot(range(episodes), episodes_reward)\n",
    "plt.xlabel('Episodes')\n",
    "plt.ylabel('Reward')\n",
    "plt.grid()\n",
    "plt.title('Rewards over episodes')\n",
    "plt.show()"
   ]
  },
  {
   "cell_type": "markdown",
   "id": "fc5ff1e7",
   "metadata": {
    "tags": []
   },
   "source": [
    "## Test Agent"
   ]
  },
  {
   "cell_type": "code",
   "execution_count": null,
   "id": "896b582a",
   "metadata": {},
   "outputs": [],
   "source": [
    "# restore agent\n",
    "raw_restored = orbax_checkpointer.restore('./agent')\n",
    "actor_params = raw_restored['data']"
   ]
  },
  {
   "cell_type": "code",
   "execution_count": null,
   "id": "53364c89",
   "metadata": {},
   "outputs": [],
   "source": [
    "env = gym.make(\"InvertedPendulum-v4\", render_mode=\"human\")\n",
    "\n",
    "observation, info = env.reset()\n",
    "\n",
    "for _ in range(1000):\n",
    "    action = actor.apply_fn(actor_params, observation, env.action_space.shape[0])\n",
    "    observation, reward, terminated, truncated, info = env.step(action)\n",
    "\n",
    "    if terminated or truncated:\n",
    "        observation, info = env.reset()\n",
    "\n",
    "env.close()"
   ]
  }
 ],
 "metadata": {
  "kernelspec": {
   "display_name": "Python 3 (ipykernel)",
   "language": "python",
   "name": "python3"
  },
  "language_info": {
   "codemirror_mode": {
    "name": "ipython",
    "version": 3
   },
   "file_extension": ".py",
   "mimetype": "text/x-python",
   "name": "python",
   "nbconvert_exporter": "python",
   "pygments_lexer": "ipython3",
   "version": "3.10.12"
  },
  "toc-autonumbering": true,
  "toc-showcode": false,
  "toc-showmarkdowntxt": false
 },
 "nbformat": 4,
 "nbformat_minor": 5
}
