{
 "cells": [
  {
   "cell_type": "markdown",
   "id": "e524b141",
   "metadata": {},
   "source": [
    "# DDPG algorithm"
   ]
  },
  {
   "cell_type": "markdown",
   "id": "c64325f1",
   "metadata": {},
   "source": [
    "## Initialize actor and critic network"
   ]
  },
  {
   "cell_type": "code",
   "execution_count": 9,
   "id": "59b15bcf",
   "metadata": {},
   "outputs": [],
   "source": [
    "import jax.numpy as jnp\n",
    "import jax\n",
    "from jax import grad, jit, vmap\n",
    "from jax import random\n",
    "from flax import linen as nn  # Linen API\n",
    "from collections import deque\n",
    "import gymnasium as gym\n",
    "\n",
    "F_CPP_MIN_LOG_LEVEL=0"
   ]
  },
  {
   "cell_type": "code",
   "execution_count": 4,
   "id": "b2713383",
   "metadata": {},
   "outputs": [],
   "source": [
    "#create the actor and critic newtorks like multilayer perceptrons\n",
    "action_dim = 10\n",
    "state_dim = 20\n",
    "\n",
    "class Critic(nn.Module):\n",
    "    \"\"\"critic model MLP\"\"\"\n",
    "    \n",
    "    @nn.compact\n",
    "    def __call__(self, x):\n",
    "        x = nn.Dense(features=256)(x)\n",
    "        x = nn.relu(x)\n",
    "        x = nn.Dense(features=256)(x)\n",
    "        x = nn.relu(x)\n",
    "        x = nn.Dense(features=1)(x)\n",
    "        return x\n",
    "    \n",
    "class Actor(nn.Module):\n",
    "    \"\"\"actor model MLP\"\"\"\n",
    "    \n",
    "    @nn.compact\n",
    "    def __call__(self, x):\n",
    "        x = nn.Dense(features=256)(x)\n",
    "        x = nn.relu(x)\n",
    "        x = nn.Dense(features=256)(x)\n",
    "        x = nn.relu(x)\n",
    "        x = nn.Dense(features=action_dim)(x)\n",
    "        x = nn.tanh(x)\n",
    "        return x"
   ]
  },
  {
   "cell_type": "code",
   "execution_count": 5,
   "id": "d3eb7881",
   "metadata": {
    "scrolled": true
   },
   "outputs": [
    {
     "name": "stderr",
     "output_type": "stream",
     "text": [
      "No GPU/TPU found, falling back to CPU. (Set TF_CPP_MIN_LOG_LEVEL=0 and rerun for more info.)\n"
     ]
    },
    {
     "name": "stdout",
     "output_type": "stream",
     "text": [
      "\n",
      "\u001b[3m                                Actor Summary                                \u001b[0m\n",
      "┏━━━━━━━━━┳━━━━━━━━┳━━━━━━━━━━━━━━┳━━━━━━━━━━━━━━┳━━━━━━━━━━━━━━━━━━━━━━━━━━┓\n",
      "┃\u001b[1m \u001b[0m\u001b[1mpath   \u001b[0m\u001b[1m \u001b[0m┃\u001b[1m \u001b[0m\u001b[1mmodule\u001b[0m\u001b[1m \u001b[0m┃\u001b[1m \u001b[0m\u001b[1minputs      \u001b[0m\u001b[1m \u001b[0m┃\u001b[1m \u001b[0m\u001b[1moutputs     \u001b[0m\u001b[1m \u001b[0m┃\u001b[1m \u001b[0m\u001b[1mparams                  \u001b[0m\u001b[1m \u001b[0m┃\n",
      "┡━━━━━━━━━╇━━━━━━━━╇━━━━━━━━━━━━━━╇━━━━━━━━━━━━━━╇━━━━━━━━━━━━━━━━━━━━━━━━━━┩\n",
      "│         │ Actor  │ - 1          │ \u001b[2mfloat32\u001b[0m[10]  │                          │\n",
      "│         │        │ - 20         │              │                          │\n",
      "├─────────┼────────┼──────────────┼──────────────┼──────────────────────────┤\n",
      "│ Dense_0 │ Dense  │ - 1          │ \u001b[2mfloat32\u001b[0m[256] │ bias: \u001b[2mfloat32\u001b[0m[256]       │\n",
      "│         │        │ - 20         │              │ kernel: \u001b[2mfloat32\u001b[0m[2,256]   │\n",
      "│         │        │              │              │                          │\n",
      "│         │        │              │              │ \u001b[1m768 \u001b[0m\u001b[1;2m(3.1 KB)\u001b[0m             │\n",
      "├─────────┼────────┼──────────────┼──────────────┼──────────────────────────┤\n",
      "│ Dense_1 │ Dense  │ \u001b[2mfloat32\u001b[0m[256] │ \u001b[2mfloat32\u001b[0m[256] │ bias: \u001b[2mfloat32\u001b[0m[256]       │\n",
      "│         │        │              │              │ kernel: \u001b[2mfloat32\u001b[0m[256,256] │\n",
      "│         │        │              │              │                          │\n",
      "│         │        │              │              │ \u001b[1m65,792 \u001b[0m\u001b[1;2m(263.2 KB)\u001b[0m        │\n",
      "├─────────┼────────┼──────────────┼──────────────┼──────────────────────────┤\n",
      "│ Dense_2 │ Dense  │ \u001b[2mfloat32\u001b[0m[256] │ \u001b[2mfloat32\u001b[0m[10]  │ bias: \u001b[2mfloat32\u001b[0m[10]        │\n",
      "│         │        │              │              │ kernel: \u001b[2mfloat32\u001b[0m[256,10]  │\n",
      "│         │        │              │              │                          │\n",
      "│         │        │              │              │ \u001b[1m2,570 \u001b[0m\u001b[1;2m(10.3 KB)\u001b[0m          │\n",
      "├─────────┼────────┼──────────────┼──────────────┼──────────────────────────┤\n",
      "│\u001b[1m \u001b[0m\u001b[1m       \u001b[0m\u001b[1m \u001b[0m│\u001b[1m \u001b[0m\u001b[1m      \u001b[0m\u001b[1m \u001b[0m│\u001b[1m \u001b[0m\u001b[1m            \u001b[0m\u001b[1m \u001b[0m│\u001b[1m \u001b[0m\u001b[1m       Total\u001b[0m\u001b[1m \u001b[0m│\u001b[1m \u001b[0m\u001b[1m69,130 \u001b[0m\u001b[1;2m(276.5 KB)\u001b[0m\u001b[1m       \u001b[0m\u001b[1m \u001b[0m│\n",
      "└─────────┴────────┴──────────────┴──────────────┴──────────────────────────┘\n",
      "\u001b[1m                                                                             \u001b[0m\n",
      "\u001b[1m                     Total Parameters: 69,130 \u001b[0m\u001b[1;2m(276.5 KB)\u001b[0m\u001b[1m                     \u001b[0m\n",
      "\n",
      "\n",
      "critic parameters:\n",
      " FrozenDict({\n",
      "    params: {\n",
      "        Dense_0: {\n",
      "            bias: (256,),\n",
      "            kernel: (30, 256),\n",
      "        },\n",
      "        Dense_1: {\n",
      "            bias: (256,),\n",
      "            kernel: (256, 256),\n",
      "        },\n",
      "        Dense_2: {\n",
      "            bias: (1,),\n",
      "            kernel: (256, 1),\n",
      "        },\n",
      "    },\n",
      "}) \n",
      "\n",
      "actor parameters:\n",
      " FrozenDict({\n",
      "    params: {\n",
      "        Dense_0: {\n",
      "            bias: (256,),\n",
      "            kernel: (20, 256),\n",
      "        },\n",
      "        Dense_1: {\n",
      "            bias: (256,),\n",
      "            kernel: (256, 256),\n",
      "        },\n",
      "        Dense_2: {\n",
      "            bias: (10,),\n",
      "            kernel: (256, 10),\n",
      "        },\n",
      "    },\n",
      "})\n"
     ]
    }
   ],
   "source": [
    "# Randomly initialize critic network Q(s, a|θ_Q ) and actor μ(s|θ_μ ) with weights θ_Q and θ_μ .\n",
    "key = random.PRNGKey(0)\n",
    "critic = Critic()\n",
    "critic_input = jnp.ones((1, state_dim + action_dim))\n",
    "critic_params = critic.init(key, critic_input)\n",
    "actor = Actor()\n",
    "actor_input = jnp.ones((1, state_dim))\n",
    "actor_params = actor.init(key, actor_input)\n",
    "\n",
    "print(actor.tabulate(key, (1, state_dim) ))\n",
    "\n",
    "check_critic = jax.tree_util.tree_map(lambda x: x.shape, critic_params) #checking critic params\n",
    "check_actor = jax.tree_util.tree_map(lambda x: x.shape, actor_params) #checking actor params\n",
    "\n",
    "print(\"critic parameters:\\n\", check_critic, \"\\n\")\n",
    "print(\"actor parameters:\\n\", check_actor)"
   ]
  },
  {
   "cell_type": "code",
   "execution_count": 6,
   "id": "93662f43",
   "metadata": {},
   "outputs": [
    {
     "data": {
      "text/plain": [
       "Array([[-0.8972499]], dtype=float32)"
      ]
     },
     "execution_count": 6,
     "metadata": {},
     "output_type": "execute_result"
    }
   ],
   "source": [
    "#foward example with the initial  parameters \n",
    "# the parameters never store in the model\n",
    "critic.apply(critic_params, critic_input)"
   ]
  },
  {
   "cell_type": "code",
   "execution_count": 7,
   "id": "6dea0af6",
   "metadata": {},
   "outputs": [
    {
     "data": {
      "text/plain": [
       "Array([[-0.28007025, -0.21052897, -0.23458375, -0.5754893 , -0.56756514,\n",
       "        -0.14069036,  0.14474116, -0.06463255, -0.6299922 ,  0.8642028 ]],      dtype=float32)"
      ]
     },
     "execution_count": 7,
     "metadata": {},
     "output_type": "execute_result"
    }
   ],
   "source": [
    "actor.apply(actor_params, actor_input)"
   ]
  },
  {
   "cell_type": "code",
   "execution_count": 8,
   "id": "80f4b370",
   "metadata": {},
   "outputs": [],
   "source": [
    "# Initialize target network Q_0_target and μ_0_target with weights \n",
    "# θ_Q_target ← θ_Q , θ_μ_target ← θ_μ\n",
    "target_critic = Critic()\n",
    "target_actor = Actor()\n",
    "\n",
    "target_critic_params = critic_params\n",
    "target_actor_params = actor_params\n"
   ]
  },
  {
   "cell_type": "code",
   "execution_count": 19,
   "id": "eb5437a8",
   "metadata": {},
   "outputs": [],
   "source": [
    "# Initialize replay buffer R\n",
    "buffer_size = 1000\n",
    "buffer = deque(maxlen=buffer_size)"
   ]
  },
  {
   "cell_type": "code",
   "execution_count": null,
   "id": "cdb04edc",
   "metadata": {},
   "outputs": [],
   "source": []
  }
 ],
 "metadata": {
  "kernelspec": {
   "display_name": "Python 3 (ipykernel)",
   "language": "python",
   "name": "python3"
  },
  "language_info": {
   "codemirror_mode": {
    "name": "ipython",
    "version": 3
   },
   "file_extension": ".py",
   "mimetype": "text/x-python",
   "name": "python",
   "nbconvert_exporter": "python",
   "pygments_lexer": "ipython3",
   "version": "3.9.16"
  }
 },
 "nbformat": 4,
 "nbformat_minor": 5
}
