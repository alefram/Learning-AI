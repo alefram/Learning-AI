{
 "cells": [
  {
   "cell_type": "markdown",
   "id": "15daf248",
   "metadata": {},
   "source": [
    "# Jax stuff"
   ]
  },
  {
   "cell_type": "code",
   "execution_count": 12,
   "id": "80355242",
   "metadata": {},
   "outputs": [],
   "source": [
    "import jax.numpy as jnp\n",
    "from jax import grad, jit, vmap\n",
    "from jax import random\n",
    "import numpy as np\n",
    "\n",
    "TF_CPP_MIN_LOG_LEVEL = 0"
   ]
  },
  {
   "cell_type": "code",
   "execution_count": 8,
   "id": "929dc489",
   "metadata": {},
   "outputs": [
    {
     "name": "stdout",
     "output_type": "stream",
     "text": [
      "[0 0]\n",
      "[-0.3721109   0.26423115 -0.18252768 -0.7368197  -0.44030377 -0.1521442\n",
      " -0.67135346 -0.5908641   0.73168886  0.5673026 ]\n"
     ]
    }
   ],
   "source": [
    "# generate random numbers\n",
    "key = random.PRNGKey(0)\n",
    "print(key)\n",
    "x = random.normal(key, (10,))\n",
    "print(x)"
   ]
  },
  {
   "cell_type": "code",
   "execution_count": 11,
   "id": "07e46c3c",
   "metadata": {},
   "outputs": [
    {
     "name": "stdout",
     "output_type": "stream",
     "text": [
      "[[ 1.3890220e+00 -3.2292119e-01  1.5543443e-01 ...  1.6672333e-01\n",
      "   1.0217550e+00  9.6981764e-02]\n",
      " [ 1.0637628e+00 -1.8089763e+00 -7.7909984e-02 ...  1.1778636e+00\n",
      "  -4.3357372e-01 -2.7877533e-01]\n",
      " [-4.4029754e-01 -3.2537547e-01  2.7817255e-01 ...  6.8317270e-01\n",
      "  -6.1108190e-01 -6.3071573e-01]\n",
      " ...\n",
      " [ 2.9218230e-01 -4.0055802e-01 -1.4978158e+00 ...  3.0673659e+00\n",
      "  -1.1350130e+00  4.0964666e-01]\n",
      " [ 2.7635786e-01  1.5621810e-01  2.2997444e-03 ...  6.8930797e-02\n",
      "  -4.0692501e-02  4.1683877e-01]\n",
      " [ 1.0231308e+00 -2.7423611e-01 -8.0369931e-01 ...  1.9415886e+00\n",
      "   1.0946991e+00  2.1876085e+00]]\n",
      "923 ms ± 9.51 ms per loop (mean ± std. dev. of 7 runs, 1 loop each)\n"
     ]
    }
   ],
   "source": [
    "#multiply two matrices\n",
    "size = 3000\n",
    "x = random.normal(key, (size, size), dtype=jnp.float32)\n",
    "print(x)\n",
    "%timeit jnp.dot(x, x.T).block_until_ready()  # time execution?\n"
   ]
  },
  {
   "cell_type": "code",
   "execution_count": 13,
   "id": "d8aa0f9d",
   "metadata": {},
   "outputs": [
    {
     "name": "stdout",
     "output_type": "stream",
     "text": [
      "835 ms ± 20.6 ms per loop (mean ± std. dev. of 7 runs, 1 loop each)\n"
     ]
    }
   ],
   "source": [
    "# numpy try\n",
    "x = np.random.normal(size=(size, size)).astype(np.float32)\n",
    "%timeit jnp.dot(x, x.T).block_until_ready()"
   ]
  },
  {
   "cell_type": "code",
   "execution_count": 18,
   "id": "7735f3dd",
   "metadata": {},
   "outputs": [
    {
     "name": "stdout",
     "output_type": "stream",
     "text": [
      "without jit\n",
      "7.44 ms ± 503 µs per loop (mean ± std. dev. of 7 runs, 100 loops each)\n",
      "\n",
      "\n",
      "with jit\n",
      "1.46 ms ± 53.8 µs per loop (mean ± std. dev. of 7 runs, 1,000 loops each)\n"
     ]
    }
   ],
   "source": [
    "# using jit to speed up function\n",
    "def selu(x, alpha=1.67, lmbda=1.05):\n",
    "  return lmbda * jnp.where(x > 0, x, alpha * jnp.exp(x) - alpha)\n",
    "\n",
    "x = random.normal(key, (1000000,))\n",
    "\n",
    "print(\"without jit\")\n",
    "%timeit selu(x).block_until_ready()\n",
    "\n",
    "print(\"\\n\")\n",
    "\n",
    "print(\"with jit\")\n",
    "selu_jit = jit(selu)\n",
    "%timeit selu_jit(x).block_until_ready()"
   ]
  },
  {
   "cell_type": "code",
   "execution_count": 19,
   "id": "deb1918f",
   "metadata": {},
   "outputs": [
    {
     "name": "stdout",
     "output_type": "stream",
     "text": [
      "[0.25       0.19661197 0.10499357]\n"
     ]
    }
   ],
   "source": [
    "# using grad to do autograd\n",
    "def sum_logistic(x):\n",
    "  return jnp.sum(1.0 / (1.0 + jnp.exp(-x)))\n",
    "\n",
    "x_small = jnp.arange(3.)\n",
    "derivative_fn = grad(sum_logistic)\n",
    "print(derivative_fn(x_small))"
   ]
  },
  {
   "cell_type": "code",
   "execution_count": 21,
   "id": "543d6e96",
   "metadata": {},
   "outputs": [
    {
     "name": "stdout",
     "output_type": "stream",
     "text": [
      "Naively batched\n",
      "2.81 ms ± 51.6 µs per loop (mean ± std. dev. of 7 runs, 100 loops each)\n",
      "Manually batched\n",
      "27.3 µs ± 638 ns per loop (mean ± std. dev. of 7 runs, 10,000 loops each)\n"
     ]
    }
   ],
   "source": [
    "#using vmap to apply functions to multiple inputs\n",
    "mat = random.normal(key, (150, 100))\n",
    "batched_x = random.normal(key, (10, 100))\n",
    "\n",
    "def apply_matrix(v):\n",
    "  return jnp.dot(mat, v)\n",
    "\n",
    "def naively_batched_apply_matrix(v_batched):\n",
    "  return jnp.stack([apply_matrix(v) for v in v_batched])\n",
    "\n",
    "print('Naively batched')\n",
    "%timeit naively_batched_apply_matrix(batched_x).block_until_ready()\n",
    "\n",
    "@jit\n",
    "def batched_apply_matrix(v_batched):\n",
    "  return jnp.dot(v_batched, mat.T)\n",
    "\n",
    "print('Manually batched')\n",
    "%timeit batched_apply_matrix(batched_x).block_until_ready()"
   ]
  },
  {
   "cell_type": "code",
   "execution_count": null,
   "id": "235a4bf7",
   "metadata": {},
   "outputs": [],
   "source": []
  }
 ],
 "metadata": {
  "kernelspec": {
   "display_name": "Python 3 (ipykernel)",
   "language": "python",
   "name": "python3"
  },
  "language_info": {
   "codemirror_mode": {
    "name": "ipython",
    "version": 3
   },
   "file_extension": ".py",
   "mimetype": "text/x-python",
   "name": "python",
   "nbconvert_exporter": "python",
   "pygments_lexer": "ipython3",
   "version": "3.9.16"
  }
 },
 "nbformat": 4,
 "nbformat_minor": 5
}
