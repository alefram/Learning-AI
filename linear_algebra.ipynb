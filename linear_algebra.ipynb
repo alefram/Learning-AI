{
 "cells": [
  {
   "cell_type": "markdown",
   "metadata": {},
   "source": [
    "# Algebra lineal\n",
    "## libreria utiles \n",
    "- Numpy\n",
    "- numpy.linalg\n",
    "- scipy.linalg\n",
    "- Simpy (algebra simbolica)\n",
    "- CVXOPT (problemas de optimización)\n",
    "- PuLP ( para crear modelos de programación lineal de manera sencilla)\n",
    "- matplotlib (para realizar graficos)"
   ]
  },
  {
   "cell_type": "markdown",
   "metadata": {},
   "source": [
    "## Vectores"
   ]
  },
  {
   "cell_type": "code",
   "execution_count": 1,
   "metadata": {},
   "outputs": [],
   "source": [
    "import numpy as np\n",
    "import matplotlib.pyplot as plt\n",
    "import mpl_toolkits.mplot3d\n"
   ]
  },
  {
   "cell_type": "code",
   "execution_count": 2,
   "metadata": {},
   "outputs": [
    {
     "data": {
      "image/png": "[encoded data removed]",
      "text/plain": [
       "<Figure size 640x480 with 1 Axes>"
      ]
     },
     "metadata": {},
     "output_type": "display_data"
    }
   ],
   "source": [
    "# dibujar vectores\n",
    "# vector = plt.quiver(0,0,5,5, color='b', units='xy', scale=1)\n",
    "\n",
    "fig = plt.figure()\n",
    "ax = fig.add_subplot(1, 1, 1)\n",
    "\n",
    "plt.quiver(0,0,5,5, color='b', units='xy', scale=1)\n",
    "\n",
    "# Move left y-axis and bottim x-axis to centre, passing through (0,0)\n",
    "ax.spines['left'].set_position('center')\n",
    "ax.spines['bottom'].set_position('center')\n",
    "\n",
    "# Eliminate upper and right axes\n",
    "ax.spines['right'].set_color('none')\n",
    "ax.spines['top'].set_color('none')\n",
    "\n",
    "# Show ticks in the left and lower axes only\n",
    "ax.xaxis.set_ticks_position('bottom')\n",
    "ax.yaxis.set_ticks_position('left')\n",
    "\n",
    "plt.xlim(-10, 10)\n",
    "plt.ylim(-10, 10,)\n",
    "plt.grid()\n",
    "  \n",
    "plt.show()"
   ]
  },
  {
   "cell_type": "code",
   "execution_count": 4,
   "metadata": {},
   "outputs": [
    {
     "data": {
      "image/png": "[encoded data removed]",
      "text/plain": [
       "<Figure size 640x480 with 1 Axes>"
      ]
     },
     "metadata": {},
     "output_type": "display_data"
    },
    {
     "data": {
      "image/png": "[encoded data removed]",
      "text/plain": [
       "<Figure size 640x480 with 1 Axes>"
      ]
     },
     "metadata": {},
     "output_type": "display_data"
    }
   ],
   "source": [
    "# crear función que dibuje en 3 dimensiones el vector\n",
    "\n",
    "def plot_vector(vector,dimension):\n",
    "    if dimension == '3d':\n",
    "        assert vector.size == 3\n",
    "        ax = plt.figure().add_subplot(projection='3d')\n",
    "        ax.quiver(0,0,0, vector[0],vector[1],vector[2],length=0.1, normalize=True)\n",
    "    \n",
    "    if dimension == '2d':\n",
    "        assert vector.size == 2\n",
    "        ax = plt.figure().add_subplot(1,1,1)\n",
    "        ax.quiver(0,0, vector[0],vector[1], color='b', units='xy', scale=1)\n",
    "        \n",
    "        # Move left y-axis and bottim x-axis to centre, passing through (0,0)\n",
    "        ax.spines['left'].set_position('center')\n",
    "        ax.spines['bottom'].set_position('center')\n",
    "\n",
    "        # Eliminate upper and right axes\n",
    "        ax.spines['right'].set_color('none')\n",
    "        ax.spines['top'].set_color('none')\n",
    "\n",
    "        # Show ticks in the left and lower axes only\n",
    "        ax.xaxis.set_ticks_position('bottom')\n",
    "        ax.yaxis.set_ticks_position('left')\n",
    "        \n",
    "        plt.xlim(-5, 5)\n",
    "        plt.ylim(-5, 5)\n",
    "        plt.grid()\n",
    "        \n",
    "\n",
    "    plt.show()\n",
    "\n",
    "vector3 = np.array([0.2,0.2,0.1])\n",
    "vector2 = np.array([1,0])\n",
    "vector = np.array([0,1])\n",
    "plot_vector(vector2,'2d')\n",
    "plot_vector(vector,'2d')"
   ]
  },
  {
   "cell_type": "markdown",
   "metadata": {},
   "source": [
    "## Operaciones con vectores\n",
    "\n",
    "Vectores: $ x = (x_{1}, ... , x_{n})$\n",
    "\n",
    "suma:$ x + y =  \\left[ {\\begin{array}{c} x_{1} + y_{1} \\\\ x_{2} + y_{2} \\\\ . \\\\ . \\\\ x_{n} + y_{n}  \\end{array}} \\right]$ ; resta: $x - y  = \\left[ {\\begin{array}{c} x_{1} - y_{1} \\\\ x_{2} - y_{2} \\\\ . \\\\ . \\\\ x_{n} - y_{n}  \\end{array}} \\right]$; Multiplicación: $\\tau x = \\left[ {\\begin{array}{c} \\tau x_{1} \\\\ \\tau x_{2} \\\\ . \\\\ . \\\\ \\tau x_{n}   \\end{array}} \\right]$ \n",
    "\n",
    "Producto Escalar: $<x,y> = \\sum_{i=1}^{n}x_{i}y_{i}$ \n",
    "\n",
    "Norma de un vector: $||x|| = \\sqrt{<x,x>} = ( \\sum_{i=1}^{n}x_{i}^{2} )^{1/2}$\n"
   ]
  },
  {
   "cell_type": "code",
   "execution_count": 11,
   "metadata": {},
   "outputs": [
    {
     "name": "stdout",
     "output_type": "stream",
     "text": [
      "vector1: [1. 1. 1.]\n",
      "vector2: [1 2 4]\n",
      "vector3: [1 2 3]\n"
     ]
    }
   ],
   "source": [
    "# vector solo python.\n",
    "vector = [1, 2, 3, 4]\n",
    "\n",
    "# vector con numpy\n",
    "import numpy as np\n",
    "vector1 = np.ones(3) #vector solo de unos\n",
    "vector2 = np.array([1, 2, 4]) #vector con arrays de python\n",
    "vector3 = np.arange(1,4) # vector con rango de 1-3 ; resultado = array([1,2,3])\n",
    "\n",
    "print(\"vector1:\", vector1)\n",
    "print(\"vector2:\", vector2)\n",
    "print(\"vector3:\", vector3)"
   ]
  },
  {
   "cell_type": "code",
   "execution_count": 10,
   "metadata": {},
   "outputs": [
    {
     "name": "stdout",
     "output_type": "stream",
     "text": [
      "suma: [2 4 6]\n",
      "resta: [0 0 0]\n",
      "multiplicación: [2 4 6]\n",
      "producto escalar 1: 14\n",
      "producto escalar 2: (14, 14)\n",
      "normal: 3.7416573867739413\n",
      "norma2: 3.7416573867739413\n"
     ]
    }
   ],
   "source": [
    "x = np.array([1, 2, 3])\n",
    "y = np.array([1, 2, 3])\n",
    " \n",
    "# suma\n",
    "suma = x + y # resultado array([2, 4, 6])\n",
    "print(\"suma:\", suma)\n",
    "\n",
    "# resta\n",
    "resta = x - y # resultado array([0, 0, 0])\n",
    "print(\"resta:\", resta)\n",
    "\n",
    "# multiplicación\n",
    "multiplicacion = x * 2 #resultado array([2, 4, 6])\n",
    "print(\"multiplicación:\", multiplicacion)\n",
    "\n",
    "# producto escalar\n",
    "prod_escalar1 = x @ y # resultado 14\n",
    "prod_escalar2 = sum(x * y), np.dot(x,y) # resultado (14,14)\n",
    "print(\"producto escalar 1:\", prod_escalar1)\n",
    "print(\"producto escalar 2:\", prod_escalar2)\n",
    "\n",
    "# normal de un vector\n",
    "normal = np.linalg.norm(x) #resultado 3.7416...\n",
    "normal2 = np.sqrt(x @ x)\n",
    "print(\"normal:\", normal)\n",
    "print(\"norma2:\", normal2)\n"
   ]
  },
  {
   "cell_type": "markdown",
   "metadata": {},
   "source": [
    "## Matrices \n",
    "\n",
    "$A  = \\left[ {\\begin{array}{cccc} a_{11} & a_{12} & ... & a_{1k} \\\\  a_{21} & a_{22} & ... & a_{2k} \\\\ . & . & & . \\\\ . & . & & . \\\\ a_{n1} & a_{n2} & ... & a_{nk}  \\end{array}} \\right]$\n",
    "\n",
    "suma: $A + B = \\left [ \\begin{array}{ccc} a_{11} & ... & a_{1k} \\\\ . & . & . \\\\ . & . & . \\\\ a_{n1} & ... & a_{nk}   \\end{array} \\right] + \\left [ \\begin{array}{ccc} b_{11} & ... & b_{1k} \\\\ . & . & . \\\\ . & .& .& \\\\  b_{n1} & ... & b_{nk} \\end{array} \\right ] = \\left [ \\begin{array}{cccc} a_{11} + b_{11} & ... & a_{1k} + b_{1k} \\\\ . & . & . & \\\\ . & . & . \\\\ a_{n1} + b_{n1} & ... & a_{nk} + b_{nk} \\end{array} \\right ]$\n",
    "\n",
    "resta: $A - B = \\left [ \\begin{array}{ccc} a_{11} & ... & a_{1k} \\\\ . & . & . \\\\ . & . & . \\\\ a_{n1} & ... & a_{nk}   \\end{array} \\right] + \\left [ \\begin{array}{ccc} b_{11} & ... & b_{1k} \\\\ . & . & . \\\\ . & .& .& \\\\  b_{n1} & ... & b_{nk} \\end{array} \\right ] = \\left [ \\begin{array}{cccc} a_{11} - b_{11} & ... & a_{1k} - b_{1k} \\\\ . & . & . & \\\\ . & . & . \\\\ a_{n1} - b_{n1} & ... & a_{nk} - b_{nk} \\end{array} \\right ]$\n",
    "  \n",
    "Multiplicación: $\\tau A =  \\left [ \\begin{array}{cccc} \\tau a_{11} & ... & \\tau a_{1k} \\\\ . & . & . & \\\\ . & . & . \\\\ \\tau a_{n1} & ... & \\tau a_{nk} \\end{array} \\right ]$\n",
    "\n",
    "Cuando se multiplica con matrices el numero de columnas de la primera matriz deber ser igual al numero de filas de la segunda matriz; y el resultado de esta multiplicación va a tener el mismo numero de filas que la primera matriz y el numero de la columnas de la segunda matriz. \n",
    "\n",
    "$AxB \\not= BxA$"
   ]
  },
  {
   "cell_type": "code",
   "execution_count": 14,
   "metadata": {},
   "outputs": [
    {
     "name": "stdout",
     "output_type": "stream",
     "text": [
      "suma: [[2 3 7]\n",
      " [8 5 0]\n",
      " [3 3 3]]\n",
      "resta: [[ 0  3 -3]\n",
      " [-6 -5  0]\n",
      " [-1  1  1]]\n",
      "multiplicación: [[2 6 4]\n",
      " [2 0 0]\n",
      " [2 4 4]]\n",
      "dimensión: (3, 3)\n",
      "elementos de la matriz: 9\n",
      "A [[ 1  2  3  4]\n",
      " [ 5  6  7  8]\n",
      " [ 9 10 11 12]]\n",
      "B: [[0 1]\n",
      " [2 3]\n",
      " [4 5]\n",
      " [6 7]]\n",
      "multiplicación de matrices:\n",
      " [[ 40  50]\n",
      " [ 88 114]\n",
      " [136 178]]\n"
     ]
    }
   ],
   "source": [
    "A = np.array([[1, 3, 2],\n",
    "              [1, 0, 0],\n",
    "              [1, 2, 2]])\n",
    "\n",
    "B = np.array([[1, 0, 5],\n",
    "              [7, 5, 0],\n",
    "              [2, 1, 1]])\n",
    "\n",
    "# suma\n",
    "suma = A + B\n",
    "# # resultado\n",
    "# array([[2, 3, 7],\n",
    "#        [8, 5, 0],\n",
    "#        [3, 3, 3]])\n",
    "print(\"suma:\", suma)\n",
    "\n",
    "# Resta\n",
    "resta = A - B\n",
    "# resultado\n",
    "# array([[ 0,  3, -3],\n",
    "#        [-6, -5,  0],\n",
    "#        [-1,  1,  1]])\n",
    "print(\"resta:\", resta)\n",
    "\n",
    "# multiplicación escalar\n",
    "mul_escalar = A * 2\n",
    "# resultado\n",
    "# array([[2, 6, 4],\n",
    "#        [2, 0, 0],\n",
    "#        [2, 4, 4]])\n",
    "print(\"multiplicación:\", mul_escalar)\n",
    "\n",
    "# Ver dimension de una matriz\n",
    "dim = A.shape\n",
    "# resultado (3,3)\n",
    "print(\"dimensión:\", dim)\n",
    "\n",
    "# var cantida de elementos de una matriz\n",
    "elementos = A.size \n",
    "# resultado 9\n",
    "print(\"elementos de la matriz:\", elementos)\n",
    "\n",
    "# multiplicación de matrices\n",
    "A = np.arange(1, 13).reshape(3, 4) # de dimensión 3x4\n",
    "#Resultado\n",
    "# array([[ 1,  2,  3,  4],\n",
    "#        [ 5,  6,  7,  8],\n",
    "#        [ 9, 10, 11, 12]])\n",
    "print(\"A\", A)\n",
    "\n",
    "B = np.arange(8).reshape(4,2) #matriz de dimension 4x2\n",
    "#resultado \n",
    "# array([[0, 1],\n",
    "#        [2, 3],\n",
    "#        [4, 5],\n",
    "#        [6, 7]])\n",
    "print(\"B:\", B)\n",
    "\n",
    "mul_matrices = A @ B \n",
    "# resultado\n",
    "# array([[ 40,  50],\n",
    "#        [ 88, 114],\n",
    "#        [136, 178]])\n",
    "print(\"multiplicación de matrices:\", mul_matrices)\n",
    "\n"
   ]
  },
  {
   "cell_type": "markdown",
   "metadata": {},
   "source": [
    "### Matriz identidad\n",
    "Es el equivalente al numero 1  o elemento neutro. Es una matriz cuadrada es decir mismo numero de columnas y filas. Se representa con $I$ y su diagonal esta compuesta de unos.\n",
    "\n",
    "### Matriz inversa\n",
    "Es aquella matriz cuadrada $A^{-1} $ que cuando realizas la multiplicación $AxA^{-1}$ sea igual a la matriz identidad, $AxA^{-1} = A^{-1}xA = I$ . En el caso de que una matriz no contenga matriz inversa, dicha matriz sera una matriz singular. Una matriz es singular si y solos si su determinante es nulo.\n",
    "\n",
    "### Matriz transpuesta\n",
    "Es una matriz en que las filas se vuelven columna y las columnas filas. $A^{T}$\n"
   ]
  },
  {
   "cell_type": "code",
   "execution_count": 19,
   "metadata": {},
   "outputs": [
    {
     "name": "stdout",
     "output_type": "stream",
     "text": [
      "matriz identidad: [[1. 0.]\n",
      " [0. 1.]]\n",
      "determinante: 10.000000000000002\n",
      "matriz inversa: [[ 0.6 -0.7]\n",
      " [-0.2  0.4]]\n",
      "matriz transpuesta: [[4 2]\n",
      " [7 6]]\n"
     ]
    }
   ],
   "source": [
    "A = np.array([[4, 7],\n",
    "              [2, 6]])\n",
    "\n",
    "# matriz identidad de 2x2\n",
    "I = np.eye(2)\n",
    "# resultado\n",
    "# array([[1., 0.],\n",
    "#        [0., 1.]])\n",
    "print(\"matriz identidad:\", I)\n",
    "\n",
    "# determinante de una matriz\n",
    "D = np.linalg.det(A) # resultado D = 10\n",
    "print(\"determinante:\", D)\n",
    "\n",
    "# matriz inversa\n",
    "A_inv = np.linalg.inv(A)\n",
    "#resultado\n",
    "# array([[ 0.6, -0.7],\n",
    "#        [-0.2,  0.4]])\n",
    "print(\"matriz inversa:\", A_inv)\n",
    "\n",
    "#trasponer una matriz\n",
    "transpuesta = np.transpose(A) \n",
    "# respuesta \n",
    "# array([[4, 2],\n",
    "#        [7, 6]])\n",
    "print(\"matriz transpuesta:\", transpuesta)\n"
   ]
  },
  {
   "cell_type": "markdown",
   "metadata": {},
   "source": [
    "## Sistemas de ecuaciones lineales\n",
    "para resolver sistemas lineales podemos usar el metodo solve().\n",
    "\n",
    "$\\begin{array}{rcl}\n",
    "     x+ 2y + 3z & = & 6\n",
    "  \\\\ 2x + 5y + 2z & = & 4\n",
    "  \\\\ 6x - 3y + z & = & 2\n",
    "\\end{array}\n",
    "$"
   ]
  },
  {
   "cell_type": "code",
   "execution_count": 20,
   "metadata": {},
   "outputs": [
    {
     "name": "stdout",
     "output_type": "stream",
     "text": [
      "resultado: [-1.48029737e-16 -1.48029737e-16  2.00000000e+00]\n",
      "confirmar resultados: [False  True  True]\n"
     ]
    }
   ],
   "source": [
    "# matriz de coeficientes\n",
    "A = np.array([[1, 2, 3],\n",
    "              [2, 5, 2],\n",
    "              [6, -3, 1]])\n",
    "\n",
    "# matriz de resultados\n",
    "b = np.array([6, 4, 2])\n",
    "\n",
    "# resolviendo el sistema\n",
    "x = np.linalg.solve(A, b)\n",
    "#resultado array([0., 0., 2.])\n",
    "print(\"resultado:\", x)\n",
    "\n",
    "# chequiando la solución \n",
    "resultado = A @ x == b\n",
    "print(\"confirmar resultados:\", resultado)\n",
    "# resultado array([ True,  True,  True])"
   ]
  }
 ],
 "metadata": {
  "kernelspec": {
   "display_name": "Python 3 (ipykernel)",
   "language": "python",
   "name": "python3"
  },
  "language_info": {
   "codemirror_mode": {
    "name": "ipython",
    "version": 3
   },
   "file_extension": ".py",
   "mimetype": "text/x-python",
   "name": "python",
   "nbconvert_exporter": "python",
   "pygments_lexer": "ipython3",
   "version": "3.9.15"
  },
  "vscode": {
   "interpreter": {
    "hash": "767d51c1340bd893661ea55ea3124f6de3c7a262a8b4abca0554b478b1e2ff90"
   }
  }
 },
 "nbformat": 4,
 "nbformat_minor": 4
}
