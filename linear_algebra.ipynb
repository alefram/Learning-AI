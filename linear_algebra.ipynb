{
 "cells": [
  {
   "cell_type": "markdown",
   "metadata": {},
   "source": [
    "# Linear Algebra"
   ]
  },
  {
   "cell_type": "markdown",
   "metadata": {},
   "source": [
    "## Lbraries\n",
    "- Numpy\n",
    "- numpy.linalg\n",
    "- scipy.linalg\n",
    "- Simpy (symbolic algebra)\n",
    "- CVXOPT (optimization)\n",
    "- PuLP (linear programing simple)\n",
    "- matplotlib (plotting)"
   ]
  },
  {
   "cell_type": "markdown",
   "metadata": {},
   "source": [
    "## Vectors"
   ]
  },
  {
   "cell_type": "code",
   "execution_count": null,
   "metadata": {},
   "outputs": [],
   "source": [
    "import numpy as np\n",
    "import matplotlib.pyplot as plt\n",
    "import mpl_toolkits.mplot3d\n"
   ]
  },
  {
   "cell_type": "markdown",
   "metadata": {},
   "source": [
    "### Plot vectors"
   ]
  },
  {
   "cell_type": "code",
   "execution_count": null,
   "metadata": {},
   "outputs": [],
   "source": [
    "# vector = plt.quiver(0,0,5,5, color='b', units='xy', scale=1)\n",
    "\n",
    "fig = plt.figure()\n",
    "ax = fig.add_subplot(1, 1, 1)\n",
    "\n",
    "plt.quiver(0,0,5,5, color='b', units='xy', scale=1)\n",
    "\n",
    "# Move left y-axis and bottim x-axis to centre, passing through (0,0)\n",
    "ax.spines['left'].set_position('center')\n",
    "ax.spines['bottom'].set_position('center')\n",
    "\n",
    "# Eliminate upper and right axes\n",
    "ax.spines['right'].set_color('none')\n",
    "ax.spines['top'].set_color('none')\n",
    "\n",
    "# Show ticks in the left and lower axes only\n",
    "ax.xaxis.set_ticks_position('bottom')\n",
    "ax.yaxis.set_ticks_position('left')\n",
    "\n",
    "plt.xlim(-10, 10)\n",
    "plt.ylim(-10, 10,)\n",
    "plt.grid()\n",
    "  \n",
    "plt.show()"
   ]
  },
  {
   "cell_type": "markdown",
   "metadata": {},
   "source": [
    "### 3d plot"
   ]
  },
  {
   "cell_type": "code",
   "execution_count": null,
   "metadata": {},
   "outputs": [],
   "source": [
    "def plot_vector(vector,dimension):\n",
    "    if dimension == '3d':\n",
    "        assert vector.size == 3\n",
    "        ax = plt.figure().add_subplot(projection='3d')\n",
    "        ax.quiver(0,0,0, vector[0],vector[1],vector[2],length=0.1, normalize=True)\n",
    "    \n",
    "    if dimension == '2d':\n",
    "        assert vector.size == 2\n",
    "        ax = plt.figure().add_subplot(1,1,1)\n",
    "        ax.quiver(0,0, vector[0],vector[1], color='b', units='xy', scale=1)\n",
    "        \n",
    "        # Move left y-axis and bottim x-axis to centre, passing through (0,0)\n",
    "        ax.spines['left'].set_position('center')\n",
    "        ax.spines['bottom'].set_position('center')\n",
    "\n",
    "        # Eliminate upper and right axes\n",
    "        ax.spines['right'].set_color('none')\n",
    "        ax.spines['top'].set_color('none')\n",
    "\n",
    "        # Show ticks in the left and lower axes only\n",
    "        ax.xaxis.set_ticks_position('bottom')\n",
    "        ax.yaxis.set_ticks_position('left')\n",
    "        \n",
    "        plt.xlim(-5, 5)\n",
    "        plt.ylim(-5, 5)\n",
    "        plt.grid()\n",
    "        \n",
    "\n",
    "    plt.show()\n",
    "\n",
    "vector3 = np.array([0.2,0.2,0.1])\n",
    "vector2 = np.array([1,0])\n",
    "vector = np.array([0,1])\n",
    "plot_vector(vector2,'2d')\n",
    "plot_vector(vector,'2d')"
   ]
  },
  {
   "cell_type": "markdown",
   "metadata": {},
   "source": [
    "## Vector operations\n",
    "\n",
    "Vectors: $ x = (x_{1}, ... , x_{n})$\n",
    "\n",
    "addition:$ x + y =  \\left[ {\\begin{array}{c} x_{1} + y_{1} \\\\ x_{2} + y_{2} \\\\ . \\\\ . \\\\ x_{n} + y_{n}  \\end{array}} \\right]$ ; substraction: $x - y  = \\left[ {\\begin{array}{c} x_{1} - y_{1} \\\\ x_{2} - y_{2} \\\\ . \\\\ . \\\\ x_{n} - y_{n}  \\end{array}} \\right]$; Multiplication: $\\tau x = \\left[ {\\begin{array}{c} \\tau x_{1} \\\\ \\tau x_{2} \\\\ . \\\\ . \\\\ \\tau x_{n}   \\end{array}} \\right]$ \n",
    "\n",
    "Scalar product: $<x,y> = \\sum_{i=1}^{n}x_{i}y_{i}$ \n",
    "\n",
    "Vector norm: $||x|| = \\sqrt{<x,x>} = ( \\sum_{i=1}^{n}x_{i}^{2} )^{1/2}$\n"
   ]
  },
  {
   "cell_type": "code",
   "execution_count": null,
   "metadata": {},
   "outputs": [],
   "source": [
    "# vector python.\n",
    "vector = [1, 2, 3, 4]\n",
    "\n",
    "# vector numpy\n",
    "import numpy as np\n",
    "vector1 = np.ones(3) #vector just ones\n",
    "vector2 = np.array([1, 2, 4]) #vector with arrays\n",
    "vector3 = np.arange(1,4) # vector with range of 1-3 ; result = array([1,2,3])\n",
    "\n",
    "print(\"vector1:\", vector1)\n",
    "print(\"vector2:\", vector2)\n",
    "print(\"vector3:\", vector3)"
   ]
  },
  {
   "cell_type": "code",
   "execution_count": null,
   "metadata": {},
   "outputs": [],
   "source": [
    "x = np.array([1, 2, 3])\n",
    "y = np.array([1, 2, 3])\n",
    " \n",
    "# add\n",
    "suma = x + y # result array([2, 4, 6])\n",
    "print(\"suma:\", suma)\n",
    "\n",
    "# subs\n",
    "resta = x - y # result array([0, 0, 0])\n",
    "print(\"resta:\", resta)\n",
    "\n",
    "# multiplication\n",
    "multiplicacion = x * 2 #result array([2, 4, 6])\n",
    "print(\"multiplicación:\", multiplicacion)\n",
    "\n",
    "# scalar product\n",
    "prod_escalar1 = x @ y # result 14\n",
    "prod_escalar2 = sum(x * y), np.dot(x,y) # result (14,14)\n",
    "print(\"producto escalar 1:\", prod_escalar1)\n",
    "print(\"producto escalar 2:\", prod_escalar2)\n",
    "\n",
    "# vector norm\n",
    "normal = np.linalg.norm(x) #result 3.7416...\n",
    "normal2 = np.sqrt(x @ x)\n",
    "print(\"normal:\", normal)\n",
    "print(\"norma2:\", normal2)\n"
   ]
  },
  {
   "cell_type": "markdown",
   "metadata": {},
   "source": [
    "## Matrix\n",
    "\n",
    "$A  = \\left[ {\\begin{array}{cccc} a_{11} & a_{12} & ... & a_{1k} \\\\  a_{21} & a_{22} & ... & a_{2k} \\\\ . & . & & . \\\\ . & . & & . \\\\ a_{n1} & a_{n2} & ... & a_{nk}  \\end{array}} \\right]$\n",
    "\n",
    "add: $A + B = \\left [ \\begin{array}{ccc} a_{11} & ... & a_{1k} \\\\ . & . & . \\\\ . & . & . \\\\ a_{n1} & ... & a_{nk}   \\end{array} \\right] + \\left [ \\begin{array}{ccc} b_{11} & ... & b_{1k} \\\\ . & . & . \\\\ . & .& .& \\\\  b_{n1} & ... & b_{nk} \\end{array} \\right ] = \\left [ \\begin{array}{cccc} a_{11} + b_{11} & ... & a_{1k} + b_{1k} \\\\ . & . & . & \\\\ . & . & . \\\\ a_{n1} + b_{n1} & ... & a_{nk} + b_{nk} \\end{array} \\right ]$\n",
    "\n",
    "subs: $A - B = \\left [ \\begin{array}{ccc} a_{11} & ... & a_{1k} \\\\ . & . & . \\\\ . & . & . \\\\ a_{n1} & ... & a_{nk}   \\end{array} \\right] + \\left [ \\begin{array}{ccc} b_{11} & ... & b_{1k} \\\\ . & . & . \\\\ . & .& .& \\\\  b_{n1} & ... & b_{nk} \\end{array} \\right ] = \\left [ \\begin{array}{cccc} a_{11} - b_{11} & ... & a_{1k} - b_{1k} \\\\ . & . & . & \\\\ . & . & . \\\\ a_{n1} - b_{n1} & ... & a_{nk} - b_{nk} \\end{array} \\right ]$\n",
    "  \n",
    "Multiplication: $\\tau A =  \\left [ \\begin{array}{cccc} \\tau a_{11} & ... & \\tau a_{1k} \\\\ . & . & . & \\\\ . & . & . \\\\ \\tau a_{n1} & ... & \\tau a_{nk} \\end{array} \\right ]$\n",
    "\n",
    "\n",
    "$AxB \\not= BxA$"
   ]
  },
  {
   "cell_type": "code",
   "execution_count": null,
   "metadata": {},
   "outputs": [],
   "source": [
    "A = np.array([[1, 3, 2],\n",
    "              [1, 0, 0],\n",
    "              [1, 2, 2]])\n",
    "\n",
    "B = np.array([[1, 0, 5],\n",
    "              [7, 5, 0],\n",
    "              [2, 1, 1]])\n",
    "\n",
    "# add\n",
    "suma = A + B\n",
    "# # result\n",
    "# array([[2, 3, 7],\n",
    "#        [8, 5, 0],\n",
    "#        [3, 3, 3]])\n",
    "print(\"suma:\", suma)\n",
    "\n",
    "# subs\n",
    "resta = A - B\n",
    "# result\n",
    "# array([[ 0,  3, -3],\n",
    "#        [-6, -5,  0],\n",
    "#        [-1,  1,  1]])\n",
    "print(\"resta:\", resta)\n",
    "\n",
    "# scalar multiplication\n",
    "mul_escalar = A * 2\n",
    "# result\n",
    "# array([[2, 6, 4],\n",
    "#        [2, 0, 0],\n",
    "#        [2, 4, 4]])\n",
    "print(\"multiplicación:\", mul_escalar)\n",
    "\n",
    "# matrix dimension\n",
    "dim = A.shape\n",
    "# result (3,3)\n",
    "print(\"dimensión:\", dim)\n",
    "\n",
    "# matrix size elements\n",
    "elementos = A.size \n",
    "# result 9\n",
    "print(\"elementos de la matriz:\", elementos)\n",
    "\n",
    "# matrix multiplication\n",
    "A = np.arange(1, 13).reshape(3, 4) #dim 3x4\n",
    "#Result\n",
    "# array([[ 1,  2,  3,  4],\n",
    "#        [ 5,  6,  7,  8],\n",
    "#        [ 9, 10, 11, 12]])\n",
    "print(\"A\", A)\n",
    "\n",
    "B = np.arange(8).reshape(4,2) #dim 4x2\n",
    "#result\n",
    "# array([[0, 1],\n",
    "#        [2, 3],\n",
    "#        [4, 5],\n",
    "#        [6, 7]])\n",
    "print(\"B:\", B)\n",
    "\n",
    "mul_matrices = A @ B \n",
    "# result\n",
    "# array([[ 40,  50],\n",
    "#        [ 88, 114],\n",
    "#        [136, 178]])\n",
    "print(\"multiplicación de matrices:\", mul_matrices)\n",
    "\n"
   ]
  },
  {
   "cell_type": "markdown",
   "metadata": {},
   "source": [
    "### Identity matrix\n",
    "It is the equivalent of the number 1 or neutral element. It is a square matrix, that is, the same number of columns and rows. It is represented by $I$ and its diagonal is composed of ones.\n",
    "\n",
    "### Inverse matrix\n",
    "It is that square matrix $A^{-1}$ that when you perform the multiplication $AxA^{-1}$ is equal to the identity matrix, $AxA^{-1} = A^{-1}xA = I$ . In the event that a matrix does not contain an inverse matrix, said matrix will be a singular matrix. A matrix is singular if and only if its determinant is null.\n",
    "\n",
    "### Transposed matrix\n",
    "It is a matrix in which the rows become columns and the columns become rows. $A^{T}$"
   ]
  },
  {
   "cell_type": "code",
   "execution_count": null,
   "metadata": {},
   "outputs": [],
   "source": [
    "A = np.array([[4, 7],\n",
    "              [2, 6]])\n",
    "\n",
    "# Identity matrix 2x2\n",
    "I = np.eye(2)\n",
    "# result\n",
    "# array([[1., 0.],\n",
    "#        [0., 1.]])\n",
    "print(\"matriz identidad:\", I)\n",
    "\n",
    "# determinant\n",
    "D = np.linalg.det(A) # result D = 10\n",
    "print(\"determinante:\", D)\n",
    "\n",
    "# inverse matrix\n",
    "A_inv = np.linalg.inv(A)\n",
    "#result\n",
    "# array([[ 0.6, -0.7],\n",
    "#        [-0.2,  0.4]])\n",
    "print(\"matriz inversa:\", A_inv)\n",
    "\n",
    "#traspose\n",
    "transpuesta = np.transpose(A) \n",
    "# result \n",
    "# array([[4, 2],\n",
    "#        [7, 6]])\n",
    "print(\"matriz transpuesta:\", transpuesta)\n"
   ]
  },
  {
   "cell_type": "markdown",
   "metadata": {},
   "source": [
    "## Linear systems equations\n",
    "we can use **solve()** method to solve linear systems equations.\n",
    "\n",
    "$\\begin{array}{rcl}\n",
    "     x+ 2y + 3z & = & 6\n",
    "  \\\\ 2x + 5y + 2z & = & 4\n",
    "  \\\\ 6x - 3y + z & = & 2\n",
    "\\end{array}\n",
    "$"
   ]
  },
  {
   "cell_type": "code",
   "execution_count": null,
   "metadata": {},
   "outputs": [],
   "source": [
    "# coeficient matrix\n",
    "A = np.array([[1, 2, 3],\n",
    "              [2, 5, 2],\n",
    "              [6, -3, 1]])\n",
    "\n",
    "# result matrix\n",
    "b = np.array([6, 4, 2])\n",
    "\n",
    "# solution\n",
    "x = np.linalg.solve(A, b)\n",
    "#resultado array([0., 0., 2.])\n",
    "print(\"resultado:\", x)\n",
    "\n",
    "# testing \n",
    "resultado = A @ x == b\n",
    "print(\"confirmar resultados:\", resultado)\n",
    "# result array([ True,  True,  True])"
   ]
  },
  {
   "cell_type": "markdown",
   "metadata": {},
   "source": [
    "# Space transformations"
   ]
  },
  {
   "cell_type": "code",
   "execution_count": null,
   "metadata": {},
   "outputs": [],
   "source": [
    "import torch\n",
    "import torch.nn as nn\n",
    "from matplotlib import pyplot as plt\n",
    "import numpy as np"
   ]
  },
  {
   "cell_type": "markdown",
   "metadata": {},
   "source": [
    "## dark mode "
   ]
  },
  {
   "cell_type": "code",
   "execution_count": null,
   "metadata": {},
   "outputs": [],
   "source": [
    "# create plot styles and tools from alfredo canziani notebook\n",
    "plt.style.use(['dark_background', 'bmh'])\n",
    "plt.rc('axes', facecolor='k')\n",
    "plt.rc('figure', facecolor='k')\n",
    "plt.rc('figure', figsize=(10,10), dpi=50)\n"
   ]
  },
  {
   "cell_type": "markdown",
   "metadata": {},
   "source": [
    "## Usefull methods"
   ]
  },
  {
   "cell_type": "code",
   "execution_count": null,
   "metadata": {},
   "outputs": [],
   "source": [
    "def plot_bases(bases, width=0.04):\n",
    "    bases = bases.cpu()\n",
    "    bases[2:] -= bases[:2]\n",
    "    plt.arrow(*bases[0], *bases[2], width=width, color=(1,0,0), zorder=10, alpha=1., length_includes_head=True)\n",
    "    plt.arrow(*bases[1], *bases[3], width=width, color=(0,1,0), zorder=10, alpha=1., length_includes_head=True)\n",
    "\n",
    "def show_scatterplot(X, colors, title=''):\n",
    "    colors = colors.cpu().numpy()\n",
    "    X = X.cpu().numpy()\n",
    "    plt.figure()\n",
    "    plt.axis('equal')\n",
    "    plt.scatter(X[:, 0], X[:, 1], c=colors, s=30)\n",
    "    plt.grid(True)\n",
    "    plt.title(title)\n",
    "    plt.axis('off')"
   ]
  },
  {
   "cell_type": "markdown",
   "metadata": {},
   "source": [
    "## Generate 2d data"
   ]
  },
  {
   "cell_type": "code",
   "execution_count": null,
   "metadata": {},
   "outputs": [],
   "source": [
    "n_points = 1000 #number of points\n",
    "X = torch.randn(n_points, 2) #data points\n",
    "colors = X[:, 0]\n",
    "OI = torch.cat((torch.zeros(2, 2), torch.eye(2)))\n",
    "\n",
    "show_scatterplot(X, colors, title='X')\n",
    "plot_bases(OI)"
   ]
  },
  {
   "cell_type": "markdown",
   "metadata": {},
   "source": [
    "## Generate random matrix"
   ]
  },
  {
   "cell_type": "code",
   "execution_count": null,
   "metadata": {},
   "outputs": [],
   "source": [
    "# Generate a random matrix W = U[[s1, 0][0, s2]]V.T\n",
    "# Compute y = Wx\n",
    "# larager singular  values stretch the points and smarllers push them together\n",
    "# U: rotate the points, V reflect the points\n",
    "\n",
    "for i in range(5):\n",
    "    # create a random matrix\n",
    "    W = torch.randn(2, 2) \n",
    "    # transform points\n",
    "    Y = X @ W.t()\n",
    "    # compute singular values\n",
    "    U, S, V = torch.svd(W)\n",
    "    # plot transformed points\n",
    "    show_scatterplot(Y, colors, title='y = Wx, singular values : [{:.3f}, {:.3f}]'.format(S[0], S[1]))\n",
    "    # transform the basis\n",
    "    new_OI = OI @ W.t()\n",
    "    # plot old and new basis\n",
    "    plot_bases(OI)\n",
    "#     plot_bases(new_OI)"
   ]
  },
  {
   "cell_type": "markdown",
   "metadata": {},
   "source": [
    "## Linear transformation with pytorch"
   ]
  },
  {
   "cell_type": "code",
   "execution_count": null,
   "metadata": {},
   "outputs": [],
   "source": [
    "model = nn.Sequential(nn.Linear(2, 2, bias=False))\n",
    "\n",
    "with torch.no_grad():\n",
    "    Y = model(X)\n",
    "    show_scatterplot(Y, colors)\n",
    "    plot_bases(model(OI))"
   ]
  },
  {
   "cell_type": "markdown",
   "metadata": {},
   "source": [
    "## non-linear trasnformation can curve the space\n"
   ]
  },
  {
   "cell_type": "code",
   "execution_count": null,
   "metadata": {},
   "outputs": [],
   "source": [
    "z = torch.linspace(-10, 10, 101)\n",
    "s = torch.tanh(z)\n",
    "plt.plot(z.numpy(), s.numpy())\n",
    "plt.title('tanh() non linearity')"
   ]
  },
  {
   "cell_type": "code",
   "execution_count": null,
   "metadata": {},
   "outputs": [],
   "source": [
    "show_scatterplot(X, colors, title='X')\n",
    "plot_bases(OI)\n",
    "\n",
    "model = nn.Sequential(\n",
    "        nn.Linear(2, 2, bias=False), #linear function\n",
    "        nn.Tanh() #non-linear function\n",
    ")\n",
    "\n",
    "for s in range(1, 5):\n",
    "    W = s * torch.eye(2)\n",
    "    model[0].weight.data.copy_(W)\n",
    "    Y = model(X).data\n",
    "    show_scatterplot(Y, colors, title=f'f(x), s={s}')\n",
    "    plot_bases(OI, width=0.01)"
   ]
  },
  {
   "cell_type": "markdown",
   "metadata": {},
   "source": [
    "## 1 layer NN with random weights (not trained)"
   ]
  },
  {
   "cell_type": "code",
   "execution_count": null,
   "metadata": {},
   "outputs": [],
   "source": [
    "show_scatterplot(X, colors, title='x')\n",
    "n_hidden = 5\n",
    "\n",
    "for i in range(3):\n",
    "    model = nn.Sequential(\n",
    "            nn.Linear(2, n_hidden), \n",
    "            nn.Tanh(), #can be nn.ReLU()\n",
    "            nn.Linear(n_hidden, 2)\n",
    "        )\n",
    "\n",
    "    with torch.no_grad():\n",
    "        Y = model(X)\n",
    "    show_scatterplot(Y, colors, title='f(x)')\n",
    "#     plot_bases(OI)"
   ]
  },
  {
   "cell_type": "markdown",
   "metadata": {},
   "source": [
    "## Deeper neural network"
   ]
  },
  {
   "cell_type": "code",
   "execution_count": null,
   "metadata": {},
   "outputs": [],
   "source": [
    "show_scatterplot(X, colors, title='x')\n",
    "n_hidden = 5\n",
    "\n",
    "NL = nn.ReLU()\n",
    "# activation = nn.Tanh()\n",
    "\n",
    "for i in range(3):\n",
    "    model = nn.Sequential(\n",
    "        nn.Linear(2, n_hidden), \n",
    "        activation, \n",
    "        nn.Linear(n_hidden, n_hidden), \n",
    "        activation, \n",
    "        nn.Linear(n_hidden, n_hidden), \n",
    "        activation, \n",
    "        nn.Linear(n_hidden, n_hidden), \n",
    "        activation, \n",
    "        nn.Linear(n_hidden, 2)\n",
    "    )\n",
    "\n",
    "    with torch.no_grad():\n",
    "        Y = model(X).detach()\n",
    "    show_scatterplot(Y, colors, title='f(x)')"
   ]
  }
 ],
 "metadata": {
  "kernelspec": {
   "display_name": "Python 3 (ipykernel)",
   "language": "python",
   "name": "python3"
  },
  "language_info": {
   "codemirror_mode": {
    "name": "ipython",
    "version": 3
   },
   "file_extension": ".py",
   "mimetype": "text/x-python",
   "name": "python",
   "nbconvert_exporter": "python",
   "pygments_lexer": "ipython3",
   "version": "3.10.12"
  },
  "vscode": {
   "interpreter": {
    "hash": "7b6db0c1d442fe597d9b481cd2ea939a45b3fa778adc3bd0e8ea6ed6edc9a97e"
   }
  }
 },
 "nbformat": 4,
 "nbformat_minor": 4
}
