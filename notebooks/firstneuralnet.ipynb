{
 "cells": [
  {
   "cell_type": "markdown",
   "source": [
    "# My First neural networks (forward propagation)"
   ],
   "metadata": {}
  },
  {
   "cell_type": "code",
   "execution_count": 1,
   "source": [
    "# neural network with a single datapoint\n",
    "\n",
    "def neural_network(input, weight):\n",
    "    prediction = input * weight\n",
    "    return prediction"
   ],
   "outputs": [],
   "metadata": {}
  },
  {
   "cell_type": "code",
   "execution_count": 2,
   "source": [
    "weight = 0.1\n",
    "data = [8.5, 9, 10, 4]\n",
    "input = data[0]\n",
    "neural_network(input,weight)\n"
   ],
   "outputs": [
    {
     "output_type": "execute_result",
     "data": {
      "text/plain": [
       "0.8500000000000001"
      ]
     },
     "metadata": {},
     "execution_count": 2
    }
   ],
   "metadata": {}
  },
  {
   "cell_type": "code",
   "execution_count": 1,
   "source": [
    "# neural network with multiple inputs\n",
    "\n",
    "def weight_sum(a,b):\n",
    "    assert (len(a) == len(b))\n",
    "    output = 0\n",
    "    for i in range(len(a)):\n",
    "        output += a[i] * b[i]\n",
    "    \n",
    "    return output\n",
    "\n",
    "def neural_network(input, weight):\n",
    "    prediction = weight_sum(input, weight)\n",
    "    return prediction\n",
    "\n",
    "        "
   ],
   "outputs": [],
   "metadata": {}
  },
  {
   "cell_type": "code",
   "execution_count": 4,
   "source": [
    "data1 = [8.5, 9.5, 9.9, 9.0]\n",
    "data2 = [0.65, 0.8, 0.8, 0.9]\n",
    "data3 = [1.2, 1.3, 0.5, 1.0]\n",
    "\n",
    "input = [data1[0], data2[0], data3[0]];\n",
    "weights = [0.1, 0.2, 0]\n",
    "\n",
    "prediction = neural_network(input, weights)\n",
    "print(prediction)"
   ],
   "outputs": [
    {
     "output_type": "stream",
     "name": "stdout",
     "text": [
      "0.9800000000000001\n"
     ]
    }
   ],
   "metadata": {}
  },
  {
   "cell_type": "code",
   "execution_count": 6,
   "source": [
    "# neural network with multiple inputs using numpy\n",
    "\n",
    "import numpy as np\n",
    "\n",
    "def neural_network(input, weights):\n",
    "    prediction = input.dot(weights)\n",
    "    return prediction\n",
    "\n",
    "data1 = np.array([8.5, 9.5, 9.9, 9.0])\n",
    "data2 = np.array([0.65, 0.8, 0.8, 0.9])\n",
    "data3 = np.array([1.2, 1.3, 0.5, 1.0])\n",
    "weights = np.array([0.1, 0.2, 0])\n",
    "input = np.array([data1[0], data2[0], data3[0]])\n",
    "\n",
    "prediction = neural_network(input, weights)\n",
    "print(prediction)\n"
   ],
   "outputs": [
    {
     "output_type": "stream",
     "name": "stdout",
     "text": [
      "0.9800000000000001\n"
     ]
    }
   ],
   "metadata": {}
  },
  {
   "cell_type": "code",
   "execution_count": 7,
   "source": [
    "# neural networks with multiple outputs and one input\n",
    "\n",
    "def mul(number, vector):\n",
    "    output = [0,0,0]\n",
    "    assert(len(output) == len(vector))\n",
    "\n",
    "    for i in range(len(vector)):\n",
    "        output[i] = number * vector[i]\n",
    "    \n",
    "    return output\n",
    "\n",
    "def neural_network(input, weights):\n",
    "    predictions = mul(input,weights)\n",
    "    return prediction\n",
    "\n"
   ],
   "outputs": [],
   "metadata": {}
  },
  {
   "cell_type": "code",
   "execution_count": 10,
   "source": [
    "data1 = [0.65, 0.8, 0.8, 0.9]\n",
    "weight = [0.3, 0.2, 0.9]\n",
    "input = data1[0]\n",
    "\n",
    "prediction = neural_network(input, weight)\n",
    "print(prediction)"
   ],
   "outputs": [
    {
     "output_type": "stream",
     "name": "stdout",
     "text": [
      "0.9800000000000001\n"
     ]
    }
   ],
   "metadata": {}
  },
  {
   "cell_type": "code",
   "execution_count": 20,
   "source": [
    "# a neural network with multiple inputs and ouputs\n",
    "# it neural net has a hidden layer \n",
    "\n",
    "import numpy as np\n",
    "\n",
    "def neural_network(input, weights):\n",
    "    hidden_prediction = input.dot(weights[0])\n",
    "    prediction = hidden_prediction.dot(weights[1])\n",
    "\n",
    "    return prediction\n",
    "\n",
    "input_to_hidden_weight = np.array([\n",
    "                                [0.1, 0.2, -0.1],\n",
    "                                [-0.1,0.1, 0.9],\n",
    "                                [0.1, 0.4, 0.1]])\n",
    "\n",
    "hidden_to_output_weight = np.array([\n",
    "                                [0.3, 1.1, -0.3],\n",
    "                                [0.1, 0.2, 0.0],\n",
    "                                [0.0, 1.3, 0.1]])\n",
    "\n",
    "weights = [input_to_hidden_weight, hidden_to_output_weight]\n",
    "\n",
    "data1 = np.array([8.5, 9.5, 9.9, 9.0])\n",
    "data2 = np.array([0.65,0.8, 0.8, 0.9])\n",
    "data3 = np.array([1.2, 1.3, 0.5, 1.0])\n",
    "input = np.array([data1[0],data2[0],data3[0]])\n",
    "\n",
    "prediction = neural_network(input, weights)\n",
    "print(prediction)"
   ],
   "outputs": [
    {
     "output_type": "stream",
     "name": "stdout",
     "text": [
      "[ 0.496  1.256 -0.286]\n"
     ]
    }
   ],
   "metadata": {}
  }
 ],
 "metadata": {
  "interpreter": {
   "hash": "7d6993cb2f9ce9a59d5d7380609d9cb5192a9dedd2735a011418ad9e827eb538"
  },
  "kernelspec": {
   "name": "python3",
   "display_name": "Python 3.8.7 64-bit ('.linuxbrew': virtualenv)"
  },
  "language_info": {
   "codemirror_mode": {
    "name": "ipython",
    "version": 3
   },
   "file_extension": ".py",
   "mimetype": "text/x-python",
   "name": "python",
   "nbconvert_exporter": "python",
   "pygments_lexer": "ipython3",
   "version": "3.8.7"
  }
 },
 "nbformat": 4,
 "nbformat_minor": 2
}