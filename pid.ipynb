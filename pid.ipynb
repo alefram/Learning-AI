{
 "cells": [
  {
   "cell_type": "code",
   "execution_count": 255,
   "id": "fa4cf843-42a8-47dd-a9b7-e33381a11a7e",
   "metadata": {},
   "outputs": [],
   "source": [
    "class PID:\n",
    "    def __init__(self, Kp, Ki, Kd):\n",
    "        self.Kp = Kp\n",
    "        self.Ki = Ki\n",
    "        self.Kd = Kd\n",
    "        self.last_error = 0\n",
    "        self.integral = 0\n",
    "    \n",
    "    def compute(self,setpoint, process, dt):\n",
    "        error = setpoint - process\n",
    "        proportional = error\n",
    "        self.integral += error *dt\n",
    "        derivative = (error - self.last_error) / dt\n",
    "        \n",
    "        output = self.Kp * proportional + self.Ki * self.integral + self.Kd * derivative\n",
    "        \n",
    "        # Update stored values for next iteration\n",
    "        self.last_error = error\n",
    "        \n",
    "        return output\n",
    "    \n",
    "import numpy as np\n",
    "import matplotlib.pyplot as plt\n",
    "\n",
    "class PIDController:\n",
    "    def __init__(self, kp, ki, kd, delta_t):\n",
    "        self.kp = kp\n",
    "        self.ki = ki\n",
    "        self.kd = kd\n",
    "        self.dt = delta_t\n",
    "        self.last_error = 0\n",
    "        self.integral_error = 0\n",
    "\n",
    "    def calculate(self, error):\n",
    "        self.integral_error += error * self.dt\n",
    "        derivative_error = (error - self.last_error) / self.dt\n",
    "        output = self.kp * error + self.ki * self.integral_error + self.kd * derivative_error\n",
    "        self.last_error = error\n",
    "        return output\n"
   ]
  },
  {
   "cell_type": "code",
   "execution_count": 321,
   "id": "0065e738-a20c-4759-8944-6bd767262197",
   "metadata": {},
   "outputs": [
    {
     "data": {
      "image/png": "[encoded data removed]",
      "text/plain": [
       "<Figure size 640x480 with 1 Axes>"
      ]
     },
     "metadata": {},
     "output_type": "display_data"
    }
   ],
   "source": [
    "import matplotlib.pyplot as plt\n",
    "import numpy as np\n",
    "\n",
    "def system(x):\n",
    "    return 1 / (1+x)\n",
    "\n",
    "\n",
    "pid = PID(100, 10, 0.5)\n",
    "dt = 0.01\n",
    "t = np.arange(1, 5, dt)\n",
    "\n",
    "output = []\n",
    "\n",
    "y_init = system(0)\n",
    "r = 1\n",
    "setpoint = [r]*len(t)\n",
    "\n",
    "for i in range(len(t)):\n",
    "    process = system(i) + y_init\n",
    "    u = pid.compute(setpoint[i], process, dt)\n",
    "    y = system(u)\n",
    "    output.append(u)\n",
    "\n",
    "\n",
    "plt.plot(t, setpoint, 'r--', label='setpoint')\n",
    "plt.plot(t, output, 'b-', label='output')\n",
    "plt.legend()\n",
    "plt.xlabel('Time (s)')\n",
    "plt.ylabel('Output')\n",
    "plt.show()"
   ]
  },
  {
   "cell_type": "code",
   "execution_count": null,
   "id": "9e106b76-fb06-4103-acf0-e979b4a25f46",
   "metadata": {},
   "outputs": [],
   "source": []
  }
 ],
 "metadata": {
  "kernelspec": {
   "display_name": "Python 3 (ipykernel)",
   "language": "python",
   "name": "python3"
  },
  "language_info": {
   "codemirror_mode": {
    "name": "ipython",
    "version": 3
   },
   "file_extension": ".py",
   "mimetype": "text/x-python",
   "name": "python",
   "nbconvert_exporter": "python",
   "pygments_lexer": "ipython3",
   "version": "3.9.16"
  }
 },
 "nbformat": 4,
 "nbformat_minor": 5
}
