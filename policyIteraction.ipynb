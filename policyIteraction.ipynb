{
 "cells": [
  {
   "cell_type": "markdown",
   "metadata": {
    "tags": []
   },
   "source": [
    "# Policy Iteraction\n",
    "\n",
    "<img src=\"./assets/policyIteraction.png\" alt=\"Policy iteraction\" title=\"Policy Iteraction algorithm\" width=\"500\" height=\"500\"/>\n"
   ]
  },
  {
   "cell_type": "code",
   "execution_count": 1,
   "metadata": {},
   "outputs": [
    {
     "ename": "ModuleNotFoundError",
     "evalue": "No module named 'Myenviroments'",
     "output_type": "error",
     "traceback": [
      "\u001b[0;31m---------------------------------------------------------------------------\u001b[0m",
      "\u001b[0;31mModuleNotFoundError\u001b[0m                       Traceback (most recent call last)",
      "\u001b[0;32m<ipython-input-1-26cd6c6fc82f>\u001b[0m in \u001b[0;36m<module>\u001b[0;34m\u001b[0m\n\u001b[1;32m      5\u001b[0m \u001b[0;32mif\u001b[0m \u001b[0;34m\"../\"\u001b[0m \u001b[0;32mnot\u001b[0m \u001b[0;32min\u001b[0m \u001b[0msys\u001b[0m\u001b[0;34m.\u001b[0m\u001b[0mpath\u001b[0m\u001b[0;34m:\u001b[0m\u001b[0;34m\u001b[0m\u001b[0;34m\u001b[0m\u001b[0m\n\u001b[1;32m      6\u001b[0m   \u001b[0msys\u001b[0m\u001b[0;34m.\u001b[0m\u001b[0mpath\u001b[0m\u001b[0;34m.\u001b[0m\u001b[0mappend\u001b[0m\u001b[0;34m(\u001b[0m\u001b[0;34m\"../\"\u001b[0m\u001b[0;34m)\u001b[0m\u001b[0;34m\u001b[0m\u001b[0;34m\u001b[0m\u001b[0m\n\u001b[0;32m----> 7\u001b[0;31m \u001b[0;32mfrom\u001b[0m \u001b[0mMyenviroments\u001b[0m\u001b[0;34m.\u001b[0m\u001b[0mgridWorld\u001b[0m \u001b[0;32mimport\u001b[0m \u001b[0mGridWorldEnv\u001b[0m\u001b[0;34m\u001b[0m\u001b[0;34m\u001b[0m\u001b[0m\n\u001b[0m\u001b[1;32m      8\u001b[0m \u001b[0;32mimport\u001b[0m \u001b[0mgym\u001b[0m\u001b[0;34m\u001b[0m\u001b[0;34m\u001b[0m\u001b[0m\n",
      "\u001b[0;31mModuleNotFoundError\u001b[0m: No module named 'Myenviroments'"
     ]
    }
   ],
   "source": [
    "# importing tools\n",
    "\n",
    "import numpy as np\n",
    "import pprint\n",
    "import sys\n",
    "if \"../\" not in sys.path:\n",
    "  sys.path.append(\"../\")\n",
    "from Myenviroments.gridWorld import GridWorldEnv\n",
    "import gym"
   ]
  },
  {
   "cell_type": "code",
   "execution_count": 2,
   "metadata": {},
   "outputs": [],
   "source": [
    "# creating the environment\n",
    "\n",
    "pp = pprint.PrettyPrinter(indent=2)\n",
    "env = GridWorldEnv()"
   ]
  },
  {
   "cell_type": "code",
   "execution_count": 3,
   "metadata": {},
   "outputs": [],
   "source": [
    "# function policy Evaluation\n",
    "\n",
    "def policyEvaluation(policy,enviroment,theta=0.00001,discountFactor=1.0):\n",
    "    \"\"\" \n",
    "    #TODO: add description\n",
    "    \"\"\"\n",
    "    #initialize V(s)\n",
    "    V = np.zeros(enviroment.nS)\n",
    "\n",
    "    while True:\n",
    "        delta = 0\n",
    "\n",
    "        for s in range(enviroment.nS):\n",
    "            v = 0\n",
    "            #first part of the sumatory iteration\n",
    "            for a, pi in enumerate(policy[s]):\n",
    "                #second sumatory iteration\n",
    "                for p, nextS, reward, done in enviroment.P[s][a]:\n",
    "                    #ecuation\n",
    "                    v += pi * p * (reward + discountFactor * V[nextS])\n",
    "            # how much our V have change\n",
    "            delta = max(delta,np.abs(v - V[s]))\n",
    "        if delta < theta:\n",
    "            break\n",
    "\n",
    "    V = np.array(V)\n",
    "    return V"
   ]
  },
  {
   "cell_type": "code",
   "execution_count": 16,
   "metadata": {},
   "outputs": [
    {
     "ename": "SyntaxError",
     "evalue": "non-default argument follows default argument (<ipython-input-16-54db1546adcd>, line 3)",
     "output_type": "error",
     "traceback": [
      "\u001b[0;36m  File \u001b[0;32m\"<ipython-input-16-54db1546adcd>\"\u001b[0;36m, line \u001b[0;32m3\u001b[0m\n\u001b[0;31m    def policyImprovement(policyEvalFunction,theta=0.00001,discountFactor=1.0,enviroment,v):\u001b[0m\n\u001b[0m                         ^\u001b[0m\n\u001b[0;31mSyntaxError\u001b[0m\u001b[0;31m:\u001b[0m non-default argument follows default argument\n"
     ]
    }
   ],
   "source": [
    "# policy improvement algorithm\n",
    "\n",
    "def policyImprovement(policyEvalFunction,theta=0.00001,discountFactor=1.0,enviroment,v):\n",
    "\n",
    "    \"\"\" policy Improvement \"\"\"\n",
    "\n",
    "    policyStable = True\n",
    "    pi = np.zeros(enviroment.nS)\n",
    "\n",
    "    while True:\n",
    "        for s in range(enviroment.nS):\n",
    "\n",
    "            oldAction = pi[s]\n",
    "\n",
    "            for a in range(enviroment.nA):\n",
    "                for p, nextS, reward, done in enviroment.P[s][a]:\n",
    "                    pi[s] += np.argmax(p * (reward + discountFactor * V(nextS))) \n",
    "            if oldAction != pi[s]:\n",
    "                policyStable = False\n",
    "\n",
    "        pi = np.array(pi)\n",
    "        \n",
    "    return pi, policyStable \n",
    "\n",
    "    \n"
   ]
  }
 ],
 "metadata": {
  "kernelspec": {
   "display_name": "Python 3",
   "language": "python",
   "name": "python3"
  },
  "language_info": {
   "codemirror_mode": {
    "name": "ipython",
    "version": 3
   },
   "file_extension": ".py",
   "mimetype": "text/x-python",
   "name": "python",
   "nbconvert_exporter": "python",
   "pygments_lexer": "ipython3",
   "version": "3.6.9"
  }
 },
 "nbformat": 4,
 "nbformat_minor": 4
}
