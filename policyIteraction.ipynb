{
 "cells": [
  {
   "cell_type": "markdown",
   "metadata": {
    "tags": []
   },
   "source": [
    "# Policy Iteraction"
   ]
  },
  {
   "cell_type": "code",
   "execution_count": null,
   "metadata": {},
   "outputs": [],
   "source": [
    "import numpy as np\n",
    "import pprint\n",
    "import sys\n",
    "if \"../\" not in sys.path:\n",
    "    sys.path.append(\"../\")\n",
    "from enviroments.gridWorld import GridWorldEnv\n",
    "import gym"
   ]
  },
  {
   "cell_type": "markdown",
   "metadata": {},
   "source": [
    "## Creating the environment"
   ]
  },
  {
   "cell_type": "code",
   "execution_count": null,
   "metadata": {},
   "outputs": [],
   "source": [
    "# creating the environment\n",
    "\n",
    "pp = pprint.PrettyPrinter(indent=2)\n",
    "env = GridWorldEnv()"
   ]
  },
  {
   "cell_type": "markdown",
   "metadata": {},
   "source": [
    "## Policy Evaluation"
   ]
  },
  {
   "cell_type": "code",
   "execution_count": null,
   "metadata": {},
   "outputs": [],
   "source": [
    "# function policy Evaluation\n",
    "\n",
    "def policyEvaluation(policy,enviroment,theta=0.00001,discountFactor=1.0):\n",
    "\n",
    "    #initialize V(s)\n",
    "    V = np.zeros(enviroment.nS)\n",
    "\n",
    "    while True:\n",
    "        delta = 0\n",
    "\n",
    "        for s in range(enviroment.nS):\n",
    "            v = 0\n",
    "            #first part of the sumatory iteration\n",
    "            for a, pi in enumerate(policy[s]):\n",
    "                #second sumatory iteration\n",
    "                for p, nextS, reward, done in enviroment.P[s][a]:\n",
    "                    #ecuation\n",
    "                    v += pi * p * (reward + discountFactor * V[nextS])\n",
    "            # how much our V have change\n",
    "            delta = max(delta,np.abs(v - V[s]))\n",
    "        if delta < theta:\n",
    "            break\n",
    "\n",
    "    V = np.array(V)\n",
    "    return V"
   ]
  },
  {
   "cell_type": "markdown",
   "metadata": {},
   "source": [
    "## Policy improvement"
   ]
  },
  {
   "cell_type": "code",
   "execution_count": null,
   "metadata": {},
   "outputs": [],
   "source": [
    "def policyImprovement(policyEvalFunction,theta=0.00001,discountFactor=1.0,enviroment,v):\n",
    "\n",
    "    \"\"\" policy Improvement \"\"\"\n",
    "\n",
    "    policyStable = True\n",
    "    pi = np.zeros(enviroment.nS)\n",
    "\n",
    "    while True:\n",
    "        for s in range(enviroment.nS):\n",
    "\n",
    "            oldAction = pi[s]\n",
    "\n",
    "            for a in range(enviroment.nA):\n",
    "                for p, nextS, reward, done in enviroment.P[s][a]:\n",
    "                    pi[s] += np.argmax(p * (reward + discountFactor * V(nextS))) \n",
    "            if oldAction != pi[s]:\n",
    "                policyStable = False\n",
    "\n",
    "        pi = np.array(pi)\n",
    "        \n",
    "    return pi, policyStable \n",
    "\n",
    "    \n"
   ]
  }
 ],
 "metadata": {
  "kernelspec": {
   "display_name": "Python 3 (ipykernel)",
   "language": "python",
   "name": "python3"
  },
  "language_info": {
   "codemirror_mode": {
    "name": "ipython",
    "version": 3
   },
   "file_extension": ".py",
   "mimetype": "text/x-python",
   "name": "python",
   "nbconvert_exporter": "python",
   "pygments_lexer": "ipython3",
   "version": "3.10.12"
  }
 },
 "nbformat": 4,
 "nbformat_minor": 4
}
