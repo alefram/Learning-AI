{
 "cells": [
  {
   "cell_type": "markdown",
   "metadata": {},
   "source": [
    "# Regularization basics"
   ]
  },
  {
   "cell_type": "markdown",
   "metadata": {},
   "source": [
    "## training on the mnist dataset"
   ]
  },
  {
   "cell_type": "code",
   "execution_count": 2,
   "metadata": {},
   "outputs": [],
   "source": [
    "# tools that i will use\n",
    "import sys\n",
    "import numpy as np\n",
    "from keras.datasets import mnist\n"
   ]
  },
  {
   "cell_type": "code",
   "execution_count": null,
   "metadata": {},
   "outputs": [],
   "source": [
    "(x_train, y_train), (x_test, y_test) = mnist.load_data()\n",
    "\n",
    "images, labels = (x_train[:1000].reshape(1000,28 * 28)255 , y_train[:1000])\n",
    "\n",
    "one_hot_labels = np.zeros((len(labels),10))\n",
    "\n",
    "for i, label in enumerate(labels):\n",
    "    one_hot_labels[i, label] = 1\n",
    "labels = one_hot_labels\n",
    "\n",
    "test_images = x.test.reshape(len(x_test), 28 * 28) / 255\n",
    "test_labels = np.zeros((len(y_test),10))\n",
    "\n",
    "for i, label in enumerate(y_test):\n",
    "    test_labels[i, label] = 1\n",
    "\n",
    "np.random.seed(1)\n",
    "\n",
    "relu = lambda x: x * (x > 0)\n",
    "relu2deriv = lambda x: x>=0\n",
    "\n",
    "alpha, iterations, hidden_size, pixels_per_image, num_labels = (0.005, 350, 40, 784, 10)\n",
    "\n",
    "weights_0_1 = 0.2 * np.random.random((pixels_per_image, hidden_size)) - 1\n",
    "weights_1_2 = 0.2 * np.random.random((pixels_per_image, num_labels)) - 1\n",
    "\n",
    "for j in range(iterations):\n",
    "    error, correct_cnt = (0.0, 0)\n",
    "    "
   ]
  }
 ],
 "metadata": {
  "interpreter": {
   "hash": "78bea88238b359cb8720bd7df922336c12f3831db9fec1bf346c95153cd214da"
  },
  "kernelspec": {
   "display_name": "Python 3",
   "language": "python",
   "name": "python3"
  },
  "language_info": {
   "codemirror_mode": {
    "name": "ipython",
    "version": 3
   },
   "file_extension": ".py",
   "mimetype": "text/x-python",
   "name": "python",
   "nbconvert_exporter": "python",
   "pygments_lexer": "ipython3",
   "version": "3.6.9"
  }
 },
 "nbformat": 4,
 "nbformat_minor": 4
}
