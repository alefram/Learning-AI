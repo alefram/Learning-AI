{
 "cells": [
  {
   "cell_type": "markdown",
   "id": "d1844edf-7a95-4f15-a39a-48cd0d5bef88",
   "metadata": {},
   "source": [
    "# Basic Pytorch tutorial"
   ]
  },
  {
   "cell_type": "code",
   "execution_count": 2,
   "id": "5ed3483b-ec56-4b5c-af7b-9b496131adc4",
   "metadata": {},
   "outputs": [],
   "source": [
    "import torch"
   ]
  },
  {
   "cell_type": "markdown",
   "id": "4f9a9041-0417-4972-88bd-3ceab4f44a7c",
   "metadata": {},
   "source": [
    "## Some helps"
   ]
  },
  {
   "cell_type": "code",
   "execution_count": null,
   "id": "ab4cdabf-1364-4e54-8e0a-4e2180f81114",
   "metadata": {},
   "outputs": [],
   "source": [
    "# #it gives output help of tensor\n",
    "torch.*Tensor?"
   ]
  },
  {
   "cell_type": "code",
   "execution_count": null,
   "id": "4be0e893-7d7e-449a-8b0a-6577dc7a1d58",
   "metadata": {},
   "outputs": [],
   "source": [
    "# torch neural network module\n",
    "# getting help of functions\n",
    "torch.nn.Module?"
   ]
  },
  {
   "cell_type": "code",
   "execution_count": null,
   "id": "c172c91c-e0da-41ff-aba0-930a043fcb88",
   "metadata": {},
   "outputs": [],
   "source": [
    "#getting help of clases \n",
    "torch.nn.Module??"
   ]
  },
  {
   "cell_type": "code",
   "execution_count": null,
   "id": "48ece1b5-5676-49d2-8bc7-af297c61c2cc",
   "metadata": {},
   "outputs": [],
   "source": [
    "#getting python magic functions\n",
    "%magic"
   ]
  },
  {
   "cell_type": "markdown",
   "id": "ffb0451a-893b-46b5-a831-51f8f803b3b2",
   "metadata": {},
   "source": [
    "## Torch tutorial"
   ]
  },
  {
   "cell_type": "code",
   "execution_count": 48,
   "id": "c04c0ed2-9ad3-4ebd-aabc-3b817cabaf00",
   "metadata": {},
   "outputs": [
    {
     "name": "stdout",
     "output_type": "stream",
     "text": [
      "<class 'torch.Tensor'>\n",
      "tensor: tensor([[[7.8333e-36, 0.0000e+00, 0.0000e+00, 0.0000e+00],\n",
      "         [7.1552e-36, 0.0000e+00, 1.4296e-36, 0.0000e+00],\n",
      "         [3.2862e-37, 4.5813e-41, 0.0000e+00, 0.0000e+00]],\n",
      "\n",
      "        [[0.0000e+00, 0.0000e+00, 0.0000e+00, 0.0000e+00],\n",
      "         [0.0000e+00, 0.0000e+00, 0.0000e+00, 0.0000e+00],\n",
      "         [0.0000e+00, 0.0000e+00, 1.4013e-45, 0.0000e+00]]])\n"
     ]
    }
   ],
   "source": [
    "# Generate a tensor of size 2x3x4\n",
    "t = torch.Tensor(2, 3, 4)\n",
    "print(type(t))\n",
    "print(\"tensor:\",t)"
   ]
  },
  {
   "cell_type": "code",
   "execution_count": 51,
   "id": "d52e6694-4e33-48d6-8cb3-2958edcd1f27",
   "metadata": {},
   "outputs": [
    {
     "name": "stdout",
     "output_type": "stream",
     "text": [
      "torch.Size([2, 3, 4])\n",
      "t size: 2 × 3 × 4\n",
      "point in a 24 dimensional space\n",
      "organised in 3 sub-dimensions\n"
     ]
    }
   ],
   "source": [
    "# Get the size of the tensor\n",
    "size = t.size()\n",
    "print(size)\n",
    "# t.size() is a classic tuple =>\n",
    "print('t size:', ' \\u00D7 '.join(map(str, t.size())))\n",
    "\n",
    "# prints dimensional space and sub-dimensions\n",
    "print(f'point in a {t.numel()} dimensional space')\n",
    "print(f'organised in {t.dim()} sub-dimensions')"
   ]
  },
  {
   "cell_type": "code",
   "execution_count": 62,
   "id": "98b5ec1e-deca-44d7-bf23-0acdcd224bf3",
   "metadata": {},
   "outputs": [
    {
     "data": {
      "text/plain": [
       "tensor([[[7., 7., 5., 7.],\n",
       "         [0., 8., 6., 6.],\n",
       "         [6., 5., 4., 4.]],\n",
       "\n",
       "        [[2., 5., 0., 9.],\n",
       "         [7., 9., 7., 9.],\n",
       "         [2., 8., 0., 2.]]])"
      ]
     },
     "execution_count": 62,
     "metadata": {},
     "output_type": "execute_result"
    }
   ],
   "source": [
    "# Mind the underscore!\n",
    "# Any operation that mutates a tensor in-place is post-fixed with an _.\n",
    "# For example: x.copy_(y), x.t_(), x.random_(n) will change x.\n",
    "t.random_(10)"
   ]
  },
  {
   "cell_type": "code",
   "execution_count": 63,
   "id": "237b90bd-b692-42bf-8551-8a8b7668d16f",
   "metadata": {},
   "outputs": [
    {
     "data": {
      "text/plain": [
       "tensor([[7., 7., 5., 7., 0., 8., 6., 6.],\n",
       "        [6., 5., 4., 4., 2., 5., 0., 9.],\n",
       "        [7., 9., 7., 9., 2., 8., 0., 2.]])"
      ]
     },
     "execution_count": 63,
     "metadata": {},
     "output_type": "execute_result"
    }
   ],
   "source": [
    "# This resizes the tensor permanently \n",
    "r = torch.Tensor(t)\n",
    "r.resize_(3, 8)\n",
    "r"
   ]
  },
  {
   "cell_type": "code",
   "execution_count": 64,
   "id": "6c27fa4a-0aeb-4fde-b44b-db2ca3d42c1f",
   "metadata": {},
   "outputs": [
    {
     "data": {
      "text/plain": [
       "tensor([[0., 0., 0., 0., 0., 0., 0., 0.],\n",
       "        [0., 0., 0., 0., 0., 0., 0., 0.],\n",
       "        [0., 0., 0., 0., 0., 0., 0., 0.]])"
      ]
     },
     "execution_count": 64,
     "metadata": {},
     "output_type": "execute_result"
    }
   ],
   "source": [
    "# zero_ would replace r with 0 and t values\n",
    "r.zero_()"
   ]
  },
  {
   "cell_type": "code",
   "execution_count": 65,
   "id": "2bdc4936-d8f2-4253-8a38-b0b68074acc9",
   "metadata": {},
   "outputs": [
    {
     "data": {
      "text/plain": [
       "tensor([[[0., 0., 0., 0.],\n",
       "         [0., 0., 0., 0.],\n",
       "         [0., 0., 0., 0.]],\n",
       "\n",
       "        [[0., 0., 0., 0.],\n",
       "         [0., 0., 0., 0.],\n",
       "         [0., 0., 0., 0.]]])"
      ]
     },
     "execution_count": 65,
     "metadata": {},
     "output_type": "execute_result"
    }
   ],
   "source": [
    "t"
   ]
  },
  {
   "cell_type": "code",
   "execution_count": 75,
   "id": "22b14225-2c96-46fc-a349-e6f3ee4c93a4",
   "metadata": {},
   "outputs": [
    {
     "data": {
      "text/plain": [
       "tensor([[1., 1., 1., 1., 1., 1., 1., 1.],\n",
       "        [1., 1., 1., 1., 1., 1., 1., 1.],\n",
       "        [1., 1., 1., 1., 1., 1., 1., 1.]])"
      ]
     },
     "execution_count": 75,
     "metadata": {},
     "output_type": "execute_result"
    }
   ],
   "source": [
    "# This clone the tensor r it does not affect r\n",
    "s = r.clone()\n",
    "\n",
    "# In-place fill of 1's\n",
    "s.fill_(1)\n",
    "s"
   ]
  },
  {
   "cell_type": "markdown",
   "id": "a35e1d30-6274-4fae-b5e3-9d32e2302012",
   "metadata": {},
   "source": [
    "## 1D tensor = vectors "
   ]
  },
  {
   "cell_type": "code",
   "execution_count": 79,
   "id": "f537c071-c658-4b05-b3c0-bf59fd3358af",
   "metadata": {},
   "outputs": [
    {
     "data": {
      "text/plain": [
       "tensor([1., 2., 3., 4.])"
      ]
     },
     "execution_count": 79,
     "metadata": {},
     "output_type": "execute_result"
    }
   ],
   "source": [
    "# Creates a 1D tensor of integers 1 to 4\n",
    "v = torch.Tensor([1, 2, 3, 4])\n",
    "v"
   ]
  },
  {
   "cell_type": "code",
   "execution_count": 80,
   "id": "08a61a37-a1a1-4eec-9ee4-f67129db2032",
   "metadata": {},
   "outputs": [
    {
     "name": "stdout",
     "output_type": "stream",
     "text": [
      "dim: 1, size: 4\n"
     ]
    }
   ],
   "source": [
    "# Print number of dimensions (1D) and size of tensor\n",
    "print(f'dim: {v.dim()}, size: {v.size()[0]}')\n"
   ]
  },
  {
   "cell_type": "code",
   "execution_count": 81,
   "id": "c31f1a84-ced3-4b1c-9bef-98c17f72aed7",
   "metadata": {},
   "outputs": [
    {
     "data": {
      "text/plain": [
       "tensor([7., 5., 2., 4., 0.])"
      ]
     },
     "execution_count": 81,
     "metadata": {},
     "output_type": "execute_result"
    }
   ],
   "source": [
    "# In-place replacement of random number from 0 to 10\n",
    "x = torch.Tensor(5).random_(10)\n",
    "x\n"
   ]
  },
  {
   "cell_type": "code",
   "execution_count": 83,
   "id": "2a686948-9ff5-4245-8718-c4a3b6123136",
   "metadata": {},
   "outputs": [
    {
     "name": "stdout",
     "output_type": "stream",
     "text": [
      "first: 7.0, last: 0.0\n"
     ]
    }
   ],
   "source": [
    "print(f'first: {x[0]}, last: {x[-1]}')\n"
   ]
  },
  {
   "cell_type": "code",
   "execution_count": 88,
   "id": "432b57c3-6a8c-4f68-bfb6-20c52b997a03",
   "metadata": {},
   "outputs": [
    {
     "data": {
      "text/plain": [
       "tensor([5., 2.])"
      ]
     },
     "execution_count": 88,
     "metadata": {},
     "output_type": "execute_result"
    }
   ],
   "source": [
    "# Extract sub-Tensor [from:to]\n",
    "x[1:2 + 1]"
   ]
  },
  {
   "cell_type": "code",
   "execution_count": 93,
   "id": "255555fe-c852-47e2-b7d8-7ec19ba451a0",
   "metadata": {},
   "outputs": [
    {
     "data": {
      "text/plain": [
       "tensor([1, 2, 3, 4])"
      ]
     },
     "execution_count": 93,
     "metadata": {},
     "output_type": "execute_result"
    }
   ],
   "source": [
    "# Create a tensor with integers ranging from 1 to 5, excluding 5\n",
    "v = torch.arange(1, 4 +1)\n",
    "v"
   ]
  },
  {
   "cell_type": "code",
   "execution_count": 94,
   "id": "7046e991-2f86-463a-b80c-5eaf6fb084fd",
   "metadata": {},
   "outputs": [
    {
     "name": "stdout",
     "output_type": "stream",
     "text": [
      "tensor([ 1,  4,  9, 16]) tensor([1, 2, 3, 4])\n"
     ]
    }
   ],
   "source": [
    "# Square all elements in the tensor\n",
    "print(v.pow(2), v)"
   ]
  },
  {
   "cell_type": "markdown",
   "id": "18423901-209a-4557-8f52-9ebca052cf7f",
   "metadata": {},
   "source": [
    "## 2D tensor = Matrices"
   ]
  },
  {
   "cell_type": "code",
   "execution_count": 95,
   "id": "5a48e769-38c0-4d9b-9520-e947c7977b6d",
   "metadata": {},
   "outputs": [
    {
     "data": {
      "text/plain": [
       "tensor([[2., 5., 3., 7.],\n",
       "        [4., 2., 1., 9.]])"
      ]
     },
     "execution_count": 95,
     "metadata": {},
     "output_type": "execute_result"
    }
   ],
   "source": [
    "# Create a 2x4 tensor\n",
    "m = torch.Tensor([[2, 5, 3, 7],\n",
    "                  [4, 2, 1, 9]])\n",
    "m\n"
   ]
  },
  {
   "cell_type": "code",
   "execution_count": 97,
   "id": "bf0f114a-80c5-4eb8-8d56-74dcad98063c",
   "metadata": {},
   "outputs": [
    {
     "name": "stdout",
     "output_type": "stream",
     "text": [
      "2 -- 4 -- torch.Size([2, 4]) -- 2\n"
     ]
    }
   ],
   "source": [
    "print(m.size(0), m.size(1), m.size(), m.dim(), sep=' -- ')\n"
   ]
  },
  {
   "cell_type": "code",
   "execution_count": 98,
   "id": "6733e98f-0063-4e4b-bdfa-1a7d8950f4e6",
   "metadata": {},
   "outputs": [
    {
     "data": {
      "text/plain": [
       "8"
      ]
     },
     "execution_count": 98,
     "metadata": {},
     "output_type": "execute_result"
    }
   ],
   "source": [
    "# Returns the total number of elements, hence num-el (number of elements)\n",
    "m.numel()"
   ]
  },
  {
   "cell_type": "code",
   "execution_count": 99,
   "id": "4768c52c-fd51-436a-8fc7-1869bd782c79",
   "metadata": {},
   "outputs": [
    {
     "data": {
      "text/plain": [
       "tensor(3.)"
      ]
     },
     "execution_count": 99,
     "metadata": {},
     "output_type": "execute_result"
    }
   ],
   "source": [
    "# Indexing row 0, column 2 (0-indexed)\n",
    "m[0][2] # or m[0,2]\n"
   ]
  },
  {
   "cell_type": "code",
   "execution_count": 101,
   "id": "4edc7bac-2839-4e59-ba2c-23960378c0f7",
   "metadata": {},
   "outputs": [
    {
     "data": {
      "text/plain": [
       "tensor([5., 2.])"
      ]
     },
     "execution_count": 101,
     "metadata": {},
     "output_type": "execute_result"
    }
   ],
   "source": [
    "# Indexing column 1, all rows (returns size 2)\n",
    "m[:, 1]"
   ]
  },
  {
   "cell_type": "code",
   "execution_count": 103,
   "id": "f134a19f-925f-4ab2-a90a-14ac5a6d5a81",
   "metadata": {},
   "outputs": [
    {
     "data": {
      "text/plain": [
       "tensor([[5.],\n",
       "        [2.]])"
      ]
     },
     "execution_count": 103,
     "metadata": {},
     "output_type": "execute_result"
    }
   ],
   "source": [
    "# Indexing column 1, all rows (returns size 2x1)\n",
    "m[:, [1]]"
   ]
  },
  {
   "cell_type": "code",
   "execution_count": 104,
   "id": "b9acbd04-f90e-47eb-aff2-468646646dcd",
   "metadata": {},
   "outputs": [
    {
     "data": {
      "text/plain": [
       "tensor([[2., 5., 3., 7.]])"
      ]
     },
     "execution_count": 104,
     "metadata": {},
     "output_type": "execute_result"
    }
   ],
   "source": [
    "# Indexes row 0, all columns (returns 1x4)\n",
    "m[[0], :]"
   ]
  },
  {
   "cell_type": "code",
   "execution_count": 105,
   "id": "e6d006b2-3f28-4258-90cd-fb127f8a6524",
   "metadata": {},
   "outputs": [
    {
     "data": {
      "text/plain": [
       "tensor([2., 5., 3., 7.])"
      ]
     },
     "execution_count": 105,
     "metadata": {},
     "output_type": "execute_result"
    }
   ],
   "source": [
    "# Indexes row 0, all columns (returns size 4)\n",
    "m[0, :]\n"
   ]
  },
  {
   "cell_type": "code",
   "execution_count": null,
   "id": "1e4f8b05-be3a-46d9-adb0-0516e780e8aa",
   "metadata": {},
   "outputs": [],
   "source": [
    "# Add a random tensor of size 2x4 to m\n",
    "m + torch.rand(2, 4) \n",
    "\n",
    "# Subtract a random tensor of size 2x4 to m\n",
    "m - torch.rand(2, 4)\n",
    "\n",
    "# Multiply a random tensor of size 2x4 to m\n",
    "m * torch.rand(2, 4)\n",
    "\n",
    "# Divide m by a random tensor of size 2x4\n",
    "m / torch.rand(2, 4)\n"
   ]
  },
  {
   "cell_type": "code",
   "execution_count": 110,
   "id": "404d141f-dc39-43e6-8d6e-68f3183ad9c9",
   "metadata": {},
   "outputs": [
    {
     "name": "stdout",
     "output_type": "stream",
     "text": [
      "torch.Size([2, 4])\n",
      "tensor([[2., 4.],\n",
      "        [5., 2.],\n",
      "        [3., 1.],\n",
      "        [7., 9.]])\n",
      "tensor([[2., 4.],\n",
      "        [5., 2.],\n",
      "        [3., 1.],\n",
      "        [7., 9.]])\n"
     ]
    }
   ],
   "source": [
    "print(m.size())\n",
    "print(m.t())\n",
    "print(m.transpose(0,1))"
   ]
  },
  {
   "cell_type": "markdown",
   "id": "839578bf-897a-4606-a85e-7428399b135a",
   "metadata": {},
   "source": [
    "## Constructor"
   ]
  },
  {
   "cell_type": "code",
   "execution_count": 111,
   "id": "24a184e8-2d7d-449f-b282-1b0995b2e463",
   "metadata": {},
   "outputs": [
    {
     "name": "stdout",
     "output_type": "stream",
     "text": [
      "tensor([ 5.7000,  2.7000, -0.3000])\n",
      "tensor([3., 4., 5., 6., 7., 8.])\n"
     ]
    }
   ],
   "source": [
    "# Create tensor from 5.7 to -2.1 with each having a space of -3\n",
    "a = torch.arange(5.7, -2.1, -3)\n",
    "print(a)\n",
    "\n",
    "# Create tensor from 3 to 8, with each having a space of 1\n",
    "b = torch.arange(3., 8 + 1)\n",
    "print(b)\n",
    "\n"
   ]
  },
  {
   "cell_type": "code",
   "execution_count": 126,
   "id": "ef137ed3-013f-47b2-b914-1318bfc84c93",
   "metadata": {},
   "outputs": [
    {
     "data": {
      "text/plain": [
       "tensor([[3.0000, 3.2632, 3.5263, 3.7895, 4.0526, 4.3158, 4.5789, 4.8421, 5.1053,\n",
       "         5.3684, 5.6316, 5.8947, 6.1579, 6.4211, 6.6842, 6.9474, 7.2105, 7.4737,\n",
       "         7.7368, 8.0000]])"
      ]
     },
     "execution_count": 126,
     "metadata": {},
     "output_type": "execute_result"
    }
   ],
   "source": [
    "# returns a 1D tensor of steps equally spaced points between start=3, end=8 and steps=20\n",
    "torch.linspace(3, 8, 20).view(1, -1)"
   ]
  },
  {
   "cell_type": "code",
   "execution_count": 127,
   "id": "27c675ed-bdcc-4255-8ba1-61acb5a7f26f",
   "metadata": {},
   "outputs": [
    {
     "data": {
      "text/plain": [
       "tensor([[0., 0., 0., 0., 0.],\n",
       "        [0., 0., 0., 0., 0.],\n",
       "        [0., 0., 0., 0., 0.]])"
      ]
     },
     "execution_count": 127,
     "metadata": {},
     "output_type": "execute_result"
    }
   ],
   "source": [
    "# Create a tensor filled with 0's\n",
    "torch.zeros(3, 5)"
   ]
  },
  {
   "cell_type": "code",
   "execution_count": 128,
   "id": "a959851d-1ecb-41df-85a1-c97221f441b5",
   "metadata": {},
   "outputs": [
    {
     "data": {
      "text/plain": [
       "tensor([[[1., 1., 1., 1., 1.],\n",
       "         [1., 1., 1., 1., 1.]],\n",
       "\n",
       "        [[1., 1., 1., 1., 1.],\n",
       "         [1., 1., 1., 1., 1.]],\n",
       "\n",
       "        [[1., 1., 1., 1., 1.],\n",
       "         [1., 1., 1., 1., 1.]]])"
      ]
     },
     "execution_count": 128,
     "metadata": {},
     "output_type": "execute_result"
    }
   ],
   "source": [
    "# Create a tensor filled with 1's\n",
    "torch.ones(3, 2, 5)"
   ]
  },
  {
   "cell_type": "code",
   "execution_count": 130,
   "id": "8ac74667-b3c9-49de-ba19-f30f4619be29",
   "metadata": {},
   "outputs": [
    {
     "data": {
      "text/plain": [
       "tensor([[1., 0., 0., 0., 0.],\n",
       "        [0., 1., 0., 0., 0.],\n",
       "        [0., 0., 1., 0., 0.],\n",
       "        [0., 0., 0., 1., 0.],\n",
       "        [0., 0., 0., 0., 1.]])"
      ]
     },
     "execution_count": 130,
     "metadata": {},
     "output_type": "execute_result"
    }
   ],
   "source": [
    "# Create a tensor with the diagonal filled with 1\n",
    "torch.eye(5) #params is dimension"
   ]
  },
  {
   "cell_type": "code",
   "execution_count": 132,
   "id": "0b9c9295-3f1c-477c-8a22-ac09d2fd247c",
   "metadata": {},
   "outputs": [],
   "source": [
    "# Set default plots\n",
    "# from res.plot_lib import set_default\n",
    "from matplotlib import pyplot as plt\n",
    "# set_default()"
   ]
  },
  {
   "cell_type": "code",
   "execution_count": 143,
   "id": "6da489d2-3849-4d0d-a229-51ac916db4f3",
   "metadata": {},
   "outputs": [
    {
     "data": {
      "image/png": "[encoded data removed]",
      "text/plain": [
       "<Figure size 640x480 with 1 Axes>"
      ]
     },
     "metadata": {},
     "output_type": "display_data"
    }
   ],
   "source": [
    "# plotting results\n",
    "rand = 6\n",
    "plt.hist(torch.randn(10**rand).numpy(), 100);\n",
    "# use rasterized=True for SVG/EPS/PDF!\n"
   ]
  },
  {
   "cell_type": "markdown",
   "id": "1dcd2ed6-c847-472c-a81d-205a23cf35fb",
   "metadata": {},
   "source": [
    "## More helps"
   ]
  },
  {
   "cell_type": "code",
   "execution_count": 145,
   "id": "d43a6a85-db5e-4ad0-9887-78bdb8ffd4af",
   "metadata": {},
   "outputs": [
    {
     "data": {
      "text/plain": [
       "tensor([[2., 5., 3., 7.],\n",
       "        [4., 2., 1., 9.]])"
      ]
     },
     "execution_count": 145,
     "metadata": {},
     "output_type": "execute_result"
    }
   ],
   "source": [
    "m"
   ]
  },
  {
   "cell_type": "code",
   "execution_count": 146,
   "id": "954020ad-b74c-4fda-bfda-6960c4a9e6cb",
   "metadata": {},
   "outputs": [
    {
     "data": {
      "text/plain": [
       "tensor([[2., 5., 3., 7.],\n",
       "        [4., 2., 1., 9.]], dtype=torch.float64)"
      ]
     },
     "execution_count": 146,
     "metadata": {},
     "output_type": "execute_result"
    }
   ],
   "source": [
    "# This is basically a 64 bit float tensor\n",
    "m_double = m.double()\n",
    "m_double"
   ]
  },
  {
   "cell_type": "code",
   "execution_count": 147,
   "id": "aa8bd538-09ee-4c71-889c-cd7933a38f1d",
   "metadata": {},
   "outputs": [
    {
     "data": {
      "text/plain": [
       "tensor([[2, 5, 3, 7],\n",
       "        [4, 2, 1, 9]], dtype=torch.uint8)"
      ]
     },
     "execution_count": 147,
     "metadata": {},
     "output_type": "execute_result"
    }
   ],
   "source": [
    "# This creates a tensor of type int8\n",
    "m_byte = m.byte()\n",
    "m_byte"
   ]
  },
  {
   "cell_type": "code",
   "execution_count": 148,
   "id": "cc96356e-f86c-4ba2-b536-2906b44d5b2b",
   "metadata": {},
   "outputs": [
    {
     "data": {
      "text/plain": [
       "tensor([[2., 5., 3., 7.],\n",
       "        [4., 2., 1., 9.]])"
      ]
     },
     "execution_count": 148,
     "metadata": {},
     "output_type": "execute_result"
    }
   ],
   "source": [
    "# Move your tensor to GPU device 0 if there is one (first GPU in the system)\n",
    "device = torch.device(\"cuda:0\" if torch.cuda.is_available() else \"cpu\")\n",
    "m.to(device)"
   ]
  },
  {
   "cell_type": "code",
   "execution_count": 149,
   "id": "04fe5ee3-4769-437d-a6e1-8692faffd1eb",
   "metadata": {},
   "outputs": [
    {
     "data": {
      "text/plain": [
       "array([[2., 5., 3., 7.],\n",
       "       [4., 2., 1., 9.]], dtype=float32)"
      ]
     },
     "execution_count": 149,
     "metadata": {},
     "output_type": "execute_result"
    }
   ],
   "source": [
    "# Converts tensor to numpy array\n",
    "m_np = m.numpy()\n",
    "m_np"
   ]
  },
  {
   "cell_type": "code",
   "execution_count": 152,
   "id": "88e7e696-0475-45aa-a5a3-4e5affc2b2fc",
   "metadata": {},
   "outputs": [
    {
     "name": "stdout",
     "output_type": "stream",
     "text": [
      "[0 1 2 3 4] tensor([0, 1, 2, 3, 4])\n"
     ]
    },
    {
     "data": {
      "text/plain": [
       "array([0, 2, 4, 6, 8])"
      ]
     },
     "execution_count": 152,
     "metadata": {},
     "output_type": "execute_result"
    }
   ],
   "source": [
    "# Create a tensor of integers ranging from 0 to 4\n",
    "import numpy as np\n",
    "n_np = np.arange(5)\n",
    "n = torch.from_numpy(n_np)\n",
    "print(n_np, n)\n",
    "\n",
    "# In-place multiplication of all elements by 2 for tensor n\n",
    "# Because n is essentiall n_np, not a clone, this affects n_np\n",
    "n.mul_(2)\n",
    "n_np"
   ]
  },
  {
   "cell_type": "code",
   "execution_count": 155,
   "id": "5efde070-3efa-4aaf-ad1d-92082d9af84a",
   "metadata": {},
   "outputs": [
    {
     "name": "stdout",
     "output_type": "stream",
     "text": [
      "torch.Size([1, 4]) tensor([[5., 6., 7., 8.]])\n",
      "tensor([[1., 2., 3., 4.],\n",
      "        [5., 6., 7., 8.]])\n",
      "tensor([[1., 2., 3., 4., 5., 6., 7., 8.]])\n"
     ]
    }
   ],
   "source": [
    "# Creates two tensor of size 1x4\n",
    "a = torch.Tensor([[1, 2, 3, 4]])\n",
    "b = torch.Tensor([[5, 6, 7, 8]])\n",
    "print(a.size(), b)\n",
    "\n",
    "# Concatenate on axis 0, so you get 2x4\n",
    "x =  torch.cat((a, b), 0)\n",
    "print(x)\n",
    "\n",
    "# Concatenate on axis 1, so you get 1x8\n",
    "y = torch.cat((a, b), 1)\n",
    "print(y)"
   ]
  },
  {
   "cell_type": "code",
   "execution_count": null,
   "id": "e3600e0e-690f-4c83-806c-abced455e855",
   "metadata": {},
   "outputs": [],
   "source": []
  }
 ],
 "metadata": {
  "kernelspec": {
   "display_name": "Python 3 (ipykernel)",
   "language": "python",
   "name": "python3"
  },
  "language_info": {
   "codemirror_mode": {
    "name": "ipython",
    "version": 3
   },
   "file_extension": ".py",
   "mimetype": "text/x-python",
   "name": "python",
   "nbconvert_exporter": "python",
   "pygments_lexer": "ipython3",
   "version": "3.9.15"
  },
  "vscode": {
   "interpreter": {
    "hash": "7b6db0c1d442fe597d9b481cd2ea939a45b3fa778adc3bd0e8ea6ed6edc9a97e"
   }
  }
 },
 "nbformat": 4,
 "nbformat_minor": 5
}
