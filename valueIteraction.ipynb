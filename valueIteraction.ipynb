{
 "cells": [
  {
   "cell_type": "markdown",
   "metadata": {},
   "source": [
    "# Value Iteraction"
   ]
  },
  {
   "cell_type": "code",
   "execution_count": null,
   "metadata": {
    "tags": []
   },
   "outputs": [],
   "source": [
    "# Import tools\n",
    "\n",
    "import numpy as np\n",
    "import pprint\n",
    "import sys\n",
    "if \"../\" not in sys.path:\n",
    "    sys.path.append(\"../\")\n",
    "from enviroments.gridWorld import GridWorldEnv\n",
    "import gym"
   ]
  },
  {
   "cell_type": "markdown",
   "metadata": {},
   "source": [
    "## Create environment"
   ]
  },
  {
   "cell_type": "code",
   "execution_count": null,
   "metadata": {},
   "outputs": [],
   "source": [
    "pp = pprint.PrettyPrinter(indent=2)\n",
    "env = GridWorldEnv()"
   ]
  },
  {
   "cell_type": "markdown",
   "metadata": {},
   "source": [
    "## Value iteraction"
   ]
  },
  {
   "cell_type": "code",
   "execution_count": null,
   "metadata": {},
   "outputs": [],
   "source": [
    "def valueIteraction(enviroment,theta=0.0001,discountFactor=1.0):\n",
    "    \"\"\"\n",
    "    #TODO: add definition\n",
    "    #TODO: create a own argmax because it not works\n",
    "    #TODO: comment the code\n",
    "    \"\"\"\n",
    "    V = np.zeros(env.nS) #value function\n",
    "    policy = np.zeros([env.nS,env.nA])\n",
    "    A = np.zeros(env.nA) #best actions \n",
    "    pi = np.zeros(env.nS)\n",
    "\n",
    "    while True:\n",
    "\n",
    "        delta = 0\n",
    "\n",
    "        for s in range(env.nS):\n",
    "\n",
    "            v = V[s] #best action value\n",
    "            \n",
    "            #ecuation\n",
    "            for a in range(env.nA):\n",
    "                for p, nextS, reward, done in enviroment.P[s][a]:\n",
    "                    A[a] = p * (reward + discountFactor * V[nextS])\n",
    "\n",
    "            V[s] = max(A)\n",
    "\n",
    "            delta = max(delta,np.abs(v-V[s]))\n",
    "\n",
    "        if delta < theta:\n",
    "            break\n",
    "\n",
    "        #find the optimal value function\n",
    "    for s in range(env.nS):\n",
    "\n",
    "        for a in range(env.nA):\n",
    "            for p, nextS, reward, done in enviroment.P[s][a]:\n",
    "                A[a] = p * (reward + discountFactor * V[nextS])\n",
    "\n",
    "        bestAction = np.argmax(A) \n",
    "        policy[s,bestAction] = 1.0\n",
    "\n",
    "    \n",
    "\n",
    "    return policy,V\n",
    "    "
   ]
  },
  {
   "cell_type": "markdown",
   "metadata": {},
   "source": [
    "## Test"
   ]
  },
  {
   "cell_type": "code",
   "execution_count": null,
   "metadata": {},
   "outputs": [],
   "source": [
    "policy,v = valueIteraction(env)\n",
    "\n",
    "print('policy: ')\n",
    "print(policy)\n",
    "print(\"\")\n",
    "print('values function:')\n",
    "print(v)\n",
    "print(\"\")\n",
    "print('value function reshape')\n",
    "print(v.reshape(env.shape))"
   ]
  }
 ],
 "metadata": {
  "kernelspec": {
   "display_name": "Python 3 (ipykernel)",
   "language": "python",
   "name": "python3"
  },
  "language_info": {
   "codemirror_mode": {
    "name": "ipython",
    "version": 3
   },
   "file_extension": ".py",
   "mimetype": "text/x-python",
   "name": "python",
   "nbconvert_exporter": "python",
   "pygments_lexer": "ipython3",
   "version": "3.10.12"
  }
 },
 "nbformat": 4,
 "nbformat_minor": 4
}
